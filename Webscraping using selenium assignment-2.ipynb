{
 "cells": [
  {
   "cell_type": "code",
   "execution_count": 1,
   "id": "60d3299f",
   "metadata": {},
   "outputs": [
    {
     "name": "stdout",
     "output_type": "stream",
     "text": [
      "Requirement already satisfied: selenium in c:\\users\\user\\anaconda3.1\\lib\\site-packages (4.15.2)\n",
      "Requirement already satisfied: urllib3[socks]<3,>=1.26 in c:\\users\\user\\anaconda3.1\\lib\\site-packages (from selenium) (1.26.16)\n",
      "Requirement already satisfied: trio~=0.17 in c:\\users\\user\\anaconda3.1\\lib\\site-packages (from selenium) (0.23.1)\n",
      "Requirement already satisfied: trio-websocket~=0.9 in c:\\users\\user\\anaconda3.1\\lib\\site-packages (from selenium) (0.11.1)\n",
      "Requirement already satisfied: certifi>=2021.10.8 in c:\\users\\user\\anaconda3.1\\lib\\site-packages (from selenium) (2023.5.7)\n",
      "Requirement already satisfied: attrs>=20.1.0 in c:\\users\\user\\anaconda3.1\\lib\\site-packages (from trio~=0.17->selenium) (22.1.0)\n",
      "Requirement already satisfied: sortedcontainers in c:\\users\\user\\anaconda3.1\\lib\\site-packages (from trio~=0.17->selenium) (2.4.0)\n",
      "Requirement already satisfied: idna in c:\\users\\user\\anaconda3.1\\lib\\site-packages (from trio~=0.17->selenium) (3.4)\n",
      "Requirement already satisfied: outcome in c:\\users\\user\\anaconda3.1\\lib\\site-packages (from trio~=0.17->selenium) (1.3.0.post0)\n",
      "Requirement already satisfied: sniffio>=1.3.0 in c:\\users\\user\\anaconda3.1\\lib\\site-packages (from trio~=0.17->selenium) (1.3.0)\n",
      "Requirement already satisfied: cffi>=1.14 in c:\\users\\user\\anaconda3.1\\lib\\site-packages (from trio~=0.17->selenium) (1.15.1)\n",
      "Requirement already satisfied: wsproto>=0.14 in c:\\users\\user\\anaconda3.1\\lib\\site-packages (from trio-websocket~=0.9->selenium) (1.2.0)\n",
      "Requirement already satisfied: PySocks!=1.5.7,<2.0,>=1.5.6 in c:\\users\\user\\anaconda3.1\\lib\\site-packages (from urllib3[socks]<3,>=1.26->selenium) (1.7.1)\n",
      "Requirement already satisfied: pycparser in c:\\users\\user\\anaconda3.1\\lib\\site-packages (from cffi>=1.14->trio~=0.17->selenium) (2.21)\n",
      "Requirement already satisfied: h11<1,>=0.9.0 in c:\\users\\user\\anaconda3.1\\lib\\site-packages (from wsproto>=0.14->trio-websocket~=0.9->selenium) (0.14.0)\n"
     ]
    }
   ],
   "source": [
    "!pip install selenium"
   ]
  },
  {
   "cell_type": "code",
   "execution_count": 2,
   "id": "76106c65",
   "metadata": {},
   "outputs": [],
   "source": [
    "import selenium\n",
    "import pandas as pd\n",
    "from selenium import webdriver\n",
    "import warnings\n",
    "warnings.filterwarnings('ignore')\n",
    "from selenium.webdriver.common.by import By\n",
    "import time\n",
    "from selenium.common.exceptions import StaleElementReferenceException, NoSuchElementException\n",
    "import requests\n",
    "import time"
   ]
  },
  {
   "cell_type": "markdown",
   "id": "e892efd7",
   "metadata": {},
   "source": [
    "# 1.Scrape Data for Data Analyst in shine.com"
   ]
  },
  {
   "cell_type": "code",
   "execution_count": 37,
   "id": "6818c9b6",
   "metadata": {},
   "outputs": [],
   "source": [
    "driver=webdriver.Chrome()"
   ]
  },
  {
   "cell_type": "code",
   "execution_count": 38,
   "id": "894166de",
   "metadata": {},
   "outputs": [],
   "source": [
    "driver.get(\"https://www.shine.com/\")"
   ]
  },
  {
   "cell_type": "code",
   "execution_count": 42,
   "id": "5d006831",
   "metadata": {},
   "outputs": [],
   "source": [
    "jobs=driver.find_element(By.XPATH,\"/html/body/div/ul/li[2]/a/span\")\n",
    "jobs.click()"
   ]
  },
  {
   "cell_type": "code",
   "execution_count": 43,
   "id": "398fc0ae",
   "metadata": {},
   "outputs": [],
   "source": [
    "designation=driver.find_element(By.XPATH,'/html/body/div/div[1]/div/div/div[1]/div[1]/div/div[2]/div/div/form/div/div[1]/ul/li[1]/div/input')\n",
    "designation.send_keys(\"Data Analyst\")"
   ]
  },
  {
   "cell_type": "code",
   "execution_count": 44,
   "id": "f2199bcb",
   "metadata": {},
   "outputs": [],
   "source": [
    "location=driver.find_element(By.XPATH,\"/html/body/div/div[1]/div/div/div[1]/div[1]/div/div[2]/div/div/form/div/div[1]/ul/li[2]/div/input\")\n",
    "location.send_keys(\"Bangalore\")"
   ]
  },
  {
   "cell_type": "code",
   "execution_count": 47,
   "id": "d133402b",
   "metadata": {},
   "outputs": [],
   "source": [
    "search=driver.find_element(By.XPATH,\"/html/body/div/div[1]/div/div/div[1]/div[1]/div/div[2]/div/div/form/div/div[2]/div/button\")\n",
    "search.click()"
   ]
  },
  {
   "cell_type": "code",
   "execution_count": 48,
   "id": "d597cb68",
   "metadata": {},
   "outputs": [
    {
     "data": {
      "text/plain": [
       "['Marketing Data Analyst',\n",
       " 'Data Analyst Recruitment',\n",
       " 'Data Analyst',\n",
       " 'Vacancy For Data Analyst',\n",
       " 'Project Coordinator (Data Analyst) Bangalore',\n",
       " 'Project Coordinator (Data analyst) Bangalore',\n",
       " 'Business Data Analyst - Modeling & Profiling',\n",
       " 'Data analyst - Java / Python',\n",
       " 'Data Analyst - Java/Python',\n",
       " 'Data Analyst - SQL/ Database Maintenance']"
      ]
     },
     "execution_count": 48,
     "metadata": {},
     "output_type": "execute_result"
    }
   ],
   "source": [
    "Title=[]\n",
    "title=driver.find_elements(By.XPATH,'//div/h2[@itemprop=\"name\"]')\n",
    "for i in title:                      \n",
    "    title=i.text  \n",
    "    Title.append(title)\n",
    "    if len(Title)==10:\n",
    "        break\n",
    "Title"
   ]
  },
  {
   "cell_type": "code",
   "execution_count": 49,
   "id": "0e5593bd",
   "metadata": {},
   "outputs": [
    {
     "data": {
      "text/plain": [
       "['Bangalore\\n+1',\n",
       " 'Bangalore\\n+13',\n",
       " 'Bangalore\\n+9',\n",
       " 'Bangalore\\n+13',\n",
       " 'Bangalore',\n",
       " 'Bangalore',\n",
       " 'Bangalore',\n",
       " 'Bangalore',\n",
       " 'Bangalore',\n",
       " 'Bangalore']"
      ]
     },
     "execution_count": 49,
     "metadata": {},
     "output_type": "execute_result"
    }
   ],
   "source": [
    "Location=[]\n",
    "location=driver.find_elements(By.XPATH,'//div[@class=\" jobCard_jobCard_lists_item__YxRkV jobCard_locationIcon__zrWt2\"]')\n",
    "for i in location:                      \n",
    "    location=i.text  \n",
    "    Location.append(location)\n",
    "    if len(Location)==10:\n",
    "        break\n",
    "Location"
   ]
  },
  {
   "cell_type": "code",
   "execution_count": 52,
   "id": "bb1f6fdc",
   "metadata": {},
   "outputs": [
    {
     "data": {
      "text/plain": [
       "['novel group',\n",
       " 'kavya interprises',\n",
       " 'hire connect',\n",
       " 'kavya interprises',\n",
       " 'futures and careers',\n",
       " 'futures and careers',\n",
       " 'boyen haddin consulting and technol...',\n",
       " 'boyen haddin consulting and technol...',\n",
       " 'boyen haddin consulting and technol...',\n",
       " 'boyen haddin consulting and technol...']"
      ]
     },
     "execution_count": 52,
     "metadata": {},
     "output_type": "execute_result"
    }
   ],
   "source": [
    "Company=[]\n",
    "company=driver.find_elements(By.XPATH,'//div[@class=\"jobCard_jobCard_cName__mYnow\"]')\n",
    "for i in company:\n",
    "    company=i.text\n",
    "    Company.append(company)\n",
    "    if len(Company)==10:\n",
    "        break\n",
    "Company"
   ]
  },
  {
   "cell_type": "code",
   "execution_count": 56,
   "id": "5c86268d",
   "metadata": {},
   "outputs": [
    {
     "data": {
      "text/plain": [
       "['2 to 6 Yrs',\n",
       " '0 to 4 Yrs',\n",
       " '0 to 1 Yr',\n",
       " '0 to 4 Yrs',\n",
       " '2 to 4 Yrs',\n",
       " '2 to 4 Yrs',\n",
       " '2 to 6 Yrs',\n",
       " '5 to 10 Yrs',\n",
       " '2 to 6 Yrs',\n",
       " '2 to 6 Yrs']"
      ]
     },
     "execution_count": 56,
     "metadata": {},
     "output_type": "execute_result"
    }
   ],
   "source": [
    "Experience=[]\n",
    "experience=driver.find_elements(By.XPATH,'//div[@class=\" jobCard_jobCard_lists_item__YxRkV jobCard_jobIcon__3FB1t\"]')\n",
    "for i in experience:\n",
    "    experience=i.text\n",
    "    Experience.append(experience)\n",
    "    if len(Experience)==10:\n",
    "        break\n",
    "Experience"
   ]
  },
  {
   "cell_type": "code",
   "execution_count": 57,
   "id": "74a6f33e",
   "metadata": {},
   "outputs": [
    {
     "data": {
      "text/html": [
       "<div>\n",
       "<style scoped>\n",
       "    .dataframe tbody tr th:only-of-type {\n",
       "        vertical-align: middle;\n",
       "    }\n",
       "\n",
       "    .dataframe tbody tr th {\n",
       "        vertical-align: top;\n",
       "    }\n",
       "\n",
       "    .dataframe thead th {\n",
       "        text-align: right;\n",
       "    }\n",
       "</style>\n",
       "<table border=\"1\" class=\"dataframe\">\n",
       "  <thead>\n",
       "    <tr style=\"text-align: right;\">\n",
       "      <th></th>\n",
       "      <th>job-title</th>\n",
       "      <th>job-location</th>\n",
       "      <th>company_name</th>\n",
       "      <th>experience_required</th>\n",
       "    </tr>\n",
       "  </thead>\n",
       "  <tbody>\n",
       "    <tr>\n",
       "      <th>0</th>\n",
       "      <td>Marketing Data Analyst</td>\n",
       "      <td>Bangalore\\n+1</td>\n",
       "      <td>novel group</td>\n",
       "      <td>2 to 6 Yrs</td>\n",
       "    </tr>\n",
       "    <tr>\n",
       "      <th>1</th>\n",
       "      <td>Data Analyst Recruitment</td>\n",
       "      <td>Bangalore\\n+13</td>\n",
       "      <td>kavya interprises</td>\n",
       "      <td>0 to 4 Yrs</td>\n",
       "    </tr>\n",
       "    <tr>\n",
       "      <th>2</th>\n",
       "      <td>Data Analyst</td>\n",
       "      <td>Bangalore\\n+9</td>\n",
       "      <td>hire connect</td>\n",
       "      <td>0 to 1 Yr</td>\n",
       "    </tr>\n",
       "    <tr>\n",
       "      <th>3</th>\n",
       "      <td>Vacancy For Data Analyst</td>\n",
       "      <td>Bangalore\\n+13</td>\n",
       "      <td>kavya interprises</td>\n",
       "      <td>0 to 4 Yrs</td>\n",
       "    </tr>\n",
       "    <tr>\n",
       "      <th>4</th>\n",
       "      <td>Project Coordinator (Data Analyst) Bangalore</td>\n",
       "      <td>Bangalore</td>\n",
       "      <td>futures and careers</td>\n",
       "      <td>2 to 4 Yrs</td>\n",
       "    </tr>\n",
       "    <tr>\n",
       "      <th>5</th>\n",
       "      <td>Project Coordinator (Data analyst) Bangalore</td>\n",
       "      <td>Bangalore</td>\n",
       "      <td>futures and careers</td>\n",
       "      <td>2 to 4 Yrs</td>\n",
       "    </tr>\n",
       "    <tr>\n",
       "      <th>6</th>\n",
       "      <td>Business Data Analyst - Modeling &amp; Profiling</td>\n",
       "      <td>Bangalore</td>\n",
       "      <td>boyen haddin consulting and technol...</td>\n",
       "      <td>2 to 6 Yrs</td>\n",
       "    </tr>\n",
       "    <tr>\n",
       "      <th>7</th>\n",
       "      <td>Data analyst - Java / Python</td>\n",
       "      <td>Bangalore</td>\n",
       "      <td>boyen haddin consulting and technol...</td>\n",
       "      <td>5 to 10 Yrs</td>\n",
       "    </tr>\n",
       "    <tr>\n",
       "      <th>8</th>\n",
       "      <td>Data Analyst - Java/Python</td>\n",
       "      <td>Bangalore</td>\n",
       "      <td>boyen haddin consulting and technol...</td>\n",
       "      <td>2 to 6 Yrs</td>\n",
       "    </tr>\n",
       "    <tr>\n",
       "      <th>9</th>\n",
       "      <td>Data Analyst - SQL/ Database Maintenance</td>\n",
       "      <td>Bangalore</td>\n",
       "      <td>boyen haddin consulting and technol...</td>\n",
       "      <td>2 to 6 Yrs</td>\n",
       "    </tr>\n",
       "  </tbody>\n",
       "</table>\n",
       "</div>"
      ],
      "text/plain": [
       "                                      job-title    job-location  \\\n",
       "0                        Marketing Data Analyst   Bangalore\\n+1   \n",
       "1                      Data Analyst Recruitment  Bangalore\\n+13   \n",
       "2                                  Data Analyst   Bangalore\\n+9   \n",
       "3                      Vacancy For Data Analyst  Bangalore\\n+13   \n",
       "4  Project Coordinator (Data Analyst) Bangalore       Bangalore   \n",
       "5  Project Coordinator (Data analyst) Bangalore       Bangalore   \n",
       "6  Business Data Analyst - Modeling & Profiling       Bangalore   \n",
       "7                  Data analyst - Java / Python       Bangalore   \n",
       "8                    Data Analyst - Java/Python       Bangalore   \n",
       "9      Data Analyst - SQL/ Database Maintenance       Bangalore   \n",
       "\n",
       "                             company_name experience_required  \n",
       "0                             novel group          2 to 6 Yrs  \n",
       "1                       kavya interprises          0 to 4 Yrs  \n",
       "2                            hire connect           0 to 1 Yr  \n",
       "3                       kavya interprises          0 to 4 Yrs  \n",
       "4                     futures and careers          2 to 4 Yrs  \n",
       "5                     futures and careers          2 to 4 Yrs  \n",
       "6  boyen haddin consulting and technol...          2 to 6 Yrs  \n",
       "7  boyen haddin consulting and technol...         5 to 10 Yrs  \n",
       "8  boyen haddin consulting and technol...          2 to 6 Yrs  \n",
       "9  boyen haddin consulting and technol...          2 to 6 Yrs  "
      ]
     },
     "execution_count": 57,
     "metadata": {},
     "output_type": "execute_result"
    }
   ],
   "source": [
    "df=pd.DataFrame({\"job-title\":Title,\"job-location\":Location,\"company_name\":Company,\"experience_required\":Experience})\n",
    "df"
   ]
  },
  {
   "cell_type": "markdown",
   "id": "d2c897a6",
   "metadata": {},
   "source": [
    "# 2.Scrape Data for Data Analyst in shine.com"
   ]
  },
  {
   "cell_type": "code",
   "execution_count": 71,
   "id": "d6308c16",
   "metadata": {},
   "outputs": [],
   "source": [
    "driver=webdriver.Chrome()"
   ]
  },
  {
   "cell_type": "code",
   "execution_count": 72,
   "id": "ee57422d",
   "metadata": {},
   "outputs": [],
   "source": [
    "driver.get(\"https://www.shine.com/\")"
   ]
  },
  {
   "cell_type": "code",
   "execution_count": 74,
   "id": "55fa95a5",
   "metadata": {},
   "outputs": [],
   "source": [
    "jobs=driver.find_element(By.XPATH,\"/html/body/div/ul/li[2]/a/span\")\n",
    "jobs.click()"
   ]
  },
  {
   "cell_type": "code",
   "execution_count": 75,
   "id": "646402a9",
   "metadata": {},
   "outputs": [],
   "source": [
    "designation=driver.find_element(By.XPATH,\"/html/body/div/div[1]/div/div/div[1]/div[1]/div/div[2]/div/div/form/div/div[1]/ul/li[1]/div/input\")\n",
    "designation.send_keys(\"Data Scientist\")\n"
   ]
  },
  {
   "cell_type": "code",
   "execution_count": 76,
   "id": "4fd12f40",
   "metadata": {},
   "outputs": [],
   "source": [
    "loc=driver.find_element(By.XPATH,\"/html/body/div/div[1]/div/div/div[1]/div[1]/div/div[2]/div/div/form/div/div[1]/ul/li[2]/div/input\")\n",
    "loc.send_keys(\"Bangalore\")\n"
   ]
  },
  {
   "cell_type": "code",
   "execution_count": 78,
   "id": "49780dcf",
   "metadata": {},
   "outputs": [],
   "source": [
    "search=driver.find_element(By.XPATH,\"/html/body/div/div[1]/div/div/div[1]/div[1]/div/div[2]/div/div/form/div/div[2]/div/button\")\n",
    "search.click()"
   ]
  },
  {
   "cell_type": "code",
   "execution_count": 80,
   "id": "96bb5b44",
   "metadata": {},
   "outputs": [
    {
     "data": {
      "text/plain": [
       "['Data scientist',\n",
       " 'Data Scientist - Business Intelligence',\n",
       " 'Data Scientist for Bangalore',\n",
       " 'Data Scientist - Spark/Python/Redshift',\n",
       " 'Data Scientist - Machine Learning',\n",
       " 'Hiring For Data Scientist',\n",
       " 'Hiring For Data Scientist',\n",
       " 'Data Scientist',\n",
       " 'Data Scientist- Associate',\n",
       " 'Data Scientist Vacancy']"
      ]
     },
     "execution_count": 80,
     "metadata": {},
     "output_type": "execute_result"
    }
   ],
   "source": [
    "Title=[]\n",
    "title=driver.find_elements(By.XPATH,'//h2[@itemprop=\"name\"]')\n",
    "for i in title:\n",
    "    title=i.text\n",
    "    Title.append(title)\n",
    "    if len(Title)==10:\n",
    "        break\n",
    "Title"
   ]
  },
  {
   "cell_type": "code",
   "execution_count": 84,
   "id": "ad14c976",
   "metadata": {},
   "outputs": [
    {
     "data": {
      "text/plain": [
       "['Bangalore\\n+8',\n",
       " 'Bangalore',\n",
       " 'Bangalore',\n",
       " 'Bangalore',\n",
       " 'Bangalore',\n",
       " 'Bangalore\\n+13',\n",
       " 'Bangalore\\n+13',\n",
       " 'Bangalore',\n",
       " 'Bangalore',\n",
       " 'Bangalore\\n+14']"
      ]
     },
     "execution_count": 84,
     "metadata": {},
     "output_type": "execute_result"
    }
   ],
   "source": [
    "Location=[]\n",
    "location=driver.find_elements(By.XPATH,'//div[@class=\" jobCard_jobCard_lists_item__YxRkV jobCard_locationIcon__zrWt2\"]')\n",
    "for i in location:\n",
    "    location=i.text\n",
    "    Location.append(location)\n",
    "    if len(Location)==10:\n",
    "        break\n",
    "Location"
   ]
  },
  {
   "cell_type": "code",
   "execution_count": 85,
   "id": "762fc98d",
   "metadata": {},
   "outputs": [
    {
     "data": {
      "text/plain": [
       "['capgemini technology services india...',\n",
       " 'boyen haddin consulting and technol...',\n",
       " 'get hired',\n",
       " 'boyen haddin consulting and technol...',\n",
       " 'boyen haddin consulting and technol...',\n",
       " 'kavya interprises',\n",
       " 'kavya interprises',\n",
       " 'ibm india pvt. limited',\n",
       " 'jpmorgan',\n",
       " 'divya interprises']"
      ]
     },
     "execution_count": 85,
     "metadata": {},
     "output_type": "execute_result"
    }
   ],
   "source": [
    "Company=[]\n",
    "company=driver.find_elements(By.XPATH,'//div[@class=\"jobCard_jobCard_cName__mYnow\"]')\n",
    "for i in company:\n",
    "    company=i.text\n",
    "    Company.append(company)\n",
    "    if len(Company)==10:\n",
    "        break\n",
    "Company"
   ]
  },
  {
   "cell_type": "code",
   "execution_count": 87,
   "id": "b8de5596",
   "metadata": {},
   "outputs": [
    {
     "data": {
      "text/html": [
       "<div>\n",
       "<style scoped>\n",
       "    .dataframe tbody tr th:only-of-type {\n",
       "        vertical-align: middle;\n",
       "    }\n",
       "\n",
       "    .dataframe tbody tr th {\n",
       "        vertical-align: top;\n",
       "    }\n",
       "\n",
       "    .dataframe thead th {\n",
       "        text-align: right;\n",
       "    }\n",
       "</style>\n",
       "<table border=\"1\" class=\"dataframe\">\n",
       "  <thead>\n",
       "    <tr style=\"text-align: right;\">\n",
       "      <th></th>\n",
       "      <th>job-title</th>\n",
       "      <th>job-location</th>\n",
       "      <th>company</th>\n",
       "    </tr>\n",
       "  </thead>\n",
       "  <tbody>\n",
       "    <tr>\n",
       "      <th>0</th>\n",
       "      <td>Data scientist</td>\n",
       "      <td>Bangalore\\n+8</td>\n",
       "      <td>capgemini technology services india...</td>\n",
       "    </tr>\n",
       "    <tr>\n",
       "      <th>1</th>\n",
       "      <td>Data Scientist - Business Intelligence</td>\n",
       "      <td>Bangalore</td>\n",
       "      <td>boyen haddin consulting and technol...</td>\n",
       "    </tr>\n",
       "    <tr>\n",
       "      <th>2</th>\n",
       "      <td>Data Scientist for Bangalore</td>\n",
       "      <td>Bangalore</td>\n",
       "      <td>get hired</td>\n",
       "    </tr>\n",
       "    <tr>\n",
       "      <th>3</th>\n",
       "      <td>Data Scientist - Spark/Python/Redshift</td>\n",
       "      <td>Bangalore</td>\n",
       "      <td>boyen haddin consulting and technol...</td>\n",
       "    </tr>\n",
       "    <tr>\n",
       "      <th>4</th>\n",
       "      <td>Data Scientist - Machine Learning</td>\n",
       "      <td>Bangalore</td>\n",
       "      <td>boyen haddin consulting and technol...</td>\n",
       "    </tr>\n",
       "    <tr>\n",
       "      <th>5</th>\n",
       "      <td>Hiring For Data Scientist</td>\n",
       "      <td>Bangalore\\n+13</td>\n",
       "      <td>kavya interprises</td>\n",
       "    </tr>\n",
       "    <tr>\n",
       "      <th>6</th>\n",
       "      <td>Hiring For Data Scientist</td>\n",
       "      <td>Bangalore\\n+13</td>\n",
       "      <td>kavya interprises</td>\n",
       "    </tr>\n",
       "    <tr>\n",
       "      <th>7</th>\n",
       "      <td>Data Scientist</td>\n",
       "      <td>Bangalore</td>\n",
       "      <td>ibm india pvt. limited</td>\n",
       "    </tr>\n",
       "    <tr>\n",
       "      <th>8</th>\n",
       "      <td>Data Scientist- Associate</td>\n",
       "      <td>Bangalore</td>\n",
       "      <td>jpmorgan</td>\n",
       "    </tr>\n",
       "    <tr>\n",
       "      <th>9</th>\n",
       "      <td>Data Scientist Vacancy</td>\n",
       "      <td>Bangalore\\n+14</td>\n",
       "      <td>divya interprises</td>\n",
       "    </tr>\n",
       "  </tbody>\n",
       "</table>\n",
       "</div>"
      ],
      "text/plain": [
       "                                job-title    job-location  \\\n",
       "0                          Data scientist   Bangalore\\n+8   \n",
       "1  Data Scientist - Business Intelligence       Bangalore   \n",
       "2            Data Scientist for Bangalore       Bangalore   \n",
       "3  Data Scientist - Spark/Python/Redshift       Bangalore   \n",
       "4       Data Scientist - Machine Learning       Bangalore   \n",
       "5               Hiring For Data Scientist  Bangalore\\n+13   \n",
       "6               Hiring For Data Scientist  Bangalore\\n+13   \n",
       "7                          Data Scientist       Bangalore   \n",
       "8               Data Scientist- Associate       Bangalore   \n",
       "9                  Data Scientist Vacancy  Bangalore\\n+14   \n",
       "\n",
       "                                  company  \n",
       "0  capgemini technology services india...  \n",
       "1  boyen haddin consulting and technol...  \n",
       "2                               get hired  \n",
       "3  boyen haddin consulting and technol...  \n",
       "4  boyen haddin consulting and technol...  \n",
       "5                       kavya interprises  \n",
       "6                       kavya interprises  \n",
       "7                  ibm india pvt. limited  \n",
       "8                                jpmorgan  \n",
       "9                       divya interprises  "
      ]
     },
     "execution_count": 87,
     "metadata": {},
     "output_type": "execute_result"
    }
   ],
   "source": [
    "df=pd.DataFrame({\"job-title\":Title,\"job-location\":Location,\"company\":Company})\n",
    "df"
   ]
  },
  {
   "cell_type": "markdown",
   "id": "f28251a7",
   "metadata": {},
   "source": [
    "# 3.Scrape using filters in shine.com"
   ]
  },
  {
   "cell_type": "code",
   "execution_count": 120,
   "id": "9edc0d6b",
   "metadata": {},
   "outputs": [],
   "source": [
    "driver=webdriver.Chrome()"
   ]
  },
  {
   "cell_type": "code",
   "execution_count": 121,
   "id": "530073ff",
   "metadata": {},
   "outputs": [],
   "source": [
    "driver.get(\"https://www.shine.com/\")"
   ]
  },
  {
   "cell_type": "code",
   "execution_count": 122,
   "id": "b0cd9c5d",
   "metadata": {},
   "outputs": [],
   "source": [
    "jobs=driver.find_element(By.XPATH,\"/html/body/div/ul/li[2]/a/span\")\n",
    "jobs.click()"
   ]
  },
  {
   "cell_type": "code",
   "execution_count": 123,
   "id": "1ab82b8d",
   "metadata": {},
   "outputs": [],
   "source": [
    "designation=driver.find_element(By.XPATH,'/html/body/div/div[1]/div/div/div[1]/div[1]/div/div[2]/div/div/form/div/div[1]/ul/li[1]/div/input')\n",
    "designation.send_keys(\"Data Scientist\")"
   ]
  },
  {
   "cell_type": "code",
   "execution_count": 125,
   "id": "9cd66044",
   "metadata": {},
   "outputs": [],
   "source": [
    "search=driver.find_element(By.XPATH,\"/html/body/div/div[1]/div/div/div[1]/div[1]/div/div[2]/div/div/form/div/div[2]/div/button\")\n",
    "search.click()"
   ]
  },
  {
   "cell_type": "code",
   "execution_count": 126,
   "id": "e94ca3cd",
   "metadata": {},
   "outputs": [],
   "source": [
    "loc_filter=driver.find_element(By.XPATH,'/html/body/div[1]/div[1]/div[3]/div/div[1]/div/div[2]/div/ul/li[1]/button/i')\n",
    "loc_filter.click()"
   ]
  },
  {
   "cell_type": "code",
   "execution_count": 129,
   "id": "37dee861",
   "metadata": {},
   "outputs": [],
   "source": [
    "Delhi_check=driver.find_element(By.XPATH,'/html/body/div[1]/div[1]/div[3]/div/div[1]/div/div[2]/div[2]/div/div/div/div[3]/div/div/div/ul/li[13]/span/label')\n",
    "Delhi_check.click()"
   ]
  },
  {
   "cell_type": "code",
   "execution_count": 130,
   "id": "53d023c2",
   "metadata": {},
   "outputs": [],
   "source": [
    "Sal_filter=driver.find_element(By.XPATH,\"/html/body/div[1]/div[1]/div[3]/div/div[1]/div/div[2]/div[2]/div/div/div/div[3]/div/ul/li[3]\")\n",
    "Sal_filter.click()"
   ]
  },
  {
   "cell_type": "code",
   "execution_count": 131,
   "id": "bd9f30e0",
   "metadata": {},
   "outputs": [],
   "source": [
    "Sal_check=driver.find_element(By.XPATH,'/html/body/div[1]/div[1]/div[3]/div/div[1]/div/div[2]/div[2]/div/div/div/div[3]/div/div/div/ul/li[3]/span/label')\n",
    "Sal_check.click()"
   ]
  },
  {
   "cell_type": "code",
   "execution_count": 132,
   "id": "9b7c227a",
   "metadata": {},
   "outputs": [],
   "source": [
    "search_click=driver.find_element(By.XPATH,'/html/body/div[1]/div[1]/div[3]/div/div[1]/div/div[2]/div[2]/div/div/div/div[4]/button[2]')\n",
    "search_click.click()"
   ]
  },
  {
   "cell_type": "code",
   "execution_count": 133,
   "id": "f7bb1ca9",
   "metadata": {},
   "outputs": [
    {
     "data": {
      "text/plain": [
       "['Data Scientist for Delhi',\n",
       " 'Data Scientist- Delhi',\n",
       " 'Data Scientist-Delhi',\n",
       " 'Data Scientist- Delhi',\n",
       " 'Data Scientist- Delhi',\n",
       " 'Clinical Data Management',\n",
       " 'Data Engineer',\n",
       " 'Biostatisticians',\n",
       " 'Clinical Data Manager',\n",
       " 'Work Full/part-time / Work From Home / Computer Operato ...']"
      ]
     },
     "execution_count": 133,
     "metadata": {},
     "output_type": "execute_result"
    }
   ],
   "source": [
    "Title=[]\n",
    "title=driver.find_elements(By.XPATH,'//h2[@itemprop=\"name\"]')\n",
    "for i in title:                      \n",
    "    title=i.text  \n",
    "    Title.append(title)\n",
    "    if len(Title)==10:\n",
    "        break\n",
    "Title"
   ]
  },
  {
   "cell_type": "code",
   "execution_count": 134,
   "id": "73d967ab",
   "metadata": {},
   "outputs": [
    {
     "data": {
      "text/plain": [
       "['Delhi',\n",
       " 'Delhi',\n",
       " 'Delhi',\n",
       " 'Delhi',\n",
       " 'Delhi',\n",
       " 'Delhi\\n+6',\n",
       " 'Delhi',\n",
       " 'Delhi\\n+8',\n",
       " 'Delhi\\n+6',\n",
       " 'Delhi\\n+4']"
      ]
     },
     "execution_count": 134,
     "metadata": {},
     "output_type": "execute_result"
    }
   ],
   "source": [
    "Location=[]\n",
    "location=driver.find_elements(By.XPATH,'//div[@class=\" jobCard_jobCard_lists_item__YxRkV jobCard_locationIcon__zrWt2\"]')\n",
    "for i in location:                      \n",
    "    location=i.text  \n",
    "    Location.append(location)\n",
    "    if len(Location)==10:\n",
    "        break\n",
    "Location"
   ]
  },
  {
   "cell_type": "code",
   "execution_count": null,
   "id": "66ce36f2",
   "metadata": {},
   "outputs": [],
   "source": [
    "Company=[]\n",
    "company=driver.find_elements(By.XPATH,'//div[@class=\"jobCard_jobCard_cName__mYnow\"]')\n",
    "for i in company:\n",
    "    company=i.text\n",
    "    Company.append(company)\n",
    "    if len(Company)==10:\n",
    "        break\n",
    "Company"
   ]
  },
  {
   "cell_type": "code",
   "execution_count": 135,
   "id": "1a3f22b4",
   "metadata": {},
   "outputs": [
    {
     "data": {
      "text/plain": [
       "['0 to 3 Yrs',\n",
       " '0 to 3 Yrs',\n",
       " '0 to 3 Yrs',\n",
       " '0 to 3 Yrs',\n",
       " '0 to 3 Yrs',\n",
       " '0 to 1 Yr',\n",
       " '4 to 6 Yrs',\n",
       " '0 to 1 Yr',\n",
       " '0 to 1 Yr',\n",
       " '0 to 4 Yrs']"
      ]
     },
     "execution_count": 135,
     "metadata": {},
     "output_type": "execute_result"
    }
   ],
   "source": [
    "Experience=[]\n",
    "experience=driver.find_elements(By.XPATH,'//div[@class=\" jobCard_jobCard_lists_item__YxRkV jobCard_jobIcon__3FB1t\"]')\n",
    "for i in experience:\n",
    "    experience=i.text\n",
    "    Experience.append(experience)\n",
    "    if len(Experience)==10:\n",
    "        break\n",
    "Experience"
   ]
  },
  {
   "cell_type": "code",
   "execution_count": 136,
   "id": "2d8a82b4",
   "metadata": {},
   "outputs": [
    {
     "data": {
      "text/html": [
       "<div>\n",
       "<style scoped>\n",
       "    .dataframe tbody tr th:only-of-type {\n",
       "        vertical-align: middle;\n",
       "    }\n",
       "\n",
       "    .dataframe tbody tr th {\n",
       "        vertical-align: top;\n",
       "    }\n",
       "\n",
       "    .dataframe thead th {\n",
       "        text-align: right;\n",
       "    }\n",
       "</style>\n",
       "<table border=\"1\" class=\"dataframe\">\n",
       "  <thead>\n",
       "    <tr style=\"text-align: right;\">\n",
       "      <th></th>\n",
       "      <th>job-title</th>\n",
       "      <th>job-location</th>\n",
       "      <th>company name</th>\n",
       "      <th>experience required</th>\n",
       "    </tr>\n",
       "  </thead>\n",
       "  <tbody>\n",
       "    <tr>\n",
       "      <th>0</th>\n",
       "      <td>Data Scientist for Delhi</td>\n",
       "      <td>Delhi</td>\n",
       "      <td>capgemini technology services india...</td>\n",
       "      <td>0 to 3 Yrs</td>\n",
       "    </tr>\n",
       "    <tr>\n",
       "      <th>1</th>\n",
       "      <td>Data Scientist- Delhi</td>\n",
       "      <td>Delhi</td>\n",
       "      <td>boyen haddin consulting and technol...</td>\n",
       "      <td>0 to 3 Yrs</td>\n",
       "    </tr>\n",
       "    <tr>\n",
       "      <th>2</th>\n",
       "      <td>Data Scientist-Delhi</td>\n",
       "      <td>Delhi</td>\n",
       "      <td>get hired</td>\n",
       "      <td>0 to 3 Yrs</td>\n",
       "    </tr>\n",
       "    <tr>\n",
       "      <th>3</th>\n",
       "      <td>Data Scientist- Delhi</td>\n",
       "      <td>Delhi</td>\n",
       "      <td>boyen haddin consulting and technol...</td>\n",
       "      <td>0 to 3 Yrs</td>\n",
       "    </tr>\n",
       "    <tr>\n",
       "      <th>4</th>\n",
       "      <td>Data Scientist- Delhi</td>\n",
       "      <td>Delhi</td>\n",
       "      <td>boyen haddin consulting and technol...</td>\n",
       "      <td>0 to 3 Yrs</td>\n",
       "    </tr>\n",
       "    <tr>\n",
       "      <th>5</th>\n",
       "      <td>Clinical Data Management</td>\n",
       "      <td>Delhi\\n+6</td>\n",
       "      <td>kavya interprises</td>\n",
       "      <td>0 to 1 Yr</td>\n",
       "    </tr>\n",
       "    <tr>\n",
       "      <th>6</th>\n",
       "      <td>Data Engineer</td>\n",
       "      <td>Delhi</td>\n",
       "      <td>kavya interprises</td>\n",
       "      <td>4 to 6 Yrs</td>\n",
       "    </tr>\n",
       "    <tr>\n",
       "      <th>7</th>\n",
       "      <td>Biostatisticians</td>\n",
       "      <td>Delhi\\n+8</td>\n",
       "      <td>ibm india pvt. limited</td>\n",
       "      <td>0 to 1 Yr</td>\n",
       "    </tr>\n",
       "    <tr>\n",
       "      <th>8</th>\n",
       "      <td>Clinical Data Manager</td>\n",
       "      <td>Delhi\\n+6</td>\n",
       "      <td>jpmorgan</td>\n",
       "      <td>0 to 1 Yr</td>\n",
       "    </tr>\n",
       "    <tr>\n",
       "      <th>9</th>\n",
       "      <td>Work Full/part-time / Work From Home / Compute...</td>\n",
       "      <td>Delhi\\n+4</td>\n",
       "      <td>divya interprises</td>\n",
       "      <td>0 to 4 Yrs</td>\n",
       "    </tr>\n",
       "  </tbody>\n",
       "</table>\n",
       "</div>"
      ],
      "text/plain": [
       "                                           job-title job-location  \\\n",
       "0                           Data Scientist for Delhi        Delhi   \n",
       "1                              Data Scientist- Delhi        Delhi   \n",
       "2                               Data Scientist-Delhi        Delhi   \n",
       "3                              Data Scientist- Delhi        Delhi   \n",
       "4                              Data Scientist- Delhi        Delhi   \n",
       "5                           Clinical Data Management    Delhi\\n+6   \n",
       "6                                      Data Engineer        Delhi   \n",
       "7                                   Biostatisticians    Delhi\\n+8   \n",
       "8                              Clinical Data Manager    Delhi\\n+6   \n",
       "9  Work Full/part-time / Work From Home / Compute...    Delhi\\n+4   \n",
       "\n",
       "                             company name experience required  \n",
       "0  capgemini technology services india...          0 to 3 Yrs  \n",
       "1  boyen haddin consulting and technol...          0 to 3 Yrs  \n",
       "2                               get hired          0 to 3 Yrs  \n",
       "3  boyen haddin consulting and technol...          0 to 3 Yrs  \n",
       "4  boyen haddin consulting and technol...          0 to 3 Yrs  \n",
       "5                       kavya interprises           0 to 1 Yr  \n",
       "6                       kavya interprises          4 to 6 Yrs  \n",
       "7                  ibm india pvt. limited           0 to 1 Yr  \n",
       "8                                jpmorgan           0 to 1 Yr  \n",
       "9                       divya interprises          0 to 4 Yrs  "
      ]
     },
     "execution_count": 136,
     "metadata": {},
     "output_type": "execute_result"
    }
   ],
   "source": [
    "df=pd.DataFrame({\"job-title\":Title,\"job-location\":Location,\"company name\":Company,\"experience required\":Experience})\n",
    "df"
   ]
  },
  {
   "cell_type": "markdown",
   "id": "956b7fce",
   "metadata": {},
   "source": [
    "# 4.Flipkart Sunglasses"
   ]
  },
  {
   "cell_type": "code",
   "execution_count": 61,
   "id": "23a35aef",
   "metadata": {},
   "outputs": [],
   "source": [
    "driver=webdriver.Chrome()"
   ]
  },
  {
   "cell_type": "code",
   "execution_count": 62,
   "id": "38afc4e4",
   "metadata": {},
   "outputs": [],
   "source": [
    "driver.get(\"https://www.flipkart.com/\")"
   ]
  },
  {
   "cell_type": "code",
   "execution_count": 64,
   "id": "e2ec0e8d",
   "metadata": {},
   "outputs": [],
   "source": [
    "search_flipkart=driver.find_element(By.CLASS_NAME,\"_3704LK\")\n",
    "search_flipkart.send_keys(\"sunglasses\")"
   ]
  },
  {
   "cell_type": "code",
   "execution_count": 65,
   "id": "a7248ec9",
   "metadata": {},
   "outputs": [],
   "source": [
    "search_f=driver.find_element(By.CLASS_NAME,\"_34RNph\")\n",
    "search_f.click()"
   ]
  },
  {
   "cell_type": "code",
   "execution_count": 66,
   "id": "7e1afc48",
   "metadata": {},
   "outputs": [
    {
     "name": "stdout",
     "output_type": "stream",
     "text": [
      "['ROYAL SON', 'john jacobs', 'SRPM', 'Fastrack', 'Fastrack', 'NuVew', 'ALFATOORE', 'john jacobs', 'SRPM', 'PC STAR', 'PROVOGUE', 'ROYAL SON', 'ROADWAY', 'Gio Collection', 'PIRASO', 'Elligator', 'ROYAL SON', 'Singco India', 'The Tinted Story', 'ROADWAY', 'ROYAL SON', 'Eyewearlabs', 'Elligator', 'ROADWAY', 'ROADWAY', 'Rich Club', 'ROYAL SON', 'Singco India', 'AISLIN', 'Rich Club', 'john jacobs', 'john jacobs', 'Rich Club', 'PIRASO', 'hayden haiza', 'Rich Club', 'john jacobs', 'ROYAL SON', 'ROYAL SON', 'PIRASO']\n"
     ]
    },
    {
     "data": {
      "text/plain": [
       "40"
      ]
     },
     "execution_count": 66,
     "metadata": {},
     "output_type": "execute_result"
    }
   ],
   "source": [
    "brand=driver.find_elements(By.CLASS_NAME,\"_2WkVRV\")\n",
    "Brand=[]\n",
    "for i in brand:\n",
    "    brand=i.text\n",
    "    Brand.append(brand)\n",
    "print(Brand)\n",
    "len(Brand)"
   ]
  },
  {
   "cell_type": "code",
   "execution_count": 67,
   "id": "b9d59614",
   "metadata": {},
   "outputs": [
    {
     "name": "stdout",
     "output_type": "stream",
     "text": [
      "['Mirrored Aviator Sunglasses (58)', 'UV Protection Round Sunglasses (51)', 'UV Protection Wayfarer Sunglasses (50)', 'UV Protection Rectangular Sunglasses (Free Size)', 'UV Protection Wayfarer Sunglasses (58)', 'UV Protection, Mirrored Aviator Sunglasses (58)', 'UV Protection, Riding Glasses Aviator Sunglasses (Free ...', 'UV Protection Retro Square Sunglasses (51)', 'UV Protection Wayfarer Sunglasses (50)', 'UV Protection, Riding Glasses Rectangular Sunglasses (F...', 'UV Protection Round Sunglasses (Free Size)', 'UV Protection Rectangular, Retro Square Sunglasses (58)', 'UV Protection Retro Square, Wayfarer, Sports Sunglasses...', 'Polarized Oval Sunglasses (15)', 'UV Protection Over-sized Sunglasses (65)', 'UV Protection Cat-eye, Retro Square, Oval, Round Sungla...', 'Mirrored Aviator Sunglasses (55)', 'Riding Glasses, UV Protection Clubmaster, Wayfarer Sung...', 'UV Protection Cat-eye Sunglasses (Free Size)', 'UV Protection Wayfarer, Sports, Spectacle , Retro Squar...', 'Polarized, UV Protection Retro Square Sunglasses (61)', 'Polarized, UV Protection Wayfarer Sunglasses (51)', 'UV Protection Wayfarer Sunglasses (53)', 'UV Protection Wayfarer Sunglasses (Free Size)', 'UV Protection Retro Square Sunglasses (Free Size)', 'UV Protection Retro Square Sunglasses (52)', 'Polarized, UV Protection Wayfarer, Retro Square Sunglas...', 'UV Protection, Riding Glasses Retro Square, Rectangular...', 'UV Protection, Gradient Wayfarer Sunglasses (63)', 'UV Protection Retro Square Sunglasses (54)', 'Polarized, UV Protection Aviator Sunglasses (55)', 'UV Protection Retro Square Sunglasses (55)', 'UV Protection Round Sunglasses (50)', 'UV Protection Over-sized Sunglasses (60)', 'UV Protection Retro Square Sunglasses (43)', 'UV Protection Retro Square Sunglasses (54)', 'UV Protection Round Sunglasses (51)', 'Polarized Rectangular Sunglasses (60)', 'Polarized, UV Protection Retro Square Sunglasses (55)', 'UV Protection Butterfly Sunglasses (60)']\n"
     ]
    },
    {
     "data": {
      "text/plain": [
       "40"
      ]
     },
     "execution_count": 67,
     "metadata": {},
     "output_type": "execute_result"
    }
   ],
   "source": [
    "description=driver.find_elements(By.CLASS_NAME,\"IRpwTa\")\n",
    "Description=[]\n",
    "for i in description:\n",
    "    description=i.text\n",
    "    Description.append(description)\n",
    "print(Description)\n",
    "len(Description)"
   ]
  },
  {
   "cell_type": "code",
   "execution_count": 68,
   "id": "86bbe856",
   "metadata": {},
   "outputs": [
    {
     "name": "stdout",
     "output_type": "stream",
     "text": [
      "['₹339', '₹1,999', '₹149', '₹449', '₹549', '₹69', '₹449', '₹3,129', '₹169', '₹144', '₹629', '₹424', '₹149', '₹1,475', '₹299', '₹149', '₹339', '₹337', '₹1,499', '₹149', '₹594', '₹1,236', '₹149', '₹199', '₹149', '₹125', '₹559', '₹499', '₹675', '₹399', '₹2,000', '₹2,375', '₹299', '₹269', '₹222', '₹334', '₹1,999', '₹524', '₹493', '₹299']\n"
     ]
    },
    {
     "data": {
      "text/plain": [
       "40"
      ]
     },
     "execution_count": 68,
     "metadata": {},
     "output_type": "execute_result"
    }
   ],
   "source": [
    "price=driver.find_elements(By.XPATH,'//div[@class=\"_30jeq3\"]')\n",
    "Price=[]\n",
    "for i in price:\n",
    "    price=i.text\n",
    "    Price.append(price)\n",
    "print(Price)\n",
    "len(Price)"
   ]
  },
  {
   "cell_type": "code",
   "execution_count": 69,
   "id": "c04c715f",
   "metadata": {},
   "outputs": [
    {
     "name": "stdout",
     "output_type": "stream",
     "text": [
      "['77% off', '66% off', '88% off', '50% off', '50% off', '92% off', '70% off', '47% off', '86% off', '85% off', '75% off', '71% off', '85% off', '50% off', '88% off', '75% off', '77% off', '83% off', '31% off', '88% off', '60% off', '65% off', '88% off', '80% off', '85% off', '87% off', '72% off', '80% off', '69% off', '69% off', '66% off', '60% off', '70% off', '89% off', '84% off', '74% off', '66% off', '73% off', '75% off', '88% off']\n"
     ]
    },
    {
     "data": {
      "text/plain": [
       "40"
      ]
     },
     "execution_count": 69,
     "metadata": {},
     "output_type": "execute_result"
    }
   ],
   "source": [
    "discount=driver.find_elements(By.XPATH,'//div[@class=\"_3Ay6Sb\"]/span')\n",
    "Discount=[]\n",
    "for i in discount:\n",
    "    discount=i.text\n",
    "    Discount.append(discount)\n",
    "print(Discount)\n",
    "len(Discount)"
   ]
  },
  {
   "cell_type": "code",
   "execution_count": 70,
   "id": "a8c90544",
   "metadata": {},
   "outputs": [],
   "source": [
    "start=0\n",
    "end=3\n",
    "Brand=[]\n",
    "for page in  range(start,end):\n",
    "    brand=driver.find_elements(By.CLASS_NAME,\"_2WkVRV\")\n",
    "    for i in brand:\n",
    "        brand=i.text        \n",
    "        Brand.append(brand)\n",
    "        if len(Brand)==100:\n",
    "            break\n",
    "    next_button=driver.find_element(By.XPATH,'//a[@class=\"_1LKTO3\"]')\n",
    "    next_button.click()\n",
    "    time.sleep(3)\n"
   ]
  },
  {
   "cell_type": "code",
   "execution_count": 71,
   "id": "9f37096d",
   "metadata": {},
   "outputs": [
    {
     "name": "stdout",
     "output_type": "stream",
     "text": [
      "['ROYAL SON', 'john jacobs', 'SRPM', 'Fastrack', 'Fastrack', 'NuVew', 'ALFATOORE', 'john jacobs', 'SRPM', 'PC STAR', 'PROVOGUE', 'ROYAL SON', 'ROADWAY', 'Gio Collection', 'PIRASO', 'Elligator', 'ROYAL SON', 'Singco India', 'The Tinted Story', 'ROADWAY', 'ROYAL SON', 'Eyewearlabs', 'Elligator', 'ROADWAY', 'ROADWAY', 'Rich Club', 'ROYAL SON', 'Singco India', 'AISLIN', 'Rich Club', 'john jacobs', 'john jacobs', 'Rich Club', 'PIRASO', 'hayden haiza', 'Rich Club', 'john jacobs', 'ROYAL SON', 'ROYAL SON', 'PIRASO', 'ROYAL SON', 'john jacobs', 'PIRASO', 'ROYAL SON', 'PIRASO', 'Fastrack', 'ROYAL SON', 'ROYAL SON', 'Fastrack', 'Rich Club', 'Nicole Miller', 'ROYAL SON', 'Silver Kartz', 'ROADWAY', 'ROZZETTA CRAFT', 'VINCENT CHASE', 'john jacobs', 'ROYAL SON', 'Fastrack', 'Hooper', 'Nicole Miller', 'ROYAL SON', 'VINCENT CHASE', 'Fastrack', 'ROYAL SON', 'Fastrack', 'john jacobs', 'ROYAL SON', 'ROZZETTA CRAFT', 'ROYAL SON', 'ROYAL SON', 'ROYAL SON', 'Ray-Ban', 'ROYAL SON', 'IDEE', 'NuVew', 'ROYAL SON', 'ROYAL SON', 'Fastrack', 'Resist', 'ROYAL SON', 'john jacobs', 'ROADWAY', 'NuVew', 'ROADWAY', 'PC STAR', 'ALFATOORE', 'john jacobs', 'Elligator', 'ROADWAY', 'PROVOGUE', 'ROYAL SON', 'Rich Club', 'Hrinkar', 'Rich Club', 'ROYAL SON', 'ROYAL SON', 'Singco India', 'hayden haiza', 'Fastrack']\n"
     ]
    },
    {
     "data": {
      "text/plain": [
       "100"
      ]
     },
     "execution_count": 71,
     "metadata": {},
     "output_type": "execute_result"
    }
   ],
   "source": [
    "print(Brand)\n",
    "len(Brand)"
   ]
  },
  {
   "cell_type": "code",
   "execution_count": 72,
   "id": "f45bad8a",
   "metadata": {},
   "outputs": [],
   "source": [
    "start=0\n",
    "end=3\n",
    "Description=[]\n",
    "for page in  range(start,end):\n",
    "    description=driver.find_elements(By.CLASS_NAME,\"IRpwTa\")\n",
    "    for i in description:\n",
    "        description=i.text\n",
    "        Description.append(description)\n",
    "        if len(Description)==100:\n",
    "            break\n",
    "    next_button=driver.find_element(By.XPATH,'//a[@class=\"_1LKTO3\"]')\n",
    "    next_button.click()\n",
    "    time.sleep(3)\n"
   ]
  },
  {
   "cell_type": "code",
   "execution_count": 73,
   "id": "52fead8f",
   "metadata": {},
   "outputs": [
    {
     "name": "stdout",
     "output_type": "stream",
     "text": [
      "['UV Protection Over-sized, Retro Square Sunglasses (61)', 'Polarized, UV Protection Wayfarer Sunglasses (54)', 'UV Protection Over-sized Sunglasses (60)', 'Polarized Rectangular Sunglasses (60)', 'UV Protection Aviator Sunglasses (54)', 'UV Protection Aviator Sunglasses (58)', 'Polarized, UV Protection, Mirrored Sports, Wrap-around ...', 'Polarized, UV Protection Sports, Wrap-around Sunglasses...', 'UV Protection Wayfarer Sunglasses (53)', 'UV Protection Retro Square Sunglasses (50)', 'UV Protection, Gradient Butterfly Sunglasses (52)', 'Polarized Retro Square Sunglasses (55)', 'UV Protection Wayfarer Sunglasses (Free Size)', 'UV Protection Retro Square Sunglasses (Free Size)', 'UV Protection Wrap-around Sunglasses (Free Size)', 'by Lenskart Polarized, UV Protection Cat-eye Sunglasses...', 'Polarized, UV Protection Wayfarer Sunglasses (49)', 'UV Protection Over-sized Sunglasses (61)', 'Gradient, UV Protection Wayfarer Sunglasses (Free Size)', 'Polarized, UV Protection Rectangular Sunglasses (46)', 'UV Protection, Gradient Butterfly Sunglasses (62)', 'UV Protection, Polarized Wrap-around, Sports Sunglasses...', 'Polarized, UV Protection Wayfarer Sunglasses (52)', 'UV Protection Wayfarer Sunglasses (Free Size)', 'Polarized, UV Protection Sports Sunglasses (68)', 'UV Protection Wayfarer Sunglasses (Free Size)', 'Polarized Aviator Sunglasses (55)', 'Polarized, UV Protection Aviator Sunglasses (56)', 'UV Protection, Gradient Round Sunglasses (Free Size)', 'Polarized, UV Protection Wayfarer, Retro Square Sunglas...', 'Polarized, UV Protection Sports, Wrap-around Sunglasses...', 'Polarized, UV Protection Round Sunglasses (52)', 'UV Protection Round Sunglasses (50)', 'UV Protection Rectangular, Retro Square Sunglasses (58)', 'UV Protection Cat-eye Sunglasses (57)', 'UV Protection Sports, Wrap-around Sunglasses (63)', 'Mirrored Aviator Sunglasses (55)', 'Polarized, UV Protection, Gradient Retro Square, Over-s...', 'UV Protection Rectangular Sunglasses (56)', 'UV Protection, Riding Glasses, Polarized Wayfarer Sungl...', 'Mirrored Aviator Sunglasses (58)', 'UV Protection Round Sunglasses (51)', 'UV Protection Wayfarer, Sports, Spectacle , Retro Squar...', 'UV Protection, Mirrored Aviator Sunglasses (58)', 'UV Protection Retro Square, Wayfarer, Sports Sunglasses...', 'UV Protection, Riding Glasses Rectangular Sunglasses (F...', 'UV Protection, Riding Glasses Aviator Sunglasses (Free ...', 'UV Protection Retro Square Sunglasses (51)', 'UV Protection Wayfarer Sunglasses (53)', 'UV Protection Retro Square Sunglasses (Free Size)', 'UV Protection Round Sunglasses (Free Size)', 'UV Protection Rectangular, Retro Square Sunglasses (58)', 'UV Protection Round Sunglasses (50)', 'UV Protection, Polarized Wayfarer Sunglasses (55)', 'UV Protection Retro Square Sunglasses (54)', 'Polarized, UV Protection Retro Square Sunglasses (55)', 'Mirrored Aviator Sunglasses (55)', 'Riding Glasses, UV Protection Clubmaster, Wayfarer Sung...', 'UV Protection Retro Square Sunglasses (43)', 'UV Protection Wayfarer Sunglasses (Free Size)', 'Polarized, UV Protection Retro Square Sunglasses (61)', 'Polarized, UV Protection Wayfarer Sunglasses (51)', 'UV Protection Butterfly Sunglasses (60)', 'UV Protection Aviator, Wayfarer Sunglasses (54)', 'Polarized Wayfarer Sunglasses (55)', 'Polarized, UV Protection, Riding Glasses Wayfarer Sungl...', 'Polarized, UV Protection Wayfarer, Retro Square Sunglas...', 'UV Protection, Riding Glasses Retro Square, Rectangular...', 'UV Protection Cat-eye Sunglasses (Free Size)', 'Gradient, UV Protection Wayfarer Sunglasses (Free Size)', 'Polarized, UV Protection Aviator Sunglasses (55)', 'UV Protection Retro Square Sunglasses (55)', 'UV Protection, Riding Glasses, Others Aviator, Wayfarer...', 'UV Protection, Mirrored Wayfarer Sunglasses (54)', 'Polarized Oval Sunglasses (15)', 'Polarized, UV Protection Wayfarer Sunglasses (52)', 'UV Protection Round Sunglasses (51)', 'Polarized Rectangular Sunglasses (60)', 'UV Protection Round Sunglasses (53)', 'UV Protection, Gradient Butterfly Sunglasses (62)', 'Polarized, UV Protection Retro Square Sunglasses (62)', 'Polarized, UV Protection Wayfarer Sunglasses (54)', 'UV Protection Over-sized Sunglasses (60)', 'Polarized Rectangular Sunglasses (60)', 'UV Protection Aviator Sunglasses (54)', 'UV Protection Aviator Sunglasses (58)', 'UV Protection, Gradient Over-sized, Butterfly Sunglasse...', 'Polarized, UV Protection, Mirrored Sports, Wrap-around ...', 'UV Protection Wayfarer Sunglasses (53)', 'UV Protection Retro Square Sunglasses (50)', 'Polarized, UV Protection Sports, Wrap-around Sunglasses...', 'UV Protection, Gradient Butterfly Sunglasses (52)', 'UV Protection Wayfarer Sunglasses (Free Size)', 'UV Protection Retro Square Sunglasses (Free Size)', 'UV Protection Wrap-around Sunglasses (Free Size)', 'by Lenskart Polarized, UV Protection Cat-eye Sunglasses...', 'Polarized Retro Square Sunglasses (55)', 'Polarized, UV Protection Wayfarer Sunglasses (49)', 'Gradient, UV Protection Wayfarer Sunglasses (Free Size)', 'Polarized, UV Protection Rectangular Sunglasses (46)']\n"
     ]
    },
    {
     "data": {
      "text/plain": [
       "100"
      ]
     },
     "execution_count": 73,
     "metadata": {},
     "output_type": "execute_result"
    }
   ],
   "source": [
    "print(Description)\n",
    "len(Description)"
   ]
  },
  {
   "cell_type": "code",
   "execution_count": 74,
   "id": "03937091",
   "metadata": {},
   "outputs": [],
   "source": [
    "start=0\n",
    "end=3\n",
    "Price=[]\n",
    "for page in  range(start,end):\n",
    "    price=driver.find_elements(By.XPATH,'//div[@class=\"_30jeq3\"]')\n",
    "    for i in price:\n",
    "        price=i.text\n",
    "        Price.append(price)\n",
    "        if len(Price)==100:\n",
    "            break\n",
    "    next_button=driver.find_element(By.XPATH,'//a[@class=\"_1LKTO3\"]')\n",
    "    next_button.click()\n",
    "    time.sleep(3)\n"
   ]
  },
  {
   "cell_type": "code",
   "execution_count": 75,
   "id": "032d230f",
   "metadata": {},
   "outputs": [
    {
     "name": "stdout",
     "output_type": "stream",
     "text": [
      "['₹339', '₹1,999', '₹149', '₹69', '₹149', '₹144', '₹449', '₹3,129', '₹149', '₹149', '₹629', '₹424', '₹299', '₹690', '₹334', '₹493', '₹339', '₹337', '₹222', '₹569', '₹594', '₹1,236', '₹299', '₹169', '₹539', '₹168', '₹559', '₹499', '₹1,499', '₹499', '₹2,000', '₹2,375', '₹149', '₹169', '₹1,475', '₹549', '₹1,999', '₹524', '₹169', '₹489', '₹561', '₹1,999', '₹269', '₹524', '₹199', '₹799', '₹594', '₹1,329', '₹689', '₹199', '₹1,104', '₹2,499', '₹199', '₹159', '₹399', '₹883', '₹594', '₹1,800', '₹589', '₹539', '₹489', '₹489', '₹549', '₹629', '₹974', '₹569', '₹9,998', '₹719', '₹381', '₹559', '₹1,999', '₹1,329', '₹5,908', '₹424', '₹939', '₹55', '₹679', '₹339', '₹539', '₹1,250', '₹339', '₹1,999', '₹149', '₹69', '₹149', '₹144', '₹449', '₹3,129', '₹149', '₹149', '₹629', '₹424', '₹299', '₹690', '₹334', '₹493', '₹339', '₹337', '₹222', '₹569']\n"
     ]
    },
    {
     "data": {
      "text/plain": [
       "100"
      ]
     },
     "execution_count": 75,
     "metadata": {},
     "output_type": "execute_result"
    }
   ],
   "source": [
    "print(Price)\n",
    "len(Price)"
   ]
  },
  {
   "cell_type": "code",
   "execution_count": 76,
   "id": "3fdce984",
   "metadata": {},
   "outputs": [
    {
     "name": "stdout",
     "output_type": "stream",
     "text": [
      "['63% off', '66% off', '89% off', '73% off', '87% off', '42% off', '70% off', '55% off', '31% off', '84% off', '55% off', '70% off', '86% off', '87% off', '80% off', '64% off', '75% off', '75% off', '41% off', '73% off', '70% off', '75% off', '72% off', '42% off', '61% off', '36% off', '64% off', '80% off', '72% off', '55% off', '66% off', '20% off', '71% off', '58% off', '91% off', '66% off', '54% off', '40% off', '68% off', '77% off', '66% off', '88% off', '92% off', '85% off', '85% off', '70% off', '47% off', '88% off', '85% off', '75% off', '71% off', '70% off', '37% off', '74% off', '75% off', '77% off', '83% off', '84% off', '43% off', '60% off', '65% off', '88% off', '86% off', '40% off', '71% off', '80% off', '66% off', '31% off', '50% off', '60% off', '66% off', '78% off', '83% off', '50% off', '72% off', '73% off', '66% off', '83% off', '75% off', '66% off', '70% off', '89% off', '73% off', '87% off', '42% off', '55% off', '64% off', '31% off', '84% off', '75% off', '55% off', '86% off', '87% off', '80% off', '64% off', '70% off', '70% off', '41% off', '73% off', '75% off']\n"
     ]
    },
    {
     "data": {
      "text/plain": [
       "100"
      ]
     },
     "execution_count": 76,
     "metadata": {},
     "output_type": "execute_result"
    }
   ],
   "source": [
    "start=0\n",
    "end=3\n",
    "Discount=[]\n",
    "for page in  range(start,end):\n",
    "    discount=driver.find_elements(By.XPATH,'//div[@class=\"_3Ay6Sb\"]/span')\n",
    "    for i in discount:\n",
    "        discount=i.text\n",
    "        Discount.append(discount)\n",
    "        if len(Discount)==100:\n",
    "            break\n",
    "    next_button=driver.find_element(By.XPATH,'//a[@class=\"_1LKTO3\"]')\n",
    "    next_button.click()\n",
    "    time.sleep(3)\n",
    "print(Discount)\n",
    "len(Discount)"
   ]
  },
  {
   "cell_type": "code",
   "execution_count": 77,
   "id": "d34a1177",
   "metadata": {},
   "outputs": [
    {
     "data": {
      "text/html": [
       "<div>\n",
       "<style scoped>\n",
       "    .dataframe tbody tr th:only-of-type {\n",
       "        vertical-align: middle;\n",
       "    }\n",
       "\n",
       "    .dataframe tbody tr th {\n",
       "        vertical-align: top;\n",
       "    }\n",
       "\n",
       "    .dataframe thead th {\n",
       "        text-align: right;\n",
       "    }\n",
       "</style>\n",
       "<table border=\"1\" class=\"dataframe\">\n",
       "  <thead>\n",
       "    <tr style=\"text-align: right;\">\n",
       "      <th></th>\n",
       "      <th>Brand</th>\n",
       "      <th>Product Description</th>\n",
       "      <th>Price</th>\n",
       "      <th>Discount</th>\n",
       "    </tr>\n",
       "  </thead>\n",
       "  <tbody>\n",
       "    <tr>\n",
       "      <th>0</th>\n",
       "      <td>ROYAL SON</td>\n",
       "      <td>UV Protection Over-sized, Retro Square Sunglas...</td>\n",
       "      <td>₹339</td>\n",
       "      <td>63% off</td>\n",
       "    </tr>\n",
       "    <tr>\n",
       "      <th>1</th>\n",
       "      <td>john jacobs</td>\n",
       "      <td>Polarized, UV Protection Wayfarer Sunglasses (54)</td>\n",
       "      <td>₹1,999</td>\n",
       "      <td>66% off</td>\n",
       "    </tr>\n",
       "    <tr>\n",
       "      <th>2</th>\n",
       "      <td>SRPM</td>\n",
       "      <td>UV Protection Over-sized Sunglasses (60)</td>\n",
       "      <td>₹149</td>\n",
       "      <td>89% off</td>\n",
       "    </tr>\n",
       "    <tr>\n",
       "      <th>3</th>\n",
       "      <td>Fastrack</td>\n",
       "      <td>Polarized Rectangular Sunglasses (60)</td>\n",
       "      <td>₹69</td>\n",
       "      <td>73% off</td>\n",
       "    </tr>\n",
       "    <tr>\n",
       "      <th>4</th>\n",
       "      <td>Fastrack</td>\n",
       "      <td>UV Protection Aviator Sunglasses (54)</td>\n",
       "      <td>₹149</td>\n",
       "      <td>87% off</td>\n",
       "    </tr>\n",
       "    <tr>\n",
       "      <th>...</th>\n",
       "      <td>...</td>\n",
       "      <td>...</td>\n",
       "      <td>...</td>\n",
       "      <td>...</td>\n",
       "    </tr>\n",
       "    <tr>\n",
       "      <th>95</th>\n",
       "      <td>ROYAL SON</td>\n",
       "      <td>by Lenskart Polarized, UV Protection Cat-eye S...</td>\n",
       "      <td>₹493</td>\n",
       "      <td>70% off</td>\n",
       "    </tr>\n",
       "    <tr>\n",
       "      <th>96</th>\n",
       "      <td>ROYAL SON</td>\n",
       "      <td>Polarized Retro Square Sunglasses (55)</td>\n",
       "      <td>₹339</td>\n",
       "      <td>70% off</td>\n",
       "    </tr>\n",
       "    <tr>\n",
       "      <th>97</th>\n",
       "      <td>Singco India</td>\n",
       "      <td>Polarized, UV Protection Wayfarer Sunglasses (49)</td>\n",
       "      <td>₹337</td>\n",
       "      <td>41% off</td>\n",
       "    </tr>\n",
       "    <tr>\n",
       "      <th>98</th>\n",
       "      <td>hayden haiza</td>\n",
       "      <td>Gradient, UV Protection Wayfarer Sunglasses (F...</td>\n",
       "      <td>₹222</td>\n",
       "      <td>73% off</td>\n",
       "    </tr>\n",
       "    <tr>\n",
       "      <th>99</th>\n",
       "      <td>Fastrack</td>\n",
       "      <td>Polarized, UV Protection Rectangular Sunglasse...</td>\n",
       "      <td>₹569</td>\n",
       "      <td>75% off</td>\n",
       "    </tr>\n",
       "  </tbody>\n",
       "</table>\n",
       "<p>100 rows × 4 columns</p>\n",
       "</div>"
      ],
      "text/plain": [
       "           Brand                                Product Description   Price  \\\n",
       "0      ROYAL SON  UV Protection Over-sized, Retro Square Sunglas...    ₹339   \n",
       "1    john jacobs  Polarized, UV Protection Wayfarer Sunglasses (54)  ₹1,999   \n",
       "2           SRPM           UV Protection Over-sized Sunglasses (60)    ₹149   \n",
       "3       Fastrack              Polarized Rectangular Sunglasses (60)     ₹69   \n",
       "4       Fastrack              UV Protection Aviator Sunglasses (54)    ₹149   \n",
       "..           ...                                                ...     ...   \n",
       "95     ROYAL SON  by Lenskart Polarized, UV Protection Cat-eye S...    ₹493   \n",
       "96     ROYAL SON             Polarized Retro Square Sunglasses (55)    ₹339   \n",
       "97  Singco India  Polarized, UV Protection Wayfarer Sunglasses (49)    ₹337   \n",
       "98  hayden haiza  Gradient, UV Protection Wayfarer Sunglasses (F...    ₹222   \n",
       "99      Fastrack  Polarized, UV Protection Rectangular Sunglasse...    ₹569   \n",
       "\n",
       "   Discount  \n",
       "0   63% off  \n",
       "1   66% off  \n",
       "2   89% off  \n",
       "3   73% off  \n",
       "4   87% off  \n",
       "..      ...  \n",
       "95  70% off  \n",
       "96  70% off  \n",
       "97  41% off  \n",
       "98  73% off  \n",
       "99  75% off  \n",
       "\n",
       "[100 rows x 4 columns]"
      ]
     },
     "execution_count": 77,
     "metadata": {},
     "output_type": "execute_result"
    }
   ],
   "source": [
    "df=pd.DataFrame({'Brand':Brand,'Product Description':Description,'Price':Price,'Discount':Discount})\n",
    "df"
   ]
  },
  {
   "cell_type": "markdown",
   "id": "f3d55df8",
   "metadata": {},
   "source": [
    "# 5. iphone review"
   ]
  },
  {
   "cell_type": "code",
   "execution_count": 22,
   "id": "e569e206",
   "metadata": {},
   "outputs": [],
   "source": [
    "driver=webdriver.Chrome()"
   ]
  },
  {
   "cell_type": "code",
   "execution_count": 23,
   "id": "10faf039",
   "metadata": {},
   "outputs": [],
   "source": [
    "driver.get(\"https://www.flipkart.com/apple-iphone-11-black-64-gb/product-reviews/itm4e5041ba101fd?pid=MOBFWQ6BXGJCEYNY&lid=LSTMOBFWQ6BXGJCEYNYZXSHRJ&market\")"
   ]
  },
  {
   "cell_type": "code",
   "execution_count": 31,
   "id": "ae8f26bc",
   "metadata": {},
   "outputs": [
    {
     "name": "stdout",
     "output_type": "stream",
     "text": [
      "['5', '5', '5', '5', '5', '5', '5', '5', '5', '5']\n"
     ]
    },
    {
     "data": {
      "text/plain": [
       "10"
      ]
     },
     "execution_count": 31,
     "metadata": {},
     "output_type": "execute_result"
    }
   ],
   "source": [
    "rating=driver.find_elements(By.XPATH,'//div[@class=\"_3LWZlK _1BLPMq\"]')\n",
    "Rating=[]\n",
    "for i in rating:\n",
    "    rating=i.text\n",
    "    Rating.append(rating)\n",
    "print(Rating)\n",
    "len(Rating)"
   ]
  },
  {
   "cell_type": "code",
   "execution_count": 32,
   "id": "ff3f1c2a",
   "metadata": {},
   "outputs": [
    {
     "name": "stdout",
     "output_type": "stream",
     "text": [
      "['Classy product', 'Worth every penny', 'Perfect product!', 'Brilliant', 'Best in the market!', 'Terrific', 'Wonderful', 'Terrific purchase', 'Terrific purchase', 'Fabulous!']\n"
     ]
    },
    {
     "data": {
      "text/plain": [
       "10"
      ]
     },
     "execution_count": 32,
     "metadata": {},
     "output_type": "execute_result"
    }
   ],
   "source": [
    "summary=driver.find_elements(By.CLASS_NAME,\"_2-N8zT\")\n",
    "Summary=[]\n",
    "for i in summary:\n",
    "    summary=i.text\n",
    "    Summary.append(summary)\n",
    "print(Summary)\n",
    "len(Summary)"
   ]
  },
  {
   "cell_type": "code",
   "execution_count": 33,
   "id": "b1c19f27",
   "metadata": {},
   "outputs": [
    {
     "name": "stdout",
     "output_type": "stream",
     "text": [
      "['Camera is awesome\\nBest battery backup\\nA performer 👌🏻\\nIt will be a real value for money if they provide charger and earphone inbox!', 'Feeling awesome after getting the delivery of my phone. Dual speakers makes the sound quality very loud. Amazing!!', 'Photos super', 'very good camera quality', 'Good Camera', 'Very very good', 'This is amazing at all', 'Value for money 😍', 'Value for money 🖤🖤', 'Super🔥 and good performance 👌❤️']\n"
     ]
    },
    {
     "data": {
      "text/plain": [
       "10"
      ]
     },
     "execution_count": 33,
     "metadata": {},
     "output_type": "execute_result"
    }
   ],
   "source": [
    "review=driver.find_elements(By.CLASS_NAME,\"t-ZTKy\")\n",
    "Review=[]\n",
    "for i in review:\n",
    "    review=i.text\n",
    "    Review.append(review)\n",
    "print(Review)\n",
    "len(Review)"
   ]
  },
  {
   "cell_type": "code",
   "execution_count": 36,
   "id": "629b780c",
   "metadata": {},
   "outputs": [
    {
     "name": "stdout",
     "output_type": "stream",
     "text": [
      "['5', '5', '5', '5', '5', '5', '5', '5', '5', '5', '5', '5', '5', '5', '5', '5', '5', '5', '5', '5', '5', '5', '5', '5', '5', '5', '5', '5', '5', '5', '5', '5', '5', '5', '5', '5', '5', '5', '5', '5', '5', '5', '5', '5', '5', '5', '5', '5', '5', '5', '5', '5', '5', '5', '5', '5', '5', '5', '5', '5', '5', '5', '5', '5', '5', '5', '5', '5', '5', '5', '5', '5', '5', '5', '5', '5', '5', '5', '5', '5', '5', '5', '5', '5', '5', '5', '5', '5', '5', '5', '5', '5', '5', '5', '5', '5', '5', '5', '5', '5']\n"
     ]
    },
    {
     "data": {
      "text/plain": [
       "100"
      ]
     },
     "execution_count": 36,
     "metadata": {},
     "output_type": "execute_result"
    }
   ],
   "source": [
    "start=0\n",
    "end=10\n",
    "Rating=[]\n",
    "for page in  range(start,end):\n",
    "    rating=driver.find_elements(By.XPATH,'//div[@class=\"_3LWZlK _1BLPMq\"]')\n",
    "    for i in rating:\n",
    "        rating=i.text\n",
    "        Rating.append(rating)\n",
    "        if len(Rating)==100:\n",
    "            break\n",
    "    next_button=driver.find_element(By.XPATH,'//a[@class=\"_1LKTO3\"]')\n",
    "    next_button.click()\n",
    "    time.sleep(3)\n",
    "print(Rating)\n",
    "len(Rating)\n",
    "\n",
    "    \n",
    "\n"
   ]
  },
  {
   "cell_type": "code",
   "execution_count": 37,
   "id": "668288ff",
   "metadata": {},
   "outputs": [
    {
     "name": "stdout",
     "output_type": "stream",
     "text": [
      "['Classy product', 'Worth every penny', 'Perfect product!', 'Brilliant', 'Best in the market!', 'Terrific', 'Wonderful', 'Terrific purchase', 'Terrific purchase', 'Fabulous!', 'Just wow!', 'Must buy!', 'Perfect product!', 'Awesome', 'Brilliant', 'Fabulous!', 'Excellent', 'Must buy!', 'Super!', 'Simply awesome', 'Classy product', 'Worth every penny', 'Perfect product!', 'Brilliant', 'Best in the market!', 'Terrific', 'Wonderful', 'Terrific purchase', 'Terrific purchase', 'Fabulous!', 'Just wow!', 'Must buy!', 'Perfect product!', 'Awesome', 'Brilliant', 'Fabulous!', 'Excellent', 'Must buy!', 'Super!', 'Simply awesome', 'Classy product', 'Worth every penny', 'Perfect product!', 'Brilliant', 'Best in the market!', 'Terrific', 'Wonderful', 'Terrific purchase', 'Terrific purchase', 'Fabulous!', 'Just wow!', 'Must buy!', 'Perfect product!', 'Awesome', 'Brilliant', 'Fabulous!', 'Excellent', 'Must buy!', 'Super!', 'Simply awesome', 'Classy product', 'Worth every penny', 'Perfect product!', 'Brilliant', 'Best in the market!', 'Terrific', 'Wonderful', 'Terrific purchase', 'Terrific purchase', 'Fabulous!', 'Just wow!', 'Must buy!', 'Perfect product!', 'Awesome', 'Brilliant', 'Fabulous!', 'Excellent', 'Must buy!', 'Super!', 'Simply awesome', 'Classy product', 'Worth every penny', 'Perfect product!', 'Brilliant', 'Best in the market!', 'Terrific', 'Wonderful', 'Terrific purchase', 'Terrific purchase', 'Fabulous!', 'Just wow!', 'Must buy!', 'Perfect product!', 'Awesome', 'Brilliant', 'Fabulous!', 'Excellent', 'Must buy!', 'Super!', 'Simply awesome']\n"
     ]
    },
    {
     "data": {
      "text/plain": [
       "100"
      ]
     },
     "execution_count": 37,
     "metadata": {},
     "output_type": "execute_result"
    }
   ],
   "source": [
    "start=0\n",
    "end=10\n",
    "Review=[]\n",
    "for page in  range(start,end):\n",
    "    summary=driver.find_elements(By.CLASS_NAME,\"_2-N8zT\")\n",
    "    for i in summary:\n",
    "        summary=i.text\n",
    "        Summary.append(summary)\n",
    "        if len(Summary)==100:\n",
    "            break\n",
    "    next_button=driver.find_element(By.XPATH,'//a[@class=\"_1LKTO3\"]')\n",
    "    next_button.click()\n",
    "    time.sleep(3)\n",
    "print(Summary)\n",
    "len(Summary)\n",
    "\n"
   ]
  },
  {
   "cell_type": "code",
   "execution_count": 38,
   "id": "160026b2",
   "metadata": {},
   "outputs": [
    {
     "name": "stdout",
     "output_type": "stream",
     "text": [
      "['Camera is awesome\\nBest battery backup\\nA performer 👌🏻\\nIt will be a real value for money if they provide charger and earphone inbox!', 'Feeling awesome after getting the delivery of my phone. Dual speakers makes the sound quality very loud. Amazing!!', 'Photos super', 'very good camera quality', 'Good Camera', 'Very very good', 'This is amazing at all', 'Value for money 😍', 'Value for money 🖤🖤', 'Super🔥 and good performance 👌❤️', 'Perfect Product!!', 'It’s really awesome', 'V Good all', 'iPhone 11 is a good phone. Not a very big difference between 12 except for the OLED screen and a very minor camera improvement which is you cant make a difference. If you are planning for a iPhone and you have budget you definitely can go for this without second thoughts.\\nNow some people are complaining and giving review 0 or so because there is no charger and headphones, but thats been already mentioned so I assume they are illiterate. Its not that Flipkart is removing them duh. Anyways bee...\\nREAD MORE', 'Excellent Phone.', 'It’s very good battery life and display and video quality and ther performance of iPhone.....🔥🔥🌈', 'NYC', 'Go for iPhone 11 , if confused between iPhone 11 or iPhone 12 mini.Battery Life is enhanced , it worked for complete 2 days without charging it. Explored new features of taking screenshot by clicking on apple logo by Haptic Touch , Portrait mode with stage effect enhanced & slow motion selfie.', 'Good product 👌I love iPhone', 'Really satisfied with the Product I received... It’s totally genuine and the packaging was also really good so if ur planning to buy just go for it.', 'Camera is awesome\\nBest battery backup\\nA performer 👌🏻\\nIt will be a real value for money if they provide charger and earphone inbox!', 'Feeling awesome after getting the delivery of my phone. Dual speakers makes the sound quality very loud. Amazing!!', 'Photos super', 'very good camera quality', 'Good Camera', 'Very very good', 'This is amazing at all', 'Value for money 😍', 'Value for money 🖤🖤', 'Super🔥 and good performance 👌❤️', 'Perfect Product!!', 'It’s really awesome', 'V Good all', 'iPhone 11 is a good phone. Not a very big difference between 12 except for the OLED screen and a very minor camera improvement which is you cant make a difference. If you are planning for a iPhone and you have budget you definitely can go for this without second thoughts.\\nNow some people are complaining and giving review 0 or so because there is no charger and headphones, but thats been already mentioned so I assume they are illiterate. Its not that Flipkart is removing them duh. Anyways bee...\\nREAD MORE', 'Excellent Phone.', 'It’s very good battery life and display and video quality and ther performance of iPhone.....🔥🔥🌈', 'NYC', 'Go for iPhone 11 , if confused between iPhone 11 or iPhone 12 mini.Battery Life is enhanced , it worked for complete 2 days without charging it. Explored new features of taking screenshot by clicking on apple logo by Haptic Touch , Portrait mode with stage effect enhanced & slow motion selfie.', 'Good product 👌I love iPhone', 'Really satisfied with the Product I received... It’s totally genuine and the packaging was also really good so if ur planning to buy just go for it.', 'Camera is awesome\\nBest battery backup\\nA performer 👌🏻\\nIt will be a real value for money if they provide charger and earphone inbox!', 'Feeling awesome after getting the delivery of my phone. Dual speakers makes the sound quality very loud. Amazing!!', 'Photos super', 'very good camera quality', 'Good Camera', 'Very very good', 'This is amazing at all', 'Value for money 😍', 'Value for money 🖤🖤', 'Super🔥 and good performance 👌❤️', 'Perfect Product!!', 'It’s really awesome', 'V Good all', 'iPhone 11 is a good phone. Not a very big difference between 12 except for the OLED screen and a very minor camera improvement which is you cant make a difference. If you are planning for a iPhone and you have budget you definitely can go for this without second thoughts.\\nNow some people are complaining and giving review 0 or so because there is no charger and headphones, but thats been already mentioned so I assume they are illiterate. Its not that Flipkart is removing them duh. Anyways bee...\\nREAD MORE', 'Excellent Phone.', 'It’s very good battery life and display and video quality and ther performance of iPhone.....🔥🔥🌈', 'NYC', 'Go for iPhone 11 , if confused between iPhone 11 or iPhone 12 mini.Battery Life is enhanced , it worked for complete 2 days without charging it. Explored new features of taking screenshot by clicking on apple logo by Haptic Touch , Portrait mode with stage effect enhanced & slow motion selfie.', 'Good product 👌I love iPhone', 'Really satisfied with the Product I received... It’s totally genuine and the packaging was also really good so if ur planning to buy just go for it.', 'Camera is awesome\\nBest battery backup\\nA performer 👌🏻\\nIt will be a real value for money if they provide charger and earphone inbox!', 'Feeling awesome after getting the delivery of my phone. Dual speakers makes the sound quality very loud. Amazing!!', 'Photos super', 'very good camera quality', 'Good Camera', 'Very very good', 'This is amazing at all', 'Value for money 😍', 'Value for money 🖤🖤', 'Super🔥 and good performance 👌❤️', 'Perfect Product!!', 'It’s really awesome', 'V Good all', 'iPhone 11 is a good phone. Not a very big difference between 12 except for the OLED screen and a very minor camera improvement which is you cant make a difference. If you are planning for a iPhone and you have budget you definitely can go for this without second thoughts.\\nNow some people are complaining and giving review 0 or so because there is no charger and headphones, but thats been already mentioned so I assume they are illiterate. Its not that Flipkart is removing them duh. Anyways bee...\\nREAD MORE', 'Excellent Phone.', 'It’s very good battery life and display and video quality and ther performance of iPhone.....🔥🔥🌈', 'NYC', 'Go for iPhone 11 , if confused between iPhone 11 or iPhone 12 mini.Battery Life is enhanced , it worked for complete 2 days without charging it. Explored new features of taking screenshot by clicking on apple logo by Haptic Touch , Portrait mode with stage effect enhanced & slow motion selfie.', 'Good product 👌I love iPhone', 'Really satisfied with the Product I received... It’s totally genuine and the packaging was also really good so if ur planning to buy just go for it.', 'Camera is awesome\\nBest battery backup\\nA performer 👌🏻\\nIt will be a real value for money if they provide charger and earphone inbox!', 'Feeling awesome after getting the delivery of my phone. Dual speakers makes the sound quality very loud. Amazing!!', 'Photos super', 'very good camera quality', 'Good Camera', 'Very very good', 'This is amazing at all', 'Value for money 😍', 'Value for money 🖤🖤', 'Super🔥 and good performance 👌❤️', 'Perfect Product!!', 'It’s really awesome', 'V Good all', 'iPhone 11 is a good phone. Not a very big difference between 12 except for the OLED screen and a very minor camera improvement which is you cant make a difference. If you are planning for a iPhone and you have budget you definitely can go for this without second thoughts.\\nNow some people are complaining and giving review 0 or so because there is no charger and headphones, but thats been already mentioned so I assume they are illiterate. Its not that Flipkart is removing them duh. Anyways bee...\\nREAD MORE', 'Excellent Phone.', 'It’s very good battery life and display and video quality and ther performance of iPhone.....🔥🔥🌈', 'NYC', 'Go for iPhone 11 , if confused between iPhone 11 or iPhone 12 mini.Battery Life is enhanced , it worked for complete 2 days without charging it. Explored new features of taking screenshot by clicking on apple logo by Haptic Touch , Portrait mode with stage effect enhanced & slow motion selfie.', 'Good product 👌I love iPhone', 'Really satisfied with the Product I received... It’s totally genuine and the packaging was also really good so if ur planning to buy just go for it.']\n"
     ]
    },
    {
     "data": {
      "text/plain": [
       "100"
      ]
     },
     "execution_count": 38,
     "metadata": {},
     "output_type": "execute_result"
    }
   ],
   "source": [
    "start=0\n",
    "end=10\n",
    "Review=[]\n",
    "for page in  range(start,end):\n",
    "    review=driver.find_elements(By.CLASS_NAME,\"t-ZTKy\")\n",
    "    for i in review:\n",
    "        review=i.text\n",
    "        Review.append(review)\n",
    "        if len(Review)==100:\n",
    "            break\n",
    "    next_button=driver.find_element(By.XPATH,'//a[@class=\"_1LKTO3\"]')\n",
    "    next_button.click()\n",
    "    time.sleep(3)\n",
    "print(Review)\n",
    "len(Review)"
   ]
  },
  {
   "cell_type": "code",
   "execution_count": 39,
   "id": "21700e08",
   "metadata": {},
   "outputs": [
    {
     "data": {
      "text/html": [
       "<div>\n",
       "<style scoped>\n",
       "    .dataframe tbody tr th:only-of-type {\n",
       "        vertical-align: middle;\n",
       "    }\n",
       "\n",
       "    .dataframe tbody tr th {\n",
       "        vertical-align: top;\n",
       "    }\n",
       "\n",
       "    .dataframe thead th {\n",
       "        text-align: right;\n",
       "    }\n",
       "</style>\n",
       "<table border=\"1\" class=\"dataframe\">\n",
       "  <thead>\n",
       "    <tr style=\"text-align: right;\">\n",
       "      <th></th>\n",
       "      <th>Rating</th>\n",
       "      <th>Summary</th>\n",
       "      <th>Review</th>\n",
       "    </tr>\n",
       "  </thead>\n",
       "  <tbody>\n",
       "    <tr>\n",
       "      <th>0</th>\n",
       "      <td>5</td>\n",
       "      <td>Classy product</td>\n",
       "      <td>Camera is awesome\\nBest battery backup\\nA perf...</td>\n",
       "    </tr>\n",
       "    <tr>\n",
       "      <th>1</th>\n",
       "      <td>5</td>\n",
       "      <td>Worth every penny</td>\n",
       "      <td>Feeling awesome after getting the delivery of ...</td>\n",
       "    </tr>\n",
       "    <tr>\n",
       "      <th>2</th>\n",
       "      <td>5</td>\n",
       "      <td>Perfect product!</td>\n",
       "      <td>Photos super</td>\n",
       "    </tr>\n",
       "    <tr>\n",
       "      <th>3</th>\n",
       "      <td>5</td>\n",
       "      <td>Brilliant</td>\n",
       "      <td>very good camera quality</td>\n",
       "    </tr>\n",
       "    <tr>\n",
       "      <th>4</th>\n",
       "      <td>5</td>\n",
       "      <td>Best in the market!</td>\n",
       "      <td>Good Camera</td>\n",
       "    </tr>\n",
       "    <tr>\n",
       "      <th>...</th>\n",
       "      <td>...</td>\n",
       "      <td>...</td>\n",
       "      <td>...</td>\n",
       "    </tr>\n",
       "    <tr>\n",
       "      <th>95</th>\n",
       "      <td>5</td>\n",
       "      <td>Fabulous!</td>\n",
       "      <td>It’s very good battery life and display and vi...</td>\n",
       "    </tr>\n",
       "    <tr>\n",
       "      <th>96</th>\n",
       "      <td>5</td>\n",
       "      <td>Excellent</td>\n",
       "      <td>NYC</td>\n",
       "    </tr>\n",
       "    <tr>\n",
       "      <th>97</th>\n",
       "      <td>5</td>\n",
       "      <td>Must buy!</td>\n",
       "      <td>Go for iPhone 11 , if confused between iPhone ...</td>\n",
       "    </tr>\n",
       "    <tr>\n",
       "      <th>98</th>\n",
       "      <td>5</td>\n",
       "      <td>Super!</td>\n",
       "      <td>Good product 👌I love iPhone</td>\n",
       "    </tr>\n",
       "    <tr>\n",
       "      <th>99</th>\n",
       "      <td>5</td>\n",
       "      <td>Simply awesome</td>\n",
       "      <td>Really satisfied with the Product I received.....</td>\n",
       "    </tr>\n",
       "  </tbody>\n",
       "</table>\n",
       "<p>100 rows × 3 columns</p>\n",
       "</div>"
      ],
      "text/plain": [
       "   Rating              Summary  \\\n",
       "0       5       Classy product   \n",
       "1       5    Worth every penny   \n",
       "2       5     Perfect product!   \n",
       "3       5            Brilliant   \n",
       "4       5  Best in the market!   \n",
       "..    ...                  ...   \n",
       "95      5            Fabulous!   \n",
       "96      5            Excellent   \n",
       "97      5            Must buy!   \n",
       "98      5               Super!   \n",
       "99      5       Simply awesome   \n",
       "\n",
       "                                               Review  \n",
       "0   Camera is awesome\\nBest battery backup\\nA perf...  \n",
       "1   Feeling awesome after getting the delivery of ...  \n",
       "2                                        Photos super  \n",
       "3                            very good camera quality  \n",
       "4                                         Good Camera  \n",
       "..                                                ...  \n",
       "95  It’s very good battery life and display and vi...  \n",
       "96                                                NYC  \n",
       "97  Go for iPhone 11 , if confused between iPhone ...  \n",
       "98                        Good product 👌I love iPhone  \n",
       "99  Really satisfied with the Product I received.....  \n",
       "\n",
       "[100 rows x 3 columns]"
      ]
     },
     "execution_count": 39,
     "metadata": {},
     "output_type": "execute_result"
    }
   ],
   "source": [
    "df=pd.DataFrame({'Rating':Rating,'Summary':Summary,'Review':Review})\n",
    "df"
   ]
  },
  {
   "cell_type": "markdown",
   "id": "f02a8e88",
   "metadata": {},
   "source": [
    "# 6.100 Sneekers"
   ]
  },
  {
   "cell_type": "code",
   "execution_count": 89,
   "id": "306bace3",
   "metadata": {},
   "outputs": [],
   "source": [
    "driver=webdriver.Chrome()"
   ]
  },
  {
   "cell_type": "code",
   "execution_count": 90,
   "id": "83a83d05",
   "metadata": {},
   "outputs": [],
   "source": [
    "driver.get(\"https://www.flipkart.com/\")"
   ]
  },
  {
   "cell_type": "code",
   "execution_count": 92,
   "id": "cc136a68",
   "metadata": {},
   "outputs": [],
   "source": [
    "search_flipkart=driver.find_element(By.CLASS_NAME,\"_3704LK\")\n",
    "search_flipkart.send_keys(\"sneakers\")"
   ]
  },
  {
   "cell_type": "code",
   "execution_count": 93,
   "id": "481b22ed",
   "metadata": {},
   "outputs": [],
   "source": [
    "search_f=driver.find_element(By.CLASS_NAME,\"_34RNph\")\n",
    "search_f.click()"
   ]
  },
  {
   "cell_type": "code",
   "execution_count": 94,
   "id": "d3c25d0f",
   "metadata": {},
   "outputs": [
    {
     "name": "stdout",
     "output_type": "stream",
     "text": [
      "['BRUTON', 'BRUTON', 'aadi', 'URBANBOX', 'Deals4you', 'Labbin', 'BRUTON', 'BRUTON', 'BERSACHE', 'Nobelite', 'BRUTON', 'BRUTON', 'CAMPUS', 'aadi', 'PUMA', 'aadi', 'BRUTON', 'BRUTON', 'PUMA', 'BERSACHE', 'BRUTON', 'BRUTON', 'VENDOZ', 'Vellinto', 'PUMA', 'PUMA', 'K- FOOTLANCE', 'Footox', 'aadi', 'PUMA', 'aadi', 'BRUTON', 'aadi', 'RED TAPE', 'PUMA', 'BERSACHE', 'K- FOOTLANCE', 'ATOM', 'HRX by Hrithik Roshan', 'aadi']\n"
     ]
    },
    {
     "data": {
      "text/plain": [
       "40"
      ]
     },
     "execution_count": 94,
     "metadata": {},
     "output_type": "execute_result"
    }
   ],
   "source": [
    "Brand=[]\n",
    "brand=driver.find_elements(By.CLASS_NAME,\"_2WkVRV\")\n",
    "for i in brand:\n",
    "    brand=i.text\n",
    "    Brand.append(brand)\n",
    "print(Brand)\n",
    "len(Brand)"
   ]
  },
  {
   "cell_type": "code",
   "execution_count": 95,
   "id": "9deb51d4",
   "metadata": {},
   "outputs": [
    {
     "name": "stdout",
     "output_type": "stream",
     "text": [
      "['2 Combo Sneaker Shoes Sneakers For Men', 'Combo Pack Of 2 Men’s Casual Shoes Sneakers For Men', 'Synthetic Leather |Lightweight|Comfort|Summer|Trendy|Wa...', 'Trending Stylish Casual Outdoor Sneakers Shoes For Men ...', 'Sneakers For Women', 'Casual Sneakers ColourFul Block Shoes For Boys And Men ...', '2 Combo Sneaker Shoes Sneakers For Men', '2 Combo Sneaker Shoes Sneakers For Men', 'Bersache Lightweight Casual Shoes with High Quality Sol...', 'Sneakers For Men', 'Combo Pack Of 2 Casual Shoes Sneakers For Men', '2 Combo Sneaker Shoes Sneakers For Men', 'ANNIE Sneakers For Women', 'Sneakers For Men', 'Skipper Sneakers For Men', 'Mesh| Lightweight| Premiun| Comfort| Summer Tendy| Outd...', 'Combo Pack Of 2 Casual Shoes Sneakers For Men', 'Combo Pack Of 2 Casual Shoes Sneakers For Men', 'Zod Runner V3 Sneakers For Men', 'Bersache Lightweight Casual Shoes with High Quality Sol...', 'Combo pack of 2 Trendy Men’s Casual Shoes Sneakers For ...', 'Combo Pack Of 2 Casual Shoes Sneakers For Men', 'Casual Stylish Trending Sneakers For Women', 'Casual Sneakrs For Men Sneakers For Men', 'Hustle V2 Sneakers For Men', 'Shuffle Ultra Sneakers For Men', 'Sneakers For Men', 'Sneakers For Men Sneakers For Men', 'Sneakers For Men', 'Tread Run Sneakers For Men', 'Synthetic Leather |Lightweight|Comfort|Summer|Trendy|Wa...', 'Combo_Pack_Of 2 Casual Shoes Sneakers For Men', 'Mesh |Lightweight|Comfort|Summer|Trendy|Walking|Outdoor...', 'Sneaker Casual Shoes For Men | Soft Cushion Insole, Sli...', 'Tread Run Sneakers For Men', 'Bersache Lightweight Casual Shoes with High Quality Sol...', 'Modern Trendy Sneakers boot Sneakers For Men Sneakers F...', 'Alpha Predator Sneakers For Men', 'Club Culture Sneakers For Men', 'Lightweight,Comfort,Summer,Trendy,Walking,Outdoor,Styli...']\n"
     ]
    },
    {
     "data": {
      "text/plain": [
       "40"
      ]
     },
     "execution_count": 95,
     "metadata": {},
     "output_type": "execute_result"
    }
   ],
   "source": [
    "Description=[]\n",
    "description=driver.find_elements(By.CLASS_NAME,\"IRpwTa\")\n",
    "for i in description:\n",
    "    description=i.text\n",
    "    Description.append(description)\n",
    "print(Description)\n",
    "len(Description)"
   ]
  },
  {
   "cell_type": "code",
   "execution_count": 96,
   "id": "0de1f92f",
   "metadata": {},
   "outputs": [
    {
     "name": "stdout",
     "output_type": "stream",
     "text": [
      "['₹499', '₹499', '₹291', '₹299', '₹399', '₹449', '₹499', '₹499', '₹666', '₹315', '₹499', '₹499', '₹989', '₹319', '₹3,999', '₹299', '₹499', '₹479', '₹1,047', '₹553', '₹477', '₹499', '₹469', '₹555', '₹1,047', '₹2,300', '₹309', '₹299', '₹326', '₹2,070', '₹299', '₹499', '₹347', '₹1,079', '₹1,710', '₹666', '₹399', '₹1,339', '₹1,014', '₹198']\n"
     ]
    },
    {
     "data": {
      "text/plain": [
       "40"
      ]
     },
     "execution_count": 96,
     "metadata": {},
     "output_type": "execute_result"
    }
   ],
   "source": [
    "Price=[]\n",
    "price=driver.find_elements(By.XPATH,'//div[@class=\"_30jeq3\"]')\n",
    "for i in price:\n",
    "    price=i.text\n",
    "    Price.append(price)\n",
    "print(Price)\n",
    "len(Price)"
   ]
  },
  {
   "cell_type": "code",
   "execution_count": 103,
   "id": "25d51c10",
   "metadata": {},
   "outputs": [],
   "source": [
    "Brand=[]\n",
    "Description=[]\n",
    "Price=[]\n",
    "start=0\n",
    "end=3\n",
    "for page in range(start,end):\n",
    "    brand=driver.find_elements(By.CLASS_NAME,\"_2WkVRV\")\n",
    "    for i in brand:\n",
    "        brand=i.text\n",
    "        Brand.append(brand)\n",
    "        if len(Brand)==100:\n",
    "            break\n",
    "    description=driver.find_elements(By.CLASS_NAME,\"IRpwTa\")\n",
    "    for i in description:\n",
    "        description=i.text\n",
    "        Description.append(description)\n",
    "        if len(Description)==100:\n",
    "            break\n",
    "    price=driver.find_elements(By.XPATH,'//div[@class=\"_30jeq3\"]')\n",
    "    for i in price:\n",
    "        price=i.text\n",
    "        Price.append(price)\n",
    "        if len(Price)==100:\n",
    "            break\n",
    "    next_button=driver.find_element(By.XPATH,'//a[@class=\"_1LKTO3\"]')\n",
    "    next_button.click()\n",
    "    time.sleep(3)\n",
    "\n",
    "\n"
   ]
  },
  {
   "cell_type": "code",
   "execution_count": 104,
   "id": "2246c881",
   "metadata": {},
   "outputs": [
    {
     "name": "stdout",
     "output_type": "stream",
     "text": [
      "['Airson', 'CAMPUS', 'asian', 'BRUTON', 'U.S. POLO ASSN.', 'Rowlans', 'asian', 'asian', 'ATOM', 'PUMA', 'Abros', 'PUMA', 'FILA', 'PUMA', 'PUMA', 'ATOM', 'PUMA', 'asian', 'PUMA', 'VENDOZ', 'PUMA', 'Aqualite', 'PUMA', 'RED TAPE', 'Qiao', 'PUMA', 'PUMA', 'CAMPUS', 'PUMA', 'RED TAPE', 'PUMA', 'KILLER', 'BOLLERO', 'WAAN', 'PUMA', 'aadi', 'WROGN', 'PUMA', 'PUMA', 'PUMA', 'WAAN', 'BRUTON', 'aadi', 'URBANBOX', 'Deals4you', 'Labbin', 'BRUTON', 'BRUTON', 'BERSACHE', 'Nobelite', 'BRUTON', 'BRUTON', 'CAMPUS', 'aadi', 'PUMA', 'aadi', 'BRUTON', 'BRUTON', 'PUMA', 'BERSACHE', 'BRUTON', 'BRUTON', 'VENDOZ', 'Vellinto', 'PUMA', 'PUMA', 'K- FOOTLANCE', 'AMICO', 'aadi', 'PUMA', 'Footox', 'aadi', 'aadi', 'RED TAPE', 'PUMA', 'BERSACHE', 'K- FOOTLANCE', 'BRUTON', 'HRX by Hrithik Roshan', 'aadi', 'asian', 'asian', 'asian', 'BRUTON', 'U.S. POLO ASSN.', 'Rowlans', 'Abros', 'PUMA', 'ATOM', 'PUMA', 'PUMA', 'asian', 'FILA', 'PUMA', 'PUMA', 'ATOM', 'PUMA', 'Aqualite', 'PUMA', 'VENDOZ']\n"
     ]
    },
    {
     "data": {
      "text/plain": [
       "100"
      ]
     },
     "execution_count": 104,
     "metadata": {},
     "output_type": "execute_result"
    }
   ],
   "source": [
    "print(Brand)\n",
    "len(Brand)"
   ]
  },
  {
   "cell_type": "code",
   "execution_count": 105,
   "id": "84a7d879",
   "metadata": {},
   "outputs": [
    {
     "name": "stdout",
     "output_type": "stream",
     "text": [
      "['Picaaso Arcade | Casual Sneakers Shoes | Sneakers for M...', 'OG-03 Sneakers For Men', 'Carnival-02 Mens High Top Casual Chunky Sneakers For Me...', 'Lightweight Pack Of 1 Trendy Sneakers Sneakers For Men', 'CLARKIN Sneakers For Men', 'comfortable,durable,sport shoe,snerakers,walking & gym ...', 'Casual Sneakers For Men ||Soft Cushioned insole,Slip-Re...', 'Thunder-03 Loafers,Casuals,Stylish with Extra Comfort S...', 'Sneakers For Men', 'Trinity V1 Sneakers For Men', 'Serena Sneakers For Women', 'Court Ultra Sneakers For Men', 'Sneakers For Men', 'Shuffle Ultra Sneakers For Men', 'Shuffle Ultra Sneakers For Men', 'Alpha Predator Sneakers For Men', 'Astro Kick SL Sneakers For Men', 'Thunder-03 Loafers,Casuals,Stylish with Extra Comfort S...', 'Cruise Rider Silk Road Sneakers For Women', 'Sneakers For Women', 'Astro Kick SL Sneakers For Men', 'Running Shoes,Sports Shoes for Women|Memory Foam Insole...', 'SiennaSoftrideBallerina Sneakers For Women', 'Sneaker Casual Shoes for Men | Soft Cushioned Insole, S...', 'Sneakers Lace Up For Men |Men/s British Brogues Casual ...', 'Wish Max Sneakers For Men', 'Onehill Sneakers For Men', 'OG-03 Sneakers For Men', 'Mirage Sport Tech Sneakers For Men', 'Sneakers For Men', 'X-Ray Sneakers For Men', 'Light,Comfort,Summer,Trendy,Walking,Outdoor, Premium,St...', 'Sneakers For Men', 'black shoes for men and boys Sneakers For Men', 'RBD Game Sneakers For Men', 'Sneakers For Men', 'Sneakers For Men', 'RS-X Efekt PRM Sneakers For Men', 'Hustle V2 Running Shoes For Men', 'Hustle V2 Sneakers For Men', 'black shoes for men and boys Sneakers For Men', '2 Combo Sneaker Shoes Sneakers For Men', 'Synthetic Leather |Lightweight|Comfort|Summer|Trendy|Wa...', 'Trending Stylish Casual Outdoor Sneakers Shoes For Men ...', 'Sneakers For Women', 'Casual Sneakers ColourFul Block Shoes For Boys And Men ...', 'Combo Pack Of 2 Men’s Casual Shoes Sneakers For Men', '2 Combo Sneaker Shoes Sneakers For Men', 'Bersache Lightweight Casual Shoes with High Quality Sol...', 'Sneakers For Men', 'Combo Pack Of 2 Casual Shoes Sneakers For Men', '2 Combo Sneaker Shoes Sneakers For Men', 'ANNIE Sneakers For Women', 'Sneakers For Men', 'Skipper Sneakers For Men', 'Mesh| Lightweight| Premiun| Comfort| Summer Tendy| Outd...', 'Combo Pack Of 2 Casual Shoes Sneakers For Men', 'Combo Pack Of 2 Casual Shoes Sneakers For Men', 'Zod Runner V3 Sneakers For Men', 'Bersache Lightweight Casual Shoes with High Quality Sol...', 'Combo pack of 2 Trendy Men’s Casual Shoes Sneakers For ...', 'Combo Pack Of 2 Casual Shoes Sneakers For Men', 'Casual Stylish Trending Sneakers For Women', 'Casual Sneakrs For Men Sneakers For Men', 'Hustle V2 Sneakers For Men', 'Shuffle Ultra Sneakers For Men', 'Sneakers For Men', 'Sneakers For Men', 'Sneakers For Men', 'Tread Run Sneakers For Men', 'Sneakers For Men Sneakers For Men', 'Synthetic Leather |Lightweight|Comfort|Summer|Trendy|Wa...', 'Mesh |Lightweight|Comfort|Summer|Trendy|Walking|Outdoor...', 'Sneaker Casual Shoes For Men | Soft Cushion Insole, Sli...', 'Tread Run Sneakers For Men', 'Bersache Lightweight Casual Shoes with High Quality Sol...', 'Modern Trendy Sneakers boot Sneakers For Men Sneakers F...', 'Combo_Pack_Of 2 Casual Shoes Sneakers For Men', 'Club Culture Sneakers For Men', 'Lightweight,Comfort,Summer,Trendy,Walking,Outdoor,Styli...', 'Casual Sneakers For Men ||Soft Cushioned insole,Slip-Re...', 'Thunder-03 Loafers,Casuals,Stylish with Extra Comfort S...', 'Carnival-02 Mens High Top Casual Chunky Sneakers For Me...', 'Lightweight Pack Of 1 Trendy Sneakers Sneakers For Men', 'CLARKIN Sneakers For Men', 'comfortable,durable,sport shoe,snerakers,walking & gym ...', 'Serena Sneakers For Women', 'Court Ultra Sneakers For Men', 'Sneakers For Men', 'Trinity V1 Sneakers For Men', 'Astro Kick SL Sneakers For Men', 'Thunder-03 Loafers,Casuals,Stylish with Extra Comfort S...', 'Sneakers For Men', 'Shuffle Ultra Sneakers For Men', 'Shuffle Ultra Sneakers For Men', 'Alpha Predator Sneakers For Men', 'Astro Kick SL Sneakers For Men', 'Running Shoes,Sports Shoes for Women|Memory Foam Insole...', 'Cruise Rider Silk Road Sneakers For Women', 'Sneakers For Women']\n"
     ]
    },
    {
     "data": {
      "text/plain": [
       "100"
      ]
     },
     "execution_count": 105,
     "metadata": {},
     "output_type": "execute_result"
    }
   ],
   "source": [
    "print(Description)\n",
    "len(Description)"
   ]
  },
  {
   "cell_type": "code",
   "execution_count": 106,
   "id": "1e23275a",
   "metadata": {},
   "outputs": [
    {
     "name": "stdout",
     "output_type": "stream",
     "text": [
      "['₹1,299', '₹1,459', '₹989', '₹149', '₹1,249', '₹469', '₹643', '₹643', '₹1,098', '₹2,070', '₹1,249', '₹3,220', '₹1,047', '₹1,900', '₹1,900', '₹1,339', '₹1,710', '₹643', '₹2,619', '₹499', '₹1,710', '₹679', '₹1,369', '₹1,119', '₹1,999', '₹1,349', '₹1,634', '₹1,419', '₹4,600', '₹1,039', '₹3,220', '₹653', '₹434', '₹449', '₹3,450', '₹356', '₹989', '₹5,999', '₹1,047', '₹1,047', '₹449', '₹499', '₹291', '₹299', '₹399', '₹449', '₹499', '₹499', '₹666', '₹315', '₹499', '₹499', '₹989', '₹319', '₹3,999', '₹299', '₹499', '₹479', '₹1,047', '₹553', '₹477', '₹499', '₹469', '₹555', '₹1,047', '₹2,300', '₹309', '₹394', '₹326', '₹2,070', '₹299', '₹299', '₹347', '₹1,079', '₹1,710', '₹666', '₹399', '₹499', '₹1,014', '₹198', '₹643', '₹643', '₹989', '₹149', '₹1,249', '₹469', '₹1,249', '₹3,220', '₹1,098', '₹2,070', '₹1,710', '₹643', '₹1,047', '₹1,900', '₹1,900', '₹1,339', '₹1,710', '₹679', '₹2,619', '₹499']\n"
     ]
    },
    {
     "data": {
      "text/plain": [
       "100"
      ]
     },
     "execution_count": 106,
     "metadata": {},
     "output_type": "execute_result"
    }
   ],
   "source": [
    "print(Price)\n",
    "len(Price)"
   ]
  },
  {
   "cell_type": "code",
   "execution_count": 107,
   "id": "1dcb8ef6",
   "metadata": {},
   "outputs": [
    {
     "data": {
      "text/html": [
       "<div>\n",
       "<style scoped>\n",
       "    .dataframe tbody tr th:only-of-type {\n",
       "        vertical-align: middle;\n",
       "    }\n",
       "\n",
       "    .dataframe tbody tr th {\n",
       "        vertical-align: top;\n",
       "    }\n",
       "\n",
       "    .dataframe thead th {\n",
       "        text-align: right;\n",
       "    }\n",
       "</style>\n",
       "<table border=\"1\" class=\"dataframe\">\n",
       "  <thead>\n",
       "    <tr style=\"text-align: right;\">\n",
       "      <th></th>\n",
       "      <th>Brand</th>\n",
       "      <th>Product Description</th>\n",
       "      <th>Price</th>\n",
       "    </tr>\n",
       "  </thead>\n",
       "  <tbody>\n",
       "    <tr>\n",
       "      <th>0</th>\n",
       "      <td>Airson</td>\n",
       "      <td>Picaaso Arcade | Casual Sneakers Shoes | Sneak...</td>\n",
       "      <td>₹1,299</td>\n",
       "    </tr>\n",
       "    <tr>\n",
       "      <th>1</th>\n",
       "      <td>CAMPUS</td>\n",
       "      <td>OG-03 Sneakers For Men</td>\n",
       "      <td>₹1,459</td>\n",
       "    </tr>\n",
       "    <tr>\n",
       "      <th>2</th>\n",
       "      <td>asian</td>\n",
       "      <td>Carnival-02 Mens High Top Casual Chunky Sneake...</td>\n",
       "      <td>₹989</td>\n",
       "    </tr>\n",
       "    <tr>\n",
       "      <th>3</th>\n",
       "      <td>BRUTON</td>\n",
       "      <td>Lightweight Pack Of 1 Trendy Sneakers Sneakers...</td>\n",
       "      <td>₹149</td>\n",
       "    </tr>\n",
       "    <tr>\n",
       "      <th>4</th>\n",
       "      <td>U.S. POLO ASSN.</td>\n",
       "      <td>CLARKIN Sneakers For Men</td>\n",
       "      <td>₹1,249</td>\n",
       "    </tr>\n",
       "    <tr>\n",
       "      <th>...</th>\n",
       "      <td>...</td>\n",
       "      <td>...</td>\n",
       "      <td>...</td>\n",
       "    </tr>\n",
       "    <tr>\n",
       "      <th>95</th>\n",
       "      <td>ATOM</td>\n",
       "      <td>Alpha Predator Sneakers For Men</td>\n",
       "      <td>₹1,339</td>\n",
       "    </tr>\n",
       "    <tr>\n",
       "      <th>96</th>\n",
       "      <td>PUMA</td>\n",
       "      <td>Astro Kick SL Sneakers For Men</td>\n",
       "      <td>₹1,710</td>\n",
       "    </tr>\n",
       "    <tr>\n",
       "      <th>97</th>\n",
       "      <td>Aqualite</td>\n",
       "      <td>Running Shoes,Sports Shoes for Women|Memory Fo...</td>\n",
       "      <td>₹679</td>\n",
       "    </tr>\n",
       "    <tr>\n",
       "      <th>98</th>\n",
       "      <td>PUMA</td>\n",
       "      <td>Cruise Rider Silk Road Sneakers For Women</td>\n",
       "      <td>₹2,619</td>\n",
       "    </tr>\n",
       "    <tr>\n",
       "      <th>99</th>\n",
       "      <td>VENDOZ</td>\n",
       "      <td>Sneakers For Women</td>\n",
       "      <td>₹499</td>\n",
       "    </tr>\n",
       "  </tbody>\n",
       "</table>\n",
       "<p>100 rows × 3 columns</p>\n",
       "</div>"
      ],
      "text/plain": [
       "              Brand                                Product Description   Price\n",
       "0            Airson  Picaaso Arcade | Casual Sneakers Shoes | Sneak...  ₹1,299\n",
       "1            CAMPUS                             OG-03 Sneakers For Men  ₹1,459\n",
       "2             asian  Carnival-02 Mens High Top Casual Chunky Sneake...    ₹989\n",
       "3            BRUTON  Lightweight Pack Of 1 Trendy Sneakers Sneakers...    ₹149\n",
       "4   U.S. POLO ASSN.                           CLARKIN Sneakers For Men  ₹1,249\n",
       "..              ...                                                ...     ...\n",
       "95             ATOM                    Alpha Predator Sneakers For Men  ₹1,339\n",
       "96             PUMA                     Astro Kick SL Sneakers For Men  ₹1,710\n",
       "97         Aqualite  Running Shoes,Sports Shoes for Women|Memory Fo...    ₹679\n",
       "98             PUMA          Cruise Rider Silk Road Sneakers For Women  ₹2,619\n",
       "99           VENDOZ                                 Sneakers For Women    ₹499\n",
       "\n",
       "[100 rows x 3 columns]"
      ]
     },
     "execution_count": 107,
     "metadata": {},
     "output_type": "execute_result"
    }
   ],
   "source": [
    "df=pd.DataFrame({'Brand':Brand,'Product Description':Description,'Price':Price})\n",
    "df\n"
   ]
  },
  {
   "cell_type": "markdown",
   "id": "26bc7d06",
   "metadata": {},
   "source": [
    "# 7.Amazon Laptop"
   ]
  },
  {
   "cell_type": "code",
   "execution_count": 121,
   "id": "1442ab29",
   "metadata": {},
   "outputs": [],
   "source": [
    "driver=webdriver.Chrome()"
   ]
  },
  {
   "cell_type": "code",
   "execution_count": 122,
   "id": "4cf99310",
   "metadata": {},
   "outputs": [],
   "source": [
    "driver.get(\"https://www.amazon.in/\")"
   ]
  },
  {
   "cell_type": "code",
   "execution_count": 123,
   "id": "3aeebec4",
   "metadata": {},
   "outputs": [],
   "source": [
    "search=driver.find_element(By.XPATH,\"/html/body/div[1]/header/div/div[1]/div[2]/div/form/div[2]/div[1]/input\")\n",
    "search.send_keys(\"Laptop\")\n",
    "search.submit()"
   ]
  },
  {
   "cell_type": "code",
   "execution_count": 110,
   "id": "c283a32a",
   "metadata": {},
   "outputs": [],
   "source": []
  },
  {
   "cell_type": "code",
   "execution_count": 124,
   "id": "6a6699e7",
   "metadata": {},
   "outputs": [],
   "source": [
    "filter=driver.find_element(By.XPATH,\"//span[text()='Intel Core i7']\")\n",
    "filter.click()"
   ]
  },
  {
   "cell_type": "code",
   "execution_count": 143,
   "id": "e27e58ed",
   "metadata": {},
   "outputs": [],
   "source": [
    "Title=[]\n",
    "Ratings=[]\n",
    "Price=[]\n",
    "title=driver.find_elements(By.XPATH,'//div[@data-cy=\"title-recipe\"]')\n",
    "for i in title[:10]:\n",
    "    title=i.text\n",
    "    Title.append(title)\n",
    "ratings=driver.find_elements(By.XPATH,\"//span[@class='a-icon-alt']\")\n",
    "for i in ratings[:10]:\n",
    "    ratings=i.get_attribute('innerHTML')\n",
    "    Ratings.append(ratings)\n",
    "price=driver.find_elements(By.CLASS_NAME,\"a-price-whole\")\n",
    "for i in price[:10]:\n",
    "    price=i.text\n",
    "    Price.append(price)\n"
   ]
  },
  {
   "cell_type": "code",
   "execution_count": 145,
   "id": "32ea32e8",
   "metadata": {},
   "outputs": [
    {
     "name": "stdout",
     "output_type": "stream",
     "text": [
      "['ASUS TUF Gaming F15, 15.6\"(39.62 cms) FHD 144Hz, Intel Core i7-11800H 11th Gen, 4GB NVIDIA GeForce RTX 3050 Ti, Gaming Laptop (16GB/1TB SSD/Win 11/MSO/90WHrs Battery/Black/2.30 Kg), FX506HE-HN385WS', 'MSI Modern 14, Intel 12th Gen. i7-1255U, 36CM FHD 60Hz Laptop (16GB/512GB NVMe SSD/Windows 11 Home/Intel Iris Xe Graphics/Classic Black/1.4Kg), C12M-459IN', 'Lenovo IdeaPad Slim 3 Intel Core i7 11th Gen 15.6\" (39.62cm) FHD Laptop (16GB/512GB SSD/Win 11/Office 2021/1 Year Warranty/Arctic Grey/1.65Kg), 82H803LPIN', 'ASUS Vivobook 15, IntelCore i7-12650H 12th Gen, 15.6\" (39.62 cm) FHD, Thin and Light Laptop (16 GB RAM/512GB SSD/Win11/Office 2021/Backlit/42WHr /Silver/1.75), X1502ZA-EJ742WS', 'Acer Aspire Lite Premium Metal Laptop 11th Gen Intel Core Ci7-1165G7 Thin and Light Laptop (Windows 11 Home/16GB RAM/1TB SSD/MS Office) AL15-51, 39.62cm (15.6\") Full HD Display, Steel Gray, 1.59 KG', 'Lenovo ThinkPad X1 Carbon (2021) Intel Core i7 11th Gen 14 inches WUXGA IPS Thin and Light Laptop (16GB RAM/1TB SSD/Windows 10 Professional/FPR/Black/1.133Kg), 20XWS03T00', 'MSI GF63 Thin, Intel Core i7-11800H, 40CM FHD 144Hz Gaming Laptop (8GBx2/512GB NVMe SSD/Windows 11 Home/Nvidia GeForce RTX 3050, GDDR6 4GB/Black/1.8Kg), 11UC-1293IN', 'ASUS TUF Gaming F15 (2023) 90WHr Battery, Intel Core i7-12700H 12th Gen, 15.6\" FHD 144Hz, 8GB RTX 4060, Gaming Laptop (16GB/512GB SSD/Windows 11//1-Zone RGB/Gray/2.20 Kg), FX507ZV-LP094W', 'HP Windows 11 Home Victus Gaming Laptop,12Th Gen Intel Core I7-12650H,Nvidia RTX 3050 Gpu,15.6-Inch (39.6 Cm),75W Tgp,Fhd,IPS,144Hz,9 Ms Response Time,16Gb Ddr4,512Gb Ssd (Mso,Blue,2.29 Kg),Fa0188Tx', 'Samsung Galaxy Book3 Core i7 13th Gen 1355U - (16 GB/512 GB SSD/Windows 11 Home) Galaxy Book3 Thin and Light Laptop  (15.6 Inch, Silver, 1.58 Kg, with MS Office)']\n"
     ]
    },
    {
     "data": {
      "text/plain": [
       "10"
      ]
     },
     "execution_count": 145,
     "metadata": {},
     "output_type": "execute_result"
    }
   ],
   "source": [
    "print(Title)\n",
    "len(Title)"
   ]
  },
  {
   "cell_type": "code",
   "execution_count": 146,
   "id": "6a192528",
   "metadata": {
    "scrolled": true
   },
   "outputs": [
    {
     "name": "stdout",
     "output_type": "stream",
     "text": [
      "['4.4 out of 5 stars', '4.0 out of 5 stars', '3.9 out of 5 stars', '3.9 out of 5 stars', '3.7 out of 5 stars', '3.9 out of 5 stars', '4.1 out of 5 stars', '4.1 out of 5 stars', '4.3 out of 5 stars', '3.3 out of 5 stars']\n"
     ]
    },
    {
     "data": {
      "text/plain": [
       "10"
      ]
     },
     "execution_count": 146,
     "metadata": {},
     "output_type": "execute_result"
    }
   ],
   "source": [
    "print(Ratings)\n",
    "len(Ratings)"
   ]
  },
  {
   "cell_type": "code",
   "execution_count": 147,
   "id": "c0deb759",
   "metadata": {},
   "outputs": [
    {
     "name": "stdout",
     "output_type": "stream",
     "text": [
      "['75,990', '49,990', '55,990', '60,990', '49,990', '2,48,990', '64,990', '1,08,000', '86,490', '89,490']\n"
     ]
    },
    {
     "data": {
      "text/plain": [
       "10"
      ]
     },
     "execution_count": 147,
     "metadata": {},
     "output_type": "execute_result"
    }
   ],
   "source": [
    "print(Price)\n",
    "len(Price)"
   ]
  },
  {
   "cell_type": "code",
   "execution_count": 148,
   "id": "721773f3",
   "metadata": {},
   "outputs": [
    {
     "data": {
      "text/html": [
       "<div>\n",
       "<style scoped>\n",
       "    .dataframe tbody tr th:only-of-type {\n",
       "        vertical-align: middle;\n",
       "    }\n",
       "\n",
       "    .dataframe tbody tr th {\n",
       "        vertical-align: top;\n",
       "    }\n",
       "\n",
       "    .dataframe thead th {\n",
       "        text-align: right;\n",
       "    }\n",
       "</style>\n",
       "<table border=\"1\" class=\"dataframe\">\n",
       "  <thead>\n",
       "    <tr style=\"text-align: right;\">\n",
       "      <th></th>\n",
       "      <th>Title</th>\n",
       "      <th>Ratings</th>\n",
       "      <th>Price</th>\n",
       "    </tr>\n",
       "  </thead>\n",
       "  <tbody>\n",
       "    <tr>\n",
       "      <th>0</th>\n",
       "      <td>ASUS TUF Gaming F15, 15.6\"(39.62 cms) FHD 144H...</td>\n",
       "      <td>4.4 out of 5 stars</td>\n",
       "      <td>75,990</td>\n",
       "    </tr>\n",
       "    <tr>\n",
       "      <th>1</th>\n",
       "      <td>MSI Modern 14, Intel 12th Gen. i7-1255U, 36CM ...</td>\n",
       "      <td>4.0 out of 5 stars</td>\n",
       "      <td>49,990</td>\n",
       "    </tr>\n",
       "    <tr>\n",
       "      <th>2</th>\n",
       "      <td>Lenovo IdeaPad Slim 3 Intel Core i7 11th Gen 1...</td>\n",
       "      <td>3.9 out of 5 stars</td>\n",
       "      <td>55,990</td>\n",
       "    </tr>\n",
       "    <tr>\n",
       "      <th>3</th>\n",
       "      <td>ASUS Vivobook 15, IntelCore i7-12650H 12th Gen...</td>\n",
       "      <td>3.9 out of 5 stars</td>\n",
       "      <td>60,990</td>\n",
       "    </tr>\n",
       "    <tr>\n",
       "      <th>4</th>\n",
       "      <td>Acer Aspire Lite Premium Metal Laptop 11th Gen...</td>\n",
       "      <td>3.7 out of 5 stars</td>\n",
       "      <td>49,990</td>\n",
       "    </tr>\n",
       "    <tr>\n",
       "      <th>5</th>\n",
       "      <td>Lenovo ThinkPad X1 Carbon (2021) Intel Core i7...</td>\n",
       "      <td>3.9 out of 5 stars</td>\n",
       "      <td>2,48,990</td>\n",
       "    </tr>\n",
       "    <tr>\n",
       "      <th>6</th>\n",
       "      <td>MSI GF63 Thin, Intel Core i7-11800H, 40CM FHD ...</td>\n",
       "      <td>4.1 out of 5 stars</td>\n",
       "      <td>64,990</td>\n",
       "    </tr>\n",
       "    <tr>\n",
       "      <th>7</th>\n",
       "      <td>ASUS TUF Gaming F15 (2023) 90WHr Battery, Inte...</td>\n",
       "      <td>4.1 out of 5 stars</td>\n",
       "      <td>1,08,000</td>\n",
       "    </tr>\n",
       "    <tr>\n",
       "      <th>8</th>\n",
       "      <td>HP Windows 11 Home Victus Gaming Laptop,12Th G...</td>\n",
       "      <td>4.3 out of 5 stars</td>\n",
       "      <td>86,490</td>\n",
       "    </tr>\n",
       "    <tr>\n",
       "      <th>9</th>\n",
       "      <td>Samsung Galaxy Book3 Core i7 13th Gen 1355U - ...</td>\n",
       "      <td>3.3 out of 5 stars</td>\n",
       "      <td>89,490</td>\n",
       "    </tr>\n",
       "  </tbody>\n",
       "</table>\n",
       "</div>"
      ],
      "text/plain": [
       "                                               Title             Ratings  \\\n",
       "0  ASUS TUF Gaming F15, 15.6\"(39.62 cms) FHD 144H...  4.4 out of 5 stars   \n",
       "1  MSI Modern 14, Intel 12th Gen. i7-1255U, 36CM ...  4.0 out of 5 stars   \n",
       "2  Lenovo IdeaPad Slim 3 Intel Core i7 11th Gen 1...  3.9 out of 5 stars   \n",
       "3  ASUS Vivobook 15, IntelCore i7-12650H 12th Gen...  3.9 out of 5 stars   \n",
       "4  Acer Aspire Lite Premium Metal Laptop 11th Gen...  3.7 out of 5 stars   \n",
       "5  Lenovo ThinkPad X1 Carbon (2021) Intel Core i7...  3.9 out of 5 stars   \n",
       "6  MSI GF63 Thin, Intel Core i7-11800H, 40CM FHD ...  4.1 out of 5 stars   \n",
       "7  ASUS TUF Gaming F15 (2023) 90WHr Battery, Inte...  4.1 out of 5 stars   \n",
       "8  HP Windows 11 Home Victus Gaming Laptop,12Th G...  4.3 out of 5 stars   \n",
       "9  Samsung Galaxy Book3 Core i7 13th Gen 1355U - ...  3.3 out of 5 stars   \n",
       "\n",
       "      Price  \n",
       "0    75,990  \n",
       "1    49,990  \n",
       "2    55,990  \n",
       "3    60,990  \n",
       "4    49,990  \n",
       "5  2,48,990  \n",
       "6    64,990  \n",
       "7  1,08,000  \n",
       "8    86,490  \n",
       "9    89,490  "
      ]
     },
     "execution_count": 148,
     "metadata": {},
     "output_type": "execute_result"
    }
   ],
   "source": [
    "df=pd.DataFrame({'Title':Title,'Ratings':Ratings,'Price':Price})\n",
    "df"
   ]
  },
  {
   "cell_type": "markdown",
   "id": "8fa38017",
   "metadata": {},
   "source": [
    "# 8.Scrape 1000 quotes"
   ]
  },
  {
   "cell_type": "code",
   "execution_count": 90,
   "id": "cb641025",
   "metadata": {},
   "outputs": [],
   "source": [
    "driver=webdriver.Chrome()"
   ]
  },
  {
   "cell_type": "code",
   "execution_count": 91,
   "id": "9499af46",
   "metadata": {},
   "outputs": [],
   "source": [
    "driver.get(\"https://www.azquotes.com/\")"
   ]
  },
  {
   "cell_type": "code",
   "execution_count": 92,
   "id": "d239b4be",
   "metadata": {},
   "outputs": [],
   "source": [
    "select=driver.find_element(By.XPATH,'//li/a[@href=\"/top_quotes.html\"]')\n",
    "select.click()"
   ]
  },
  {
   "cell_type": "code",
   "execution_count": 94,
   "id": "ab74fea5",
   "metadata": {},
   "outputs": [
    {
     "ename": "NoSuchElementException",
     "evalue": "Message: no such element: Unable to locate element: {\"method\":\"xpath\",\"selector\":\"//li[@class=\"next\"]\"}\n  (Session info: chrome=119.0.6045.200); For documentation on this error, please visit: https://www.selenium.dev/documentation/webdriver/troubleshooting/errors#no-such-element-exception\nStacktrace:\n\tGetHandleVerifier [0x00007FF7EF9682B2+55298]\n\t(No symbol) [0x00007FF7EF8D5E02]\n\t(No symbol) [0x00007FF7EF7905AB]\n\t(No symbol) [0x00007FF7EF7D175C]\n\t(No symbol) [0x00007FF7EF7D18DC]\n\t(No symbol) [0x00007FF7EF80CBC7]\n\t(No symbol) [0x00007FF7EF7F20EF]\n\t(No symbol) [0x00007FF7EF80AAA4]\n\t(No symbol) [0x00007FF7EF7F1E83]\n\t(No symbol) [0x00007FF7EF7C670A]\n\t(No symbol) [0x00007FF7EF7C7964]\n\tGetHandleVerifier [0x00007FF7EFCE0AAB+3694587]\n\tGetHandleVerifier [0x00007FF7EFD3728E+4048862]\n\tGetHandleVerifier [0x00007FF7EFD2F173+4015811]\n\tGetHandleVerifier [0x00007FF7EFA047D6+695590]\n\t(No symbol) [0x00007FF7EF8E0CE8]\n\t(No symbol) [0x00007FF7EF8DCF34]\n\t(No symbol) [0x00007FF7EF8DD062]\n\t(No symbol) [0x00007FF7EF8CD3A3]\n\tBaseThreadInitThunk [0x00007FF9C7827344+20]\n\tRtlUserThreadStart [0x00007FF9C95E26B1+33]\n",
     "output_type": "error",
     "traceback": [
      "\u001b[1;31m---------------------------------------------------------------------------\u001b[0m",
      "\u001b[1;31mNoSuchElementException\u001b[0m                    Traceback (most recent call last)",
      "Cell \u001b[1;32mIn[94], line 19\u001b[0m\n\u001b[0;32m     17\u001b[0m     quotetype\u001b[38;5;241m=\u001b[39mi\u001b[38;5;241m.\u001b[39mtext\n\u001b[0;32m     18\u001b[0m     Type\u001b[38;5;241m.\u001b[39mappend(quotetype)\n\u001b[1;32m---> 19\u001b[0m next_button\u001b[38;5;241m=\u001b[39mdriver\u001b[38;5;241m.\u001b[39mfind_element(By\u001b[38;5;241m.\u001b[39mXPATH,\u001b[38;5;124m'\u001b[39m\u001b[38;5;124m//li[@class=\u001b[39m\u001b[38;5;124m\"\u001b[39m\u001b[38;5;124mnext\u001b[39m\u001b[38;5;124m\"\u001b[39m\u001b[38;5;124m]\u001b[39m\u001b[38;5;124m'\u001b[39m)\n\u001b[0;32m     20\u001b[0m next_button\u001b[38;5;241m.\u001b[39mclick()\n\u001b[0;32m     21\u001b[0m time\u001b[38;5;241m.\u001b[39msleep(\u001b[38;5;241m80\u001b[39m)\n",
      "File \u001b[1;32m~\\anaconda3.1\\Lib\\site-packages\\selenium\\webdriver\\remote\\webdriver.py:741\u001b[0m, in \u001b[0;36mWebDriver.find_element\u001b[1;34m(self, by, value)\u001b[0m\n\u001b[0;32m    738\u001b[0m     by \u001b[38;5;241m=\u001b[39m By\u001b[38;5;241m.\u001b[39mCSS_SELECTOR\n\u001b[0;32m    739\u001b[0m     value \u001b[38;5;241m=\u001b[39m \u001b[38;5;124mf\u001b[39m\u001b[38;5;124m'\u001b[39m\u001b[38;5;124m[name=\u001b[39m\u001b[38;5;124m\"\u001b[39m\u001b[38;5;132;01m{\u001b[39;00mvalue\u001b[38;5;132;01m}\u001b[39;00m\u001b[38;5;124m\"\u001b[39m\u001b[38;5;124m]\u001b[39m\u001b[38;5;124m'\u001b[39m\n\u001b[1;32m--> 741\u001b[0m \u001b[38;5;28;01mreturn\u001b[39;00m \u001b[38;5;28mself\u001b[39m\u001b[38;5;241m.\u001b[39mexecute(Command\u001b[38;5;241m.\u001b[39mFIND_ELEMENT, {\u001b[38;5;124m\"\u001b[39m\u001b[38;5;124musing\u001b[39m\u001b[38;5;124m\"\u001b[39m: by, \u001b[38;5;124m\"\u001b[39m\u001b[38;5;124mvalue\u001b[39m\u001b[38;5;124m\"\u001b[39m: value})[\u001b[38;5;124m\"\u001b[39m\u001b[38;5;124mvalue\u001b[39m\u001b[38;5;124m\"\u001b[39m]\n",
      "File \u001b[1;32m~\\anaconda3.1\\Lib\\site-packages\\selenium\\webdriver\\remote\\webdriver.py:347\u001b[0m, in \u001b[0;36mWebDriver.execute\u001b[1;34m(self, driver_command, params)\u001b[0m\n\u001b[0;32m    345\u001b[0m response \u001b[38;5;241m=\u001b[39m \u001b[38;5;28mself\u001b[39m\u001b[38;5;241m.\u001b[39mcommand_executor\u001b[38;5;241m.\u001b[39mexecute(driver_command, params)\n\u001b[0;32m    346\u001b[0m \u001b[38;5;28;01mif\u001b[39;00m response:\n\u001b[1;32m--> 347\u001b[0m     \u001b[38;5;28mself\u001b[39m\u001b[38;5;241m.\u001b[39merror_handler\u001b[38;5;241m.\u001b[39mcheck_response(response)\n\u001b[0;32m    348\u001b[0m     response[\u001b[38;5;124m\"\u001b[39m\u001b[38;5;124mvalue\u001b[39m\u001b[38;5;124m\"\u001b[39m] \u001b[38;5;241m=\u001b[39m \u001b[38;5;28mself\u001b[39m\u001b[38;5;241m.\u001b[39m_unwrap_value(response\u001b[38;5;241m.\u001b[39mget(\u001b[38;5;124m\"\u001b[39m\u001b[38;5;124mvalue\u001b[39m\u001b[38;5;124m\"\u001b[39m, \u001b[38;5;28;01mNone\u001b[39;00m))\n\u001b[0;32m    349\u001b[0m     \u001b[38;5;28;01mreturn\u001b[39;00m response\n",
      "File \u001b[1;32m~\\anaconda3.1\\Lib\\site-packages\\selenium\\webdriver\\remote\\errorhandler.py:229\u001b[0m, in \u001b[0;36mErrorHandler.check_response\u001b[1;34m(self, response)\u001b[0m\n\u001b[0;32m    227\u001b[0m         alert_text \u001b[38;5;241m=\u001b[39m value[\u001b[38;5;124m\"\u001b[39m\u001b[38;5;124malert\u001b[39m\u001b[38;5;124m\"\u001b[39m]\u001b[38;5;241m.\u001b[39mget(\u001b[38;5;124m\"\u001b[39m\u001b[38;5;124mtext\u001b[39m\u001b[38;5;124m\"\u001b[39m)\n\u001b[0;32m    228\u001b[0m     \u001b[38;5;28;01mraise\u001b[39;00m exception_class(message, screen, stacktrace, alert_text)  \u001b[38;5;66;03m# type: ignore[call-arg]  # mypy is not smart enough here\u001b[39;00m\n\u001b[1;32m--> 229\u001b[0m \u001b[38;5;28;01mraise\u001b[39;00m exception_class(message, screen, stacktrace)\n",
      "\u001b[1;31mNoSuchElementException\u001b[0m: Message: no such element: Unable to locate element: {\"method\":\"xpath\",\"selector\":\"//li[@class=\"next\"]\"}\n  (Session info: chrome=119.0.6045.200); For documentation on this error, please visit: https://www.selenium.dev/documentation/webdriver/troubleshooting/errors#no-such-element-exception\nStacktrace:\n\tGetHandleVerifier [0x00007FF7EF9682B2+55298]\n\t(No symbol) [0x00007FF7EF8D5E02]\n\t(No symbol) [0x00007FF7EF7905AB]\n\t(No symbol) [0x00007FF7EF7D175C]\n\t(No symbol) [0x00007FF7EF7D18DC]\n\t(No symbol) [0x00007FF7EF80CBC7]\n\t(No symbol) [0x00007FF7EF7F20EF]\n\t(No symbol) [0x00007FF7EF80AAA4]\n\t(No symbol) [0x00007FF7EF7F1E83]\n\t(No symbol) [0x00007FF7EF7C670A]\n\t(No symbol) [0x00007FF7EF7C7964]\n\tGetHandleVerifier [0x00007FF7EFCE0AAB+3694587]\n\tGetHandleVerifier [0x00007FF7EFD3728E+4048862]\n\tGetHandleVerifier [0x00007FF7EFD2F173+4015811]\n\tGetHandleVerifier [0x00007FF7EFA047D6+695590]\n\t(No symbol) [0x00007FF7EF8E0CE8]\n\t(No symbol) [0x00007FF7EF8DCF34]\n\t(No symbol) [0x00007FF7EF8DD062]\n\t(No symbol) [0x00007FF7EF8CD3A3]\n\tBaseThreadInitThunk [0x00007FF9C7827344+20]\n\tRtlUserThreadStart [0x00007FF9C95E26B1+33]\n"
     ]
    }
   ],
   "source": [
    "Quote=[]\n",
    "Author=[]\n",
    "Type=[]\n",
    "start=0\n",
    "end=10\n",
    "for page in range(start,end):\n",
    "    quote=driver.find_elements(By.XPATH,'//a[@class=\"title\"]')\n",
    "    for i in quote:\n",
    "        quote=i.text\n",
    "        Quote.append(quote)\n",
    "    author=driver.find_elements(By.XPATH,'//div[@class=\"author\"]/a')\n",
    "    for i in author:\n",
    "        author=i.text\n",
    "        Author.append(author)\n",
    "    quotetype=driver.find_elements(By.XPATH,'//div[@class=\"tags\"]')\n",
    "    for i in quotetype:\n",
    "        quotetype=i.text\n",
    "        Type.append(quotetype)\n",
    "    next_button=driver.find_element(By.XPATH,'//li[@class=\"next\"]')\n",
    "    next_button.click()\n",
    "    time.sleep(80)\n",
    "break\n",
    "\n",
    "    \n",
    "    \n"
   ]
  },
  {
   "cell_type": "code",
   "execution_count": 95,
   "id": "5e470f50",
   "metadata": {
    "scrolled": true
   },
   "outputs": [
    {
     "name": "stdout",
     "output_type": "stream",
     "text": [
      "['The essence of strategy is choosing what not to do.', 'One cannot and must not try to erase the past merely because it does not fit the present.', 'Patriotism means to stand by the country. It does not mean to stand by the president.', 'Death is something inevitable. When a man has done what he considers to be his duty to his people and his country, he can rest in peace. I believe I have made that effort and that is, therefore, why I will sleep for the eternity.', 'You have to love a nation that celebrates its independence every July 4, not with a parade of guns, tanks, and soldiers who file by the White House in a show of strength and muscle, but with family picnics where kids throw Frisbees, the potato salad gets iffy, and the flies die from happiness. You may think you have overeaten, but it is patriotism.', 'Be more concerned with your character than your reputation, because your character is what you really are, while your reputation is merely what others think you are.', 'Weak people revenge. Strong people forgive. Intelligent People Ignore.', \"A mind is like a parachute. It doesn't work if it is not open.\", 'Never be afraid to raise your voice for honesty and truth and compassion against injustice and lying and greed. If people all over the world...would do this, it would change the earth.', 'There are three kinds of men. The one that learns by reading. The few who learn by observation. The rest of them have to pee on the electric fence for themselves.', \"A strong nation, like a strong person, can afford to be gentle, firm, thoughtful, and restrained. It can afford to extend a helping hand to others. It's a weak nation, like a weak person, that must behave with bluster and boasting and rashness and other signs of insecurity.\", 'The difference between stupidity and genius is that genius has its limits.', 'We the people are the rightful masters of both Congress and the courts, not to overthrow the Constitution but to overthrow the men who pervert the Constitution.', 'With or without religion, you would have good people doing good things and evil people doing evil things. But for good people to do evil things, that takes religion.', 'Human kindness has never weakened the stamina or softened the fiber of a free people. A nation does not have to be cruel to be tough.', 'A person who never made a mistake never tried anything new.', 'My mission in life is not merely to survive, but to thrive; and to do so with some passion, some compassion, some humor, and some style', 'Life is short, Break the Rules. Forgive quickly, Kiss slowly. Love truly. Laugh uncontrollably And never regret ANYTHING That makes you smile.', 'This country will not be a good place for any of us to live in unless we make it a good place for all of us to live in.', 'In a world filled with hate, we must still dare to hope. In a world filled with anger, we must still dare to comfort. In a world filled with despair, we must still dare to dream. And in a world filled with distrust, we must still dare to believe.', 'Darkness cannot drive out darkness; only light can do that. Hate cannot drive out hate; only love can do that.', 'To be a Christian means to forgive the inexcusable because God has forgiven the inexcusable in you.', 'A man who is good enough to shed his blood for the country is good enough to be given a square deal afterwards.', 'Kindness is the language which the deaf can hear and the blind can see.', 'Most folks are as happy as they make up their minds to be.', 'A happy marriage is the union of two good forgivers.', 'I believe in Christianity as I believe that the sun has risen: not only because I see it, but because by it I see everything else.', 'Politics is the art of looking for trouble, finding it everywhere, diagnosing it incorrectly and applying the wrong remedies.', \"I believe in everything until it's disproved. So I believe in fairies, the myths, dragons. It all exists, even if it's in your mind. Who's to say that dreams and nightmares aren't as real as the here and now?\", 'At the end of your life, you will never regret not having passed one more test, not winning one more verdict or not closing one more deal. You will regret time not spent with a husband, a friend, a child, or a parent.', 'I never think of the future - it comes soon enough.', \"Our greatest fear should not be of failure but of succeeding at things in life that don't really matter.\", 'Failure is simply the opportunity to begin again, this time more intelligently.', 'Music expresses that which cannot be put into words.', 'Good actions are a guard against the blows of adversity.', 'Positive thinking will let you do everything better than negative thinking will.', \"You have enemies? Good. That means you've stood up for something, sometime in your life.\", \"You don't have to be great to start, but you have to start to be great\", 'Let every nation know, whether it wishes us well or ill, that we shall pay any price, bear any burden, meet any hardship, support any friend, oppose any foe to assure the survival and the success of liberty.', \"If you want total security, go to prison. There you're fed, clothed, given medical care and so on. The only thing lacking... is freedom.\", 'Socialism is a philosophy of failure, the creed of ignorance, and the gospel of envy, its inherent virtue is the equal sharing of misery.', 'It is the supreme art of the teacher to awaken joy in creative expression and knowledge.', \"Once you replace negative thoughts with positive ones, you'll start having positive results.\", \"You build on failure. You use it as a stepping stone. Close the door on the past. You don't try to forget the mistakes, but you don't dwell on it. You don't let it have any of your energy, or any of your time, or any of your space.\", 'All my life through, the new sights of Nature made me rejoice like a child.', \"I've learned that people will forget what you said, people will forget what you did, but people will never forget how you made them feel.\", 'Marriage is not a ritual or an end. It is a long, intricate, intimate dance together and nothing matters more than your own sense of balance and your choice of partner.', 'When obstacles arise, you change your direction to reach your goal; you do not change your decision to get there.', 'Time you enjoy wasting, was not wasted.', 'The next time some academics tell you how important diversity is, ask how many Republicans there are in their sociology department.', 'Faith is not the belief that God will do what you want. It is the belief that God will do what is right.', \"If you can't fly then run, if you can't run then walk, if you can't walk then crawl, but whatever you do you have to keep moving forward.\", 'It is hard to imagine a more stupid or more dangerous way of making decisions than by putting those decisions in the hands of people who pay no price for being wrong.', 'I say that the most liberating thing about beauty is realizing that you are the beholder.', 'The ultimate measure of a man is not where he stands in moments of comfort and convenience, but where he stands at times of challenge and controversy.', 'The soldier, above all other people, prays for peace, for he must suffer and bear the deepest wounds and scars of war.', 'A true leader has the confidence to stand alone, the courage to make tough decisions, and the compassion to listen to the needs of others. He does not set out to be a leader, but becomes one by the equality of his actions and the integrity of his intent.', 'I am a Soldier, I fight where I am told, and I win where I fight.', \"Trying to do the Lord's work in your own strength is the most confusing, exhausting, and tedious of all work. But when you are filled with the Holy Spirit, then the ministry of Jesus just flows out of you.\", \"Sports for me is when a guy walks off the court, and you really can't tell whether he won or lost, when he carries himself with pride either way.\", 'Expect the best. Prepare for the worst. Capitalize on what comes.', 'I became insane, with long intervals of horrible sanity.', 'Failure is a detour, not a dead-end street.', 'I am not a product of my circumstances. I am a product of my decisions.', 'You can cut all the flowers but you cannot keep spring from coming.', \"Life doesn't run away from nobody. Life runs at people.\", 'In order to succeed, your desire for success should be greater than your fear of failure.', \"It's difficult to think anything but pleasant thoughts while eating a homegrown tomato.\", 'Too many of us are not living our dreams because we are living our fears.', 'If the only prayer you ever say in your entire life is thank you, it will be enough.', \"It's just a job. Grass grows, birds fly, waves pound the sand. I beat people up.\", 'A man must be big enough to admit his mistakes, smart enough to profit from them, and strong enough to correct them.', 'Our greatest weakness lies in giving up. The most certain way to succeed is always to try just one more time.', 'This is one small step for a man, one giant leap for mankind.', \"It has been said, 'time heals all wounds.' I do not agree. The wounds remain. In time, the mind, protecting its sanity, covers them with scar tissue and the pain lessens. But it is never gone.\", \"I have held many things in my hands, and I have lost them all; but whatever I have placed in God's hands, that I still possess.\", \"Welfare's purpose should be to eliminate, as far as possible, the need for its own existence.\", 'Each time, before you intercede, be quiet first, and worship God in His glory. Think of what He can do, and how He delights to hear the prayers of His redeemed people. Think of your place and privilege in Christ, and expect great things!', \"Failure is not the opposite of success; it's part of success.\", 'No one has ever become poor by giving.', 'It is not my ability, but my response to God’s ability, that counts.', 'No one is born hating another person because of the color of his skin, or his background, or his religion. People must learn to hate, and if they can learn to hate, they can be taught to love, for love comes more naturally to the human heart than its opposite.', 'No matter what people tell you, words and ideas can change the world.', 'A man should never neglect his family for business.', 'Those who dare to fail miserably can achieve greatly.', 'The two most important days in your life are the day you are born and the day you find out why.', 'We must be global Christians with a global vision because our God is a global God.', 'With everything that has happened to you, you can either feel sorry for yourself or treat what has happened as a gift. Everything is either an opportunity to grow or an obstacle to keep you from growing. You get to choose.', 'Don’t let the noise of others’ opinions drown out your own inner voice.', 'History, despite its wrenching pain, cannot be unlived, but if faced with courage, need not be lived again.', \"How old would you be if you didn't know how old you are?\", 'Leadership is a privilege to better the lives of others. It is not an opportunity to satisfy personal greed.', 'If you have good thoughts they will shine out of your face like sunbeams and you will always look lovely.', 'Never cut a tree down in the wintertime. Never make a negative decision in the low time. Never make your most important decisions when you are in your worst moods. Wait. Be patient. The storm will pass. The spring will come.', 'An optimist stays up until midnight to see the new year in. A pessimist stays up to make sure the old year leaves.', 'When the going gets weird, the weird turn pro.', \"When a train goes through a tunnel and it gets dark, you don't throw away the ticket and jump off. You sit still and trust the engineer.\", 'If you think you are too small to make a difference, try sleeping with a mosquito.', \"God doesn't require us to succeed, he only requires that you try.\", 'Change your thoughts and you change your world.', 'Can words describe the fragrance of the very breath of spring?', 'Faith is to believe what you do not see; the reward of this faith is to see what you believe.', 'When everything seems to be going against you, remember that the airplane takes off against the wind, not with it.', 'I have found that if you love life, life will love you back.', 'To disarm the people... was the best and most effectual way to enslave them.', 'Today a reader, tomorrow a leader.', \"A dream doesn't become reality through magic; it takes sweat, determination and hard work.\", 'Whoever would overthrow the liberty of a nation must begin by subduing the freeness of speech.', \"It's better to be a lion for a day than a sheep all your life.\", 'Resolution One: I will live for God. Resolution Two: If no one else does, I still will.', 'Tell me and I forget. Teach me and I remember. Involve me and I learn.', 'Fear is the main source of superstition, and one of the main sources of cruelty. To conquer fear is the beginning of wisdom.', 'Do not be embarrassed by your failures, learn from them and start again.', 'Everyone should be respected as an individual, but no one idolized.', \"Our worst days are never so bad that you are beyond the reach of God's grace. And your best days are never so good that you are beyond the need of God's grace.\", 'The more you like yourself, the less you are like anyone else, which makes you unique.', 'If there is no struggle, there is no progress.', 'If more of us valued food and cheer and song above hoarded gold, it would be a merrier world.', 'Success consists of going from failure to failure without loss of enthusiasm.', \"Don't aim for success if you want it; just do what you love and believe in, and it will come naturally.\", \"You know why there's a Second Amendment? In case the government fails to follow the first one.\", 'Nothing will work unless you do.', 'There are no secrets to success. It is the result of preparation, hard work, and learning from failure.', 'The hunger for love is much more difficult to remove than the hunger for bread.', 'Love yourself. It is important to stay positive because beauty comes from the inside out.', \"Life's most persistent and urgent question is, 'What are you doing for others?'\", 'Be faithful in small things because it is in them that your strength lies.', 'There is no greater happiness for a man than approaching a door at the end of a day knowing someone on the other side of that door is waiting for the sound of his footsteps.', 'Underlying most arguments against the free market is a lack of belief in freedom itself.', 'I hear and I forget. I see and I remember. I do and I understand.', \"It happens to everyone as they grow up. You find out who you are and what you want, and then you realize that people you've known forever don't see things the way you do. So you keep the wonderful memories, but find yourself moving on.\", 'An intelligent hell would be better than a stupid paradise.', 'I have a dream that my four little children will one day live in a nation where they will not be judged by the color of their skin, but by the content of their character.', 'Never worry about numbers. Help one person at a time and always start with the person nearest you.', 'Run when you can, walk if you have to, crawl if you must; just never give up.', 'If you want others to be happy, practice compassion. If you want to be happy, practice compassion.', \"You are responsible for your life. You can't keep blaming somebody else for your dysfunction. Life is really about moving on.\", \"Don't limit yourself. Many people limit themselves to what they think they can do. You can go as far as your mind lets you. What you believe, remember, you can achieve.\", 'When we lose one blessing, another is often most unexpectedly given in its place.', 'I only regret that I have but one life to lose for my country.', 'The only place success comes before work is in the dictionary.', 'Music was my refuge. I could crawl into the space between the notes and curl my back to loneliness.', 'The greatest enemy to human souls is the self-righteous spirit which makes men look to themselves for salvation.', 'My religion is very simple. My religion is kindness.', 'The Marines I have seen around the world have the cleanest bodies, the filthiest minds, the highest morale, and the lowest morals of any group of animals I have ever seen. Thank God for the United States Marine Corps!', 'With God in charge, I believe everything will work out for the best in the end.', 'A government that robs Peter to pay Paul can always depend on the support of Paul.', \"We can't help everyone, but everyone can help someone.\", \"Tolerance implies no lack of commitment to one's own beliefs. Rather it condemns the oppression or persecution of others.\", 'Worry does not empty tomorrow of its sorrow. It empties today of its strength.', 'Luck is predictable; the harder you work, the luckier you get.', 'Beware of false knowledge; it is more dangerous than ignorance.', 'A successful man is one who can lay a firm foundation with the bricks others have thrown at him.', 'There is no substitute for hard work.', \"When you have a dream, you've got to grab it and never let go.\", 'Whoever said the pen is mightier than the sword obviously never encountered automatic weapons.', 'He is happiest, be he king or peasant, who finds peace in his home.', 'The greatest discovery of all time is that a person can change his future by merely changing his attitude.', 'The size of your success is measured by the strength of your desire; the size of your dream; and how you handle disappointment along the way.', \"The dog is a gentleman; I hope to go to his heaven not man's.\", \"Don't judge each day by the harvest you reap but by the seeds that you plant.\", 'I can be changed by what happens to me. But I refuse to be reduced by it.', 'To acquire knowledge, one must study; but to acquire wisdom, one must observe.', 'No person is your friend who demands your silence, or denies your right to grow.', \"If you can't make it good, at least make it look good.\", 'Love begins by taking care of the closest ones - the ones at home.', 'Our death is not an end if we can live on in our children and the younger generation. For they are us; our bodies are only wilted leaves on the tree of life.', 'All great change in America begins at the dinner table.', 'Winning takes talent; to repeat takes character.', \"Humility is not thinking less of yourself, it's thinking of yourself less.\", 'You are always a student, never a master. You have to keep moving forward.', \"That's the real trouble with the world, too many people grow up.\", 'If we want to find safe alternatives to obstetrics, we must rediscover midwifery. To rediscover midwifery is the same as giving back childbirth to women. And imagine the future if surgical teams were at the service of the midwives and the women instead of controlling them.', 'Women are made to be loved, not understood.', \"Don't wait. The time will never be just right.\", 'One of the greatest diseases is to be nobody to anybody.', 'Real loss is only possible when you love something more than you love yourself.', 'Opportunity is missed by most people because it is dressed in overalls and looks like work.', \"A mother's love for her child is like nothing else in the world. It knows no law, no pity, it dares all things and crushes down remorselessly all that stands in its path.\", 'When a woman becomes her own best friend life is easier.', 'One of the most tragic things I know about human nature is that all of us tend to put off living. We are all dreaming of some magical rose garden over the horizon instead of enjoying the roses that are blooming outside our windows today.', 'If your actions inspire others to dream more, learn more, do more and become more, you are a leader.', 'Children learn more from what you are than what you teach.', 'Optimism is a happiness magnet. If you stay positive, good things and good people will be drawn to you.', \"We cannot be both the world's leading champion of peace and the world's leading supplier of the weapons of war.\", \"Life isn't about finding yourself. Life is about creating yourself.\", 'The only thing worse than being blind is having sight but no vision.', \"I'd rather attempt to do something great and fail than to attempt to do nothing and succeed.\", 'Keep your dreams alive. Understand to achieve anything requires faith and belief in yourself, vision, hard work, determination, and dedication. Remember all things are possible for those who believe.', 'Whatever you want in life, other people are going to want it too. Believe in yourself enough to accept the idea that you have an equal right to it.', 'Even if I knew that tomorrow the world would go to pieces, I would still plant my apple tree.', 'Disciplining yourself to do what you know is right and important, although difficult, is the highroad to pride, self-esteem, and personal satisfaction.', 'All great achievements require time.', 'Success is not the key to happiness. Happiness is the key to success. If you love what you are doing, you will be successful.', 'When one door closes, another opens; but we often look so long and so regretfully upon the closed door that we do not see the one which has opened for us.', 'Discipline is the bridge between goals and accomplishment.', \"Don't find fault, find a remedy.\", \"I used to think the worst thing in life was to end up all alone. It's not. The worst thing in life is to end up with people who make you feel all alone.\", \"Friends and good manners will carry you where money won't go.\", 'If you want to make a permanent change, stop focusing on the size of your problems and start focusing on the size of you!', 'Success is not final, failure is not fatal: it is the courage to continue that counts.', 'A day of worry is more exhausting than a week of work.', 'Strive not to be a success, but rather to be of value.', 'Cancer can take away all of my physical abilities. It cannot touch my mind, it cannot touch my heart, and it cannot touch my soul.', 'Honesty is the first chapter in the book of wisdom.', 'Build your own dreams, or someone else will hire you to build theirs.', 'Intense love does not measure, it just gives.', \"Try to be a rainbow in someone's cloud.\", 'A failure is not always a mistake, it may simply be the best one can do under the circumstances. The real mistake is to stop trying.', 'Whatever we plant in our subconscious mind and nourish with repetition and emotion will one day become a reality.', 'I have decided to stick with love. Hate is too great a burden to bear.', 'All of our dreams can come true...', 'If I were not a physicist, I would probably be a musician. I often think in music. I live my daydreams in music. I see my life in terms of music.', 'Your most unhappy customers are your greatest source of learning.', 'Coming together is a beginning; keeping together is progress; working together is success.', 'Never do anything against conscience even if the state demands it.', 'The future belongs to those who believe in the beauty of their dreams.', 'Baseball was, is and always will be to me the best game in the world.', 'Go for it now. The future is promised to no one.', 'Monsters are real, and ghosts are real too. They live inside us, and sometimes, they win.', 'Never, never and never again shall it be that this beautiful land will again experience the oppression of one by another.', \"When you can't make them see the light, make them feel the heat.\", 'Action may not always bring happiness; but there is no happiness without action.', 'The way to get started is to quit talking and begin doing.', 'The soul always knows what to do to heal itself. The challenge is to silence the mind', 'What can you do to promote world peace? Go home and love your family.', \"You don't have to see the whole staircase, just take the first step.\", 'Our life is what our thoughts make it.', 'Delete the negative; accentuate the positive!', 'Boys, you must strive to find your own voice, because the longer you wait to begin the less likely you are to find it at all.', \"There are two ways of exerting one's strength: one is pushing down, the other is pulling up.\", 'Great minds have purposes; others have wishes.', \"Don't waste a minute not being happy. If one window closes, run to the next window- or break down a door.\", 'A good conscience is a continual Christmas.', \"A mother's arms are more comforting than anyone else's.\", 'Before anything else, preparation is the key to success.', 'Laziness may appear attractive, but work gives satisfaction.', 'Sometimes I am two people. Johnny is the nice one. Cash causes all the trouble. They fight.', 'Yesterday is not ours to recover, but tomorrow is ours to win or lose.', 'It does not matter how slowly you go as long as you do not stop.', 'Leadership is the capacity to translate vision into reality.', 'If you take responsibility for yourself you will develop a hunger to accomplish your dreams.', 'Success is getting what you want. Happiness is wanting what you get.', 'Optimism is the faith that leads to achievement. Nothing can be done without hope and confidence.', 'Success is having to worry about every damn thing in the world, except money.', 'No one remembers who came in second.', 'The way I see it, if you want the rainbow, you gotta put up with the rain.', 'The object of war is not to die for your country but to make the other bastard die for his.', 'Formal education will make you a living; self-education will make you a fortune.', 'A warm smile is the universal language of kindness.', 'To improve is to change; to be perfect is to change often.', \"I, not events, have the power to make me happy or unhappy today. I can choose which it shall be. Yesterday is dead, tomorrow hasn't arrived yet. I have just one day, today, and I'm going to be happy in it.\", \"Don't be pushed by your problems. Be led by your dreams.\", \"Don't wait around for other people to be happy for you. Any happiness you get you've got to make yourself.\", \"Our prime purpose in this life is to help others. And if you can't help them, at least don't hurt them.\", 'The amount of good luck coming your way depends on your willingness to act.', 'How people treat you is their karma; how you react is yours.', \"Be happy in the moment, that's enough. Each moment is all we need, not more.\", 'Live without pretending, love without depending, listen without defending, speak without offending.', \"I believe that everything happens for a reason. People change so that you can learn to let go, things go wrong so that you appreciate them when they're right, you believe lies so you eventually learn to trust no one but yourself, and sometimes good things fall apart so better things can fall together.\", \"Promise me you'll always remember: You're braver than you believe, and stronger than you seem, and smarter than you think.\", \"If winning isn't everything, why do they keep score?\", 'The only person you are destined to become is the person you decide to be.', 'Happiness is not something you postpone for the future; it is something you design for the present.', 'Love is a fruit in season at all times, and within reach of every hand.', \"You may be disappointed if you fail, but you are doomed if you don't try.\", \"My home is in Heaven. I'm just traveling through this world.\", \"Opportunities are usually disguised as hard work, so most people don't recognize them.\", 'History does not long entrust the care of freedom to the weak or the timid.', 'We all have ability. The difference is how we use it.', 'Too often we underestimate the power of a touch, a smile, a kind word, a listening ear, an honest compliment, or the smallest act of caring, all of which have the potential to turn a life around.', 'You know, one day you look at the person and you see something more than you did the night before. Like a switch has been flicked somewhere. And the person who was just a friend is... suddenly the only person you can ever imagine yourself with.', \"Let others lead small lives, but not you. Let others argue over small things, but not you. Let others cry over small hurts, but not you. Let others leave their future in someone else's hands, but not you.\", \"The Marine Corps has just been called by the New York Times, 'The elite of this country.' I think it is the elite of the world.\", \"I didn't fail the test, I just found 100 ways to do it wrong.\", 'Our life is frittered away by detail... simplify, simplify.', 'Strength does not come from physical capacity. It comes from an indomitable will.', 'All successful people, men and women, are big dreamers. They imagine what their future could be, ideal in every respect, and then they work every day toward their distant vision, that goal or purpose.', \"Never limit yourself because of others' limited imagination; never limit others because of your own limited imagination.\", 'Wherever you go, go with all your heart.', \"I wasn't afraid to fail. Something good always comes out of failure.\", 'A life spent making mistakes is not only more honorable, but more useful than a life spent doing nothing.', \"I don't believe you have to be better than everybody else. I believe you have to be better than you ever thought you could be.\", \"How do you tell a communist? Well, it's someone who reads Marx and Lenin. And how do you tell an anti-Communist? It's someone who understands Marx and Lenin.\", 'Getting over a painful experience is much like crossing monkey bars. You have to let go at some point in order to move forward.', 'We can complain because rose bushes have thorns, or rejoice because thorn bushes have roses.', \"I don't know the key to success, but the key to failure is trying to please everybody.\", 'The primary cause of unhappiness is never the situation but your thoughts about it.', 'Only those who will risk going too far can possibly find out how far one can go.', 'To change a habit, make a conscious decision, then act out the new behavior.', \"Don't worry about failure; you only have to be right once.\", \"Your present circumstances don't determine where you can go; they merely determine where you start.\", 'If you are not willing to risk the unusual, you will have to settle for the ordinary.', 'Happiness is when what you think, what you say, and what you do are in harmony.', 'The past cannot be changed. The future is yet in your power.', \"Don't watch the clock; do what it does. Keep going.\", \"Don't wait for extraordinary opportunities. Seize common occasions and make them great. Weak men wait for opportunities; strong men make them.\", \"If you're not careful, the newspapers will have you hating the people who are being oppressed, and loving the people who are doing the oppressing.\", 'I celebrated Thanksgiving in an old-fashioned way. I invited everyone in my neighborhood to my house, we had an enormous feast, and then I killed them and took their land.', \"One of the things I learned the hard way was that it doesn't pay to get discouraged. Keeping busy and making optimism a way of life can restore your faith in yourself.\", \"A dress should be tight enough to show you're a woman and loose enough to prove you're a lady.\", \"Sir, my concern is not whether God is on our side; my greatest concern is to be on God's side, for God is always right.\", 'If you love what you are doing, you will be successful.', 'Patience, persistence and perspiration make an unbeatable combination for success.', 'Christmas is the season of joy, of holiday greetings exchanged, of gift-giving,and of families united.', 'Setting goals is the first step in turning the invisible into the visible.', \"Above all, we must realize that no arsenal, or no weapon in the arsenals of the world, is so formidable as the will and moral courage of free men and women. It is a weapon our adversaries in today's world do not have.\", \"Take chances, make mistakes. That's how you grow. Pain nourishes your courage. You have to fail in order to practice being brave.\", \"Define success on your own terms, achieve it by your own rules, and build a life you're proud to live.\", 'If you judge people, you have no time to love them.', 'A nation that continues year after year to spend more money on military defense than on programs of social uplift is approaching spiritual doom.', \"Take care of your body. It's the only place you have to live.\", 'Only I can change my life. No one can do it for me.', \"Don't give up at half time. Concentrate on winning the second half.\", \"The most important thing is to enjoy your life - to be happy - it's all that matters.\", 'Never let your head hang down. Never give up and sit down and grieve. Find another way.', 'If you fell down yesterday, stand up today.', 'It is not how much we have, but how much we enjoy, that makes happiness.', 'Losers live in the past. Winners learn from the past and enjoy working in the present toward the future.', \"Don't dwell on what went wrong.\\nInstead, focus on what to do next.\\nSpend your energies on moving forward\\ntoward finding the answer.\", 'We must be willing to let go of the life we have planned, so as to have the life that is waiting for us.', 'A mind that is stretched by a new experience can never go back to its old dimensions.', 'The most important thing a father can do for his children is to love their mother.', 'The starting point of all achievement is desire.', 'Pray, and let God worry.', 'Work harder on yourself than you do on your job.', 'Nothing in life is to be feared, it is only to be understood. Now is the time to understand more, so that we may fear less.', \"Set your goals high, and don't stop till you get there.\", \"What is a teacher? I'll tell you: it isn't someone who teaches something, but someone who inspires the student to give of her best in order to discover what she already knows.\", 'Like slavery and apartheid, poverty is not natural. It is man-made and it can be overcome and eradicated by the actions of human beings.', 'Success depends upon previous preparation, and without such preparation there is sure to be failure.', 'We must let go of the life we have planned, so as to accept the one that is waiting for us.', 'A leader is a dealer in hope.', \"You don't learn to walk by following rules. You learn by doing, and by falling over.\", \"A leader takes people where they want to go. A great leader takes people where they don't necessarily want to go, but ought to be.\", 'Belief in oneself is one of the most important bricks in building any successful venture.', 'Experience is simply the name we give our mistakes.', 'The meaning of life is to find your gift. The purpose of life is to give it away.', \"If you are a pop band, don't say you're a metal band. Poison and Warrant were about as metal as the Backstreet Boys.\", 'One person with passion is better than forty people merely interested.', 'Change the changeable, accept the unchangeable, and remove yourself from the unacceptable.', 'I like to see a man proud of the place in which he lives. I like to see a man live so that his place will be proud of him.', \"It's not what you look at that matters, it's what you see.\", \"Life is simple. Everything happens for you, not to you. Everything happens at exactly the right moment, neither too soon nor too late. You don't have to like it... it's just easier if you do.\", \"Hard work spotlights the character of people: some turn up their sleeves, some turn up their noses, and some don't turn up at all.\", 'A leader is one who knows the way, goes the way, and shows the way.', 'Never give up on a dream just because of the time it will take to accomplish it. The time will pass anyway.', 'It is not the employer who pays the wages. Employers only handle the money. It is the customer who pays the wages.', 'People grow through experience if they meet life honestly and courageously. This is how character is built.', 'Love is friendship that has caught fire. It is quiet understanding, mutual confidence, sharing and forgiving. It is loyalty through good and bad times. It settles for less than perfection and makes allowances for human weaknesses.', 'Extraordinary people survive under the most terrible circumstances and they become more extraordinary because of it.', 'It is in your moments of decision that your destiny is shaped.', 'Never go backward. Attempt, and do it with all your might. Determination is power.', \"Successful people are always looking for opportunities to help others. Unsuccessful people are always asking, What's in it for me?\", \"Experience is not what happens to you; it's what you do with what happens to you.\", 'I like to listen. I have learned a great deal from listening carefully. Most people never listen.', 'Defeat is not the worst of failures. Not to have tried is the true failure.', 'All truth passes through three stages. First, it is ridiculed. Second, it is violently opposed. Third, it is accepted as being self-evident.', 'Courage is what it takes to stand up and speak; courage is also what it takes to sit down and listen.', 'For over 221 years our Corps has done two things for this great Nation. We make Marines, and we win battles.', 'I have found the paradox, that if you love until it hurts, there can be no more hurt, only more love.', 'If you set goals and go after them with all the determination you can muster, your gifts will take you places that will amaze you.', 'If you smile when no one else is around, you really mean it.', 'The price of success is hard work, dedication to the job at hand, and the determination that whether we win or lose, we have applied the best of ourselves to the task at hand.', 'Trust is to human relationships what faith is to gospel living. It is the beginning place, the foundation upon which more can be built. Where trust is, love can flourish.', \"Don't go around saying the world owes you a living. The world owes you nothing. It was here first.\", 'Never apologize for showing feeling. When you do so, you apologize for the truth.', 'In the wake of 9/11, my meetings with Arab and Pakistani Americans, for example, have a more urgent quality, for the stories of detentions and FBI questioning and hard stares from neighbors have shaken their sense of security and belonging. They have been reminded that the history of immigration in this country has a dark underbelly; they need specific reassurances that their citizenship really means something, that America has learned the right lessons from the Japanese internments during World War II, and that I will stand with them should the political winds shift in an ugly direction.', 'I have nothing to offer but blood, toil, tears and sweat.', 'Correction does much, but encouragement does more.', 'You change your life by changing your heart.', \"Life is hard; it's harder if you're stupid.\", 'Lead me, follow me, or get out of my way.', 'The Constitution is the guide which I never will abandon.', 'The true secret of happiness lies in taking a genuine interest in all the details of daily life.', 'The deadliest weapon in the world is a MARINE and his rifle!', 'Failure is not fatal, but failure to change might be.', 'After climbing a great hill, one only finds that there are many more hills to climb.', 'The best preparation for good work tomorrow is to do good work today.', 'Blues is easy to play, but hard to feel.', \"I've found that luck is quite predictable. If you want more luck, take more chances. Be more active. Show up more often.\", 'Even if you are on the brink of damnation, even if you have one foot in hell, even if you have sold your soul to the devil as sorcerers do who practice black magic, and even if you are a heretic as obstinate as a devil, sooner or later you will be converted and will amend your life and will save your soul, if-and mark well what I say-if you say the Holy Rosary devoutly every day until death for the purpose of knowing the truth and obtaining contrition and pardon for your sins.', 'Success is falling nine times and getting up ten.', 'The whole purpose of education is to turn mirrors into windows.', 'The nation which forgets its defenders will be itself forgotten.', \"Don't let the fear of losing be greater than the excitement of winning.\", 'Every saint has a past, and every sinner has a future.', \"There is no pit so deep, that God's love is not deeper still.\", 'I am not afraid of storms for I am learning how to sail my ship.', 'There is only one success - to be able to spend your life in your own way.', \"It doesn't take a hero to order men into battle. It takes a hero to be one of those men who goes into battle.\", \"I have not failed. I've just found 10,000 ways that won't work.\", 'Only when we are no longer afraid do we begin to live.', 'Returning violence for violence multiplies violence, adding deeper darkness to a night already devoid of stars.', \"Be a yardstick of quality. Some people aren't used to an environment where excellence is expected.\", 'Risks must be taken because the greatest hazard in life is to risk nothing.', 'He who has never learned to obey cannot be a good commander.', 'Change before you have to.', \"I don't need a friend who changes when I change and who nods when I nod; my shadow does that much better.\", \"You don't get paid for the hour. You get paid for the value you bring to the hour.\", 'The only person who is educated is the one who has learned how to learn and change.', 'Carry out a random act of kindness, with no expectation of reward, safe in the knowledge that one day someone might do the same for you.', \"Don't be afraid to give up the good to go for the great.\", 'Character cannot be developed in ease and quiet. Only through experience of trial and suffering can the soul be strengthened, ambition inspired, and success achieved.', \"Honor to the soldier and sailor everywhere, who bravely bears his country's cause. Honor, also, to the citizen who cares for his brother in the field and serves, as he best can, the same cause.\", 'Everyone has talent. What is rare is the courage to follow the talent to the dark place where it leads.', 'My best successes came on the heels of failures.', 'A lie can travel half way around the world while the truth is putting on its shoes.', 'Most of the important things in the world have been accomplished by people who have kept on trying when there seemed to be no hope at all.', \"Wisdom is the reward you get for a lifetime of listening when you'd have preferred to talk.\", 'When we seek to discover the best in others, we somehow bring out the best in ourselves.', 'Creativity requires the courage to let go of certainties.', 'Positive anything is better than negative nothing.', \"Racism isn't born, folks, it's taught. I have a two-year-old son. You know what he hates? Naps! End of list.\", 'Spread love everywhere you go. Let no one ever come to you without leaving happier.', 'Turn your wounds into wisdom.', 'The most beautiful thing we can experience is the mysterious. It is the source of all true art and science.', 'Happiness is a direction, not a place.', 'I learned that courage was not the absence of fear, but the triumph over it. The brave man is not he who does not feel afraid, but he who conquers that fear.', 'A wise man can learn more from a foolish question than a fool can learn from a wise answer.', \"One of the greatest discoveries a man makes, one of his great surprises, is to find he can do what he was afraid he couldn't do.\", 'An appeaser is one who feeds a crocodile, hoping it will eat him last.', 'Courage - a perfect sensibility of the measure of danger, and a mental willingness to endure it.', 'If everyone is moving forward together, then success takes care of itself.', 'Time is more valuable than money. You can get more money, but you cannot get more time.', 'Money has never made man happy, nor will it, there is nothing in its nature to produce happiness. The more of it one has the more one wants.', 'The more you know the less you need to say.', \"Be miserable. Or motivate yourself. Whatever has to be done, it's always your choice.\", 'If you are carrying strong feelings about something that happened in your past, they may hinder your ability to live in the present.', \"I'm the one that's got to die when it's time for me to die, so let me live my life the way I want to.\", 'If one had but a single glance to give the world, one should gaze on Istanbul.', 'Bravery is the capacity to perform properly even when scared half to death.', \"When it is obvious that the goals cannot be reached, don't adjust the goals, adjust the action steps.\", \"Being the richest man in the cemetery doesn't matter to me ... Going to bed at night saying we've done something wonderful... that's what matters to me.\", 'Never give up, for that is just the place and time that the tide will turn.', \"And above all, watch with glittering eyes the whole world around you because the greatest secrets are always hidden in the most unlikely places. Those who don't believe in magic will never find it.\", 'Is prayer your steering wheel or your spare tire?', 'All change is not growth, as all movement is not forward.', \"Too many people spend money they haven't earned to buy things they don't want to impress people they don't like.\", 'Before marriage, a girl has to make love to a man to hold him. After marriage, she has to hold him to make love to him.', 'Some of us think holding on makes us strong; but sometimes it is letting go.', 'I would rather die of passion than of boredom.', 'Run often. Run long. But never outrun your joy of running.', 'Success is a personal standard, reaching for the highest that is in us, becoming all that we can be.', 'Happiness is not a goal; it is a by-product.', 'Destiny is no matter of chance. It is a matter of choice. It is not a thing to be waited for, it is a thing to be achieved.', 'Valor is stability, not of legs and arms, but of courage and the soul.', 'Yesterday is gone. Tomorrow has not yet come. We have only today. Let us begin.', 'The secret of getting ahead is getting started', 'If you want to lift yourself up, lift up someone else.', 'The only thing necessary for the triumph of evil is for good men to do nothing.', \"We all die. The goal isn't to live forever, the goal is to create something that will.\", 'Men have called me mad; but the question is not yet settled, whether madness is or is not the loftiest intelligence– whether much that is glorious– whether all that is profound– does not spring from disease of thought– from moods of mind exalted at the expense of the general intellect.', 'Do not let what you cannot do interfere with what you can do.', 'The greatest obstacle to discovery is not ignorance - it is the illusion of knowledge.', 'Time is what we want most, but what we use worst.', \"No matter what you've done for yourself or for humanity, if you can't look back on having given love and attention to your own family, what have you really accomplished?\", 'Imagination is more important than knowledge. Knowledge is limited. Imagination encircles the world.', 'He who avoids complaint invites happiness.', 'Sometimes the questions are complicated and the answers are simple.', 'Doing what you love is the cornerstone of having abundance in your life.', \"Do not plan for ventures before finishing what's at hand.\", 'Your life does not get better by chance, it gets better by change.', 'Overcoming poverty is not a gesture of charity. It is an act of justice. It is the protection of a fundamental human right, the right to dignity and a decent life . . .', 'Patience and time do more than strength or passion.', 'Do more than belong: participate. Do more than care: help. Do more than believe: practice. Do more than be fair: be kind. Do more than forgive: forget. Do more than dream: work.', 'If you have knowledge, let others light their candles in it.', 'Courage is resistance to fear, mastery of fear, not absence of fear.', 'Disneyland will never be completed. It will continue to grow as long as there is imagination left in the world.', 'Believe and act as if it were impossible to fail.', 'Everything we hear is an opinion, not a fact. Everything we see is a perspective, not the truth.', 'Money cannot buy peace of mind. It cannot heal ruptured relationships, or build meaning into a life that has none.', \"Don't worry that children never listen to you; worry that they are always watching you.\", 'If evolution really works, how come mothers only have two hands?', \"Don't wish it were easier, wish you were better.\", 'I have been driven many times upon my knees by the overwhelming conviction that I had no where else to go. My own wisdom and that of all about me seemed insufficient for that day.', 'A smile is the light in your window that tells others that there is a caring, sharing person inside.', 'You cannot find peace by avoiding life.', 'There are no failures - just experiences and your reactions to them', 'My message, especially to young people is to have courage to think differently, courage to invent, to travel the unexplored path, courage to discover the impossible and to conquer the problems and succeed. These are great qualities that they must work towards. This is my message to the young people.', 'Persistent people begin their success where others end in failure.', 'Imagination is more important than knowledge.', 'Love is the only force capable of transforming an enemy into friend.', \"Life is about not knowing, having to change, taking the moment and making the best of it, without knowing what's going to happen next.\", 'You cannot make progress without making decisions.', \"The grace of God means something like: Here is your life. You might never have been, but you are because the party wouldn't have been complete without you.\", 'Get mad, then get over it.', 'When the sun is shining I can do anything; no mountain is too high, no trouble too difficult to overcome.', 'Everything that is really great and inspiring is created by the individual who can labor in freedom.', 'I never learn anything talking. I only learn things when I ask questions.', 'Throughout life people will make you mad, disrespect you and treat you bad. Let God deal with the things they do, cause hate in your heart will consume you too.', \"Let our New Year's resolution be this: we will be there for one another as fellow members of humanity, in the finest sense of the word.\", \"Faith is taking the first step even when you don't see the whole staircase.\", 'Never lose sight of the fact that the most important yardstick of your success will be how you treat other people - your family, friends, and coworkers, and even strangers you meet along the way.', \"Potentially, a government is the most dangerous threat to man's rights: it holds a legal monopoly on the use of physical force against legally disarmed victims.\", 'Let us not seek the Republican answer or the Democratic answer, but the right answer. Let us not seek to fix the blame for the past. Let us accept our own responsibility for the future.', \"Life isn't a matter of milestones, but of moments.\", 'The time is always right to do what is right.', 'Whatever you want to do, do it now. There are only so many tomorrows.', \"be yourself- not your idea of what you think somebody else's idea of yourself should be.\", 'If music be the food of love, play on, Give me excess of it; that surfeiting, The appetite may sicken, and so die.', 'Eighty percent of success is showing up.', \"Marriage: If you want something to last forever, you treat it differently. You shield it and protect it. You never abuse it. You don't expose it to the elements. You don't make it common or ordinary. If it ever becomes tarnished, you lovingly polish it until it gleams like new. It becomes special because you have made it so, and it grows more beautiful and precious as time goes by.\", 'A hero is an ordinary individual who finds the strength to persevere and endure in spite of overwhelming obstacles.', 'Our dilemma is that we hate change and love it at the same time; what we really want is for things to remain the same but get better.', \"If you believe you can, you probably can. If you believe you won't, you most assuredly won't.\\nBelief is the ignition switch that gets you off the launching pad.\", \"It's easy to make a buck. It's a lot tougher to make a difference.\", \"Ever since I was a child I have had this instinctive urge for expansion and growth. To me, the function and duty of a quality human being is the sincere and honest development of one's potential.\", 'If you focus on results, you will never change. If you focus on change, you will get results.', 'To find joy in work is to discover the fountain of youth.', 'Expect great things from God, attempt great things for God.', \"The greatest day in your life and mine is when we take total responsibility for our attitudes. That's the day we truly grow up.\", 'Education is what remains after one has forgotten what one has learned in school.', \"I mean, if the relationship can't survive the long term, why on earth would it be worth my time and energy for the short term?\", 'Hating people is like burning down your own house to get rid of a rat.', 'The privilege of a lifetime is being who you are.', 'Trust yourself. Create the kind of self that you will be happy to live with all your life. Make the most of yourself by fanning the tiny, inner sparks of possibility into flames of achievement.', \"Your time is limited, so don't waste it living someone else's life.\", 'You will never reach your destination if you stop and throw stones at every dog that barks.', 'If I take care of my character, my reputation will take care of me.', \"Success is a lousy teacher. It seduces smart people into thinking they can't lose.\", 'Life can only be understood backwards; but it must be lived forwards.', 'A good friend is a connection to life - a tie to the past, a road to the future, the key to sanity in a totally insane world.', 'Speak when you are angry and you will make the best speech you will ever regret.', \"Anybody can become angry - that is easy, but to be angry with the right person and to the right degree and at the right time and for the right purpose, and in the right way - that is not within everybody's power and is not easy.\", 'Neither a wise man nor a brave man lies down on the tracks of history to wait for the train of the future to run over him.', 'Talent hits a target no one else can hit; Genius hits a target no one else can see.', 'Courage is grace under pressure.', 'Trust yourself. Create the kind of self that you will be happy to live with all your life.', 'A nation can survive its fools, and even the ambitious. But it cannot survive treason from within. An enemy at the gates is less formidable, for he is known and carries his banner openly. But the traitor moves amongst those within the gate freely, his sly whispers rustling through all the alleys, heard in the very halls of government itself.', 'Dream and give yourself permission to envision a You that you choose to be.', 'Live out of your imagination, not your history.', 'Love yourself first and everything else falls into line. You really have to love yourself to get anything done in this world.', 'Success is peace of mind which is a direct result of self-satisfaction in knowing you did your best to become the best you are capable of becoming.', 'Great achievement is usually born of great sacrifice, and is never the result of selfishness.', 'The connections between and among women are the most feared, the most problematic, and the most potentially transforming force on the planet.', \"Don't let the fear of striking out hold you back.\", 'Being ignorant is not so much a shame, as being unwilling to learn.', \"Even if you're on the right track, you'll get run over if you just sit there.\", 'There are only two options regarding commitment; you’re either in or you’re out.', 'Above all, be the heroine of your life, not the victim.', 'Think of all the beauty still left around you and be happy.', 'The entrepreneur always searches for change, responds to it, and exploits it as an opportunity.', \"If you spend your whole life waiting for the storm, you'll never enjoy the sunshine.\", 'If you want your children to improve, let them overhear the nice things you say about them to others.', 'Your success and happiness lies in you. Resolve to keep happy, and your joy and you shall form an invincible host against difficulties.', 'Start where you are, use what you have.', 'We make a living by what we get, but we make a life by what we give.', 'Many marriages would be better if the husband and the wife clearly understood that they are on the same side.', 'I would rather have a mind opened by wonder than one closed by belief.', 'Success is a state of mind. If you want success, start thinking of yourself as a success.', 'You must either modify your dreams or magnify your skills', 'You cannot escape the responsibility of tomorrow by evading it today.', 'I knew what my job was; it was to go out and meet the people and love them.', 'When we are no longer able to change a situation - we are challenged to change ourselves.', 'If you look the right way, you can see that the whole world is a garden.', 'To hell with circumstances; I create opportunities.', 'Education is for improving the lives of others and for leaving your community and world better than you found it.', 'There is no death, only a change of worlds.', 'A person who is nice to you, but rude to the waiter, is not a nice person.', 'I attribute my success to this - I never gave or took any excuse.', 'Success is nothing more than a few simple disciplines, practiced every day.', \"I have a very strict gun control policy: if there's a gun around, I want to be in control of it.\", 'If there must be trouble, let it be in my day, that my child may have peace.', \"I have learned over the years that when one's mind is made up, this diminishes fear; knowing what must be done does away with fear.\", 'The beautiful thing about learning is nobody can take it away from you.', 'I am always doing that which I cannot do, in order that I may learn how to do it.', 'Security is mostly a superstition. It does not exist in nature.', \"If you're offered a seat on a rocket ship, don't ask what seat! Just get on.\", \"Don't be distracted by criticism. Remember ~ the only taste of success some people have is when they take a bite out of you.\", \"It's not your job to like me - it's mine\", 'We gain strength, and courage, and confidence by each experience in which we really stop to look fear in the face... we must do that which we think we cannot.', 'Aging is not \"lost youth\" but a new stage of opportunity and strength.', 'Gratitude makes sense of our past, brings peace for today, and creates a vision for tomorrow.', 'The pessimist complains about the wind; the optimist expects it to change; the realist adjusts the sails.', \"I hated every minute of training, but I said, 'Don't quit. Suffer now and live the rest of your life as a champion.'\", 'It is better to look ahead and prepare than to look back and regret.', 'Far and away the best prize that life has to offer is the chance to work hard at work worth doing.', 'Perfection is not attainable, but if we chase perfection we can catch excellence.', 'Fame is a vapor, popularity an accident, and riches take wings. Only one thing endures and that is character.', 'One good thing about music, when it hits you, you feel no pain.', 'Happiness in intelligent people is the rarest thing I know.', 'Develop an attitude of gratitude, and give thanks for everything that happens to you, knowing that every step forward is a step toward achieving something bigger and better than your current situation.', 'If you are neutral in situations of injustice, you have chosen the side of the oppressor. If an elephant has its foot on the tail of a mouse and you say that you are neutral, the mouse will not appreciate your neutrality.', \"For every failure, there's an alternative course of action. You just have to find it. When you come to a roadblock, take a detour.\", 'The best way to make your dreams come true is to wake up.', 'Life is 10 percent what you make it, and 90 percent how you take it.', 'My heroes are the ones who survived doing it wrong, who made mistakes, but recovered from them.', 'Small deeds done are better than great deeds planned.', \"Tis' better to live your own life imperfectly than to imitate someone else's perfectly.\", 'You are the average of the five people you spend the most time with.', 'A loving person lives in a loving world. A hostile person lives in a hostile world.', 'Make everything as simple as possible, but not simpler.', 'The most beautiful people we have known are those who have known defeat, known suffering, known struggle, known loss, and have found their way out of those depths.', 'Successful people ask better questions, and as a result, they get better answers.', 'There are three constants in life... change, choice and principles.', 'Young people need models, not critics.', \"Advice is what we ask for when we already know the answer but wish we didn't.\", 'The great use of life is to spend it for something that will outlast it.', 'Clear thinking requires courage rather than intelligence.', 'A man is not old until regrets take the place of dreams.', 'A part of kindness consists in loving people more than they deserve.', 'When you start to develop your powers of empathy and imagination, the whole world opens up to you.', 'Judge a man by his questions rather than his answers.', 'If you make a sale, you can make a living. If you make an investment of time and good service in a customer, you can make a fortune.', 'Never let a problem to be solved become more important than a person to be loved.', 'If a free society cannot help the many who are poor, it cannot save the few who are rich.', 'Our happiest moments as tourists always seem to come when we stumble upon one thing while in pursuit of something else.', 'People might not get all they work for in this world, but they must certainly work for all they get.', 'We should regret our mistakes and learn from them, but never carry them forward into the future with us.', 'You cannot create experience. You must undergo it.', 'Do you know what my favorite part of the game is? The opportunity to play.', \"The miracle isn't that I finished. The miracle is that I had the courage to start.\", 'It is easy to sit up and take notice, What is difficult is getting up and taking action.', 'Happiness is not a destination. It is a method of life.', 'The more anger towards the past you carry in your heart, the less capable you are of loving in the present.', 'Meditation is not a way of making your mind quiet. It is a way of entering into the quiet that is already there - buried under the 50,000 thoughts the average person thinks every day', 'It takes as much energy to wish as it does to plan.', \"If you hear a voice within you say 'you cannot paint,' then by all means paint, and that voice will be silenced.\", \"If you tell the truth, you don't have to remember anything.\", 'The only way to get the best of an argument is to avoid it.', 'Our incomes are like our shoes; if too small, they gall and pinch us; but if too large, they cause us to stumble and to trip.', 'Perseverance is failing 19 times and succeeding the 20th.', \"You don't need strength to let go of something. What you really need is understanding.\", 'You never really understand a person until you consider things from his point of view.', \"Until you value yourself, you won't value your time. Until you value your time, you will not do anything with it.\", 'Goodbyes are only for those who love with their eyes. Because for those who love with heart and soul there is no such thing as separation.', 'Human behavior flows from three main sources: desire, emotion, and knowledge.', 'Courage is contagious. When a brave man takes a stand, the spines of others are often stiffened.', 'A mediocre idea that generates enthusiasm will go further than a great idea that inspires no one.', 'Death is a challenge. It tells us not to waste time... It tells us to tell each other right now that we love each other.', \"Only those who have learned the power of sincere and selfless contribution experience life's deepest joy: true fulfillment.\", 'More things are wrought by prayer than this world dreams of.', 'I learned the value of hard work by working hard.', 'A child who is allowed to be disrespectful to his parents will not have true respect for anyone.', 'An effort made for the happiness of others lifts above ourselves.', 'The kind of beauty I want most is the hard-to-get kind that comes from within - strength, courage, dignity.', \"I can accept failure, everyone fails at something. But I can't accept not trying.\", 'If you want to be happy, be.', \"It's fine to celebrate success but it is more important to heed the lessons of failure.\", 'There is little success where there is little laughter.', 'Experience is a hard teacher because she gives the test first, the lesson afterward.', 'Should I kill myself, or have a cup of coffee?', \"Life shrinks or expands in proportion to one's courage.\", 'The ultimate reason for setting goals is to entice you to become the person it takes to achieve them', \"The key is not to prioritize what's on your schedule, but to schedule your priorities.\", 'He who learns but does not think, is lost. He who thinks but does not learn is in great danger.', 'Of the billionaires I have known, money just brings out the basic traits in them. If they were jerks before they had money, they are simply jerks with a billion dollars.', 'Christmas is the time when kids tell Santa what they want and adults pay for it. Deficits are when adults tell government what they want and their kids pay for it.', 'When the Holy Rosary is said well, it gives Jesus and Mary more glory and is more meritorious than any other prayer.', 'A well regulated militia, composed of the body of the people, trained in arms, is the best most natural defense of a free country.', \"We've begun to raise daughters more like sons... but few have the courage to raise our sons more like our daughters.\", \"A woman's perfume tells more about her than her handwriting.\", 'I am always ready to learn although I do not always like being taught.', 'Simply put, you believer that things or people make you unhappy, but this is not accurate. You make yourself unhappy.', \"People won't have time for you if you are always angry or complaining.\", \"I don't believe people are looking for the meaning of life as much as they are looking for the experience of being alive.\", \"I believe that whatever doesn't kill you, simply makes you... stranger.\", \"Don't wish it was easier wish you were better. Don't wish for less problems wish for more skills. Don't wish for less challenge wish for more wisdom\", 'Excuses are the nails used to build a house of failure.', 'Everything will line up perfectly when knowing and living the truth becomes more important than looking good.', 'There is no medicine like hope, no incentive so great, and no tonic so powerful as expectation of something tomorrow.', \"The Christian life is not a constant high. I have my moments of deep discouragement. I have to go to God in prayer with tears in my eyes, and say, 'O God, forgive me,' or 'Help me.'\", 'For every minute you remain angry, you give up sixty seconds of peace of mind.', 'As long as I live, I\\'ll hear waterfalls and birds and winds sing. I\\'ll interpret the rocks, learn the language of flood, storm, and the avalanche. I\\'ll acquaint myself with the glaciers and wild gardens, and get as near the heart of the world as I can\".', 'The greatest achievement was at first and for a time a dream. The oak sleeps in the acorn, the bird waits in the egg, and in the highest vision of the soul a waking angel stirs. Dreams are the seedlings of realities.', 'Learning never exhausts the mind.', \"It's not the events of our lives that shape us, but our beliefs as to what those events mean.\", 'What we fear doing most is usually what we most need to do.', \"Victory is sweetest when you've known defeat.\", 'The body does not want you to do this. As you run, it tells you to stop but the mind must be strong. You always go too far for your body. You must handle the pain with strategy...It is not age; it is not diet. It is the will to succeed.', \"What sunshine is to flowers, smiles are to humanity. These are but trifles, to be sure; but scattered along life's pathway, the good they do is inconceivable.\", 'The way to get things done is not to mind who gets the credit for doing them.', 'You cannot change your destination overnight, but you can change your direction overnight.', 'Success is the sum of small efforts, repeated day-in and day-out.', \"You will never 'find' time for anything. If you want time, you must make it.\", 'You have succeeded in life when all you really want is only what you really need.', 'If you realized how powerful your thoughts are, you would never think a negative thought.', 'The harder you work, the harder it is to surrender.', 'Winning is great, sure, but if you are really going to do something in life, the secret is learning how to lose.', 'You must take personal responsibility. You cannot change the circumstances, the seasons, or the wind, but you can change yourself. That is something you have charge of.', 'If you only read the books that everyone else is reading, you can only think what everyone else is thinking.', 'Not everything that is faced can be changed. But nothing can be changed until it is faced.', 'In all human affairs there are efforts, and there are results, and the strength of the effort is the measure of the result.', 'It is so hard to leave—until you leave. And then it is the easiest goddamned thing in the world.', 'People who boast about their I.Q. are losers.', 'To understand the heart and mind of a person, look not at what he has already achieved, but at what he aspires to.', \"Miss a meal if you have to, but don't miss a book.\", 'It is better to be alone than in bad company.', 'Try to learn something about everything and everything about something.', 'Help others achieve their dreams and you will achieve yours.', \"You don't fight racism with racism, the best way to fight racism is with solidarity.\", 'Effort and courage are not enough without purpose and direction.', \"One doesn't discover new lands without consenting to lose sight, for a very long time, of the shore.\", 'We are what we pretend to be, so we must be careful what we pretend to be.', 'All things are difficult before they are easy.', 'People ask the difference between a leader and a boss. The leader leads, and the boss drives.', 'The thing that is really hard, and really amazing, is giving up on being perfect and beginning the work of becoming yourself.', 'Love is the ability and willingness to allow those that you care for to be what they choose for themselves without any insistence that they satisfy you.', 'Sooner or later, those who win are those who think they can.', \"Those who matter don't mind, and those who mind don't matter.\", 'You were born to win, but to be a winner, you must plan to win, prepare to win, and expect to win.', \"If you don't like something, change it. If you can't change it, change your attitude.\", 'Gratitude unlocks the fullness of life. It turns what we have into enough, and more. It turns denial into acceptance, chaos to order, confusion to clarity. It can turn a meal into a feast, a house into a home, a stranger into a friend.', 'Everyone seems to have a clear idea of how other people should lead their lives, but none about his or her own.', \"I don't go by the rule book... I lead from the heart, not the head.\", 'A hero is someone who has given his or her life to something bigger than oneself.', 'The more one judges, the less one loves.', 'Man never made any material as resilient as the human spirit.', 'The best way to find out if you can trust somebody is to trust them.', \"At the end of the day, all you can hope for is to go on. The older I get, the more I realize that just keeping on keeping on is what life's all about.\", 'I cannot always control what goes on outside. But I can always control what goes on inside.', 'Expect trouble as an inevitable part of life and when it comes, hold your head high, look it squarely in the eye and say “I will be bigger than you. You cannot defeat me.” Then repeat to yourself the most comforting of all words , “This too shall pass.”', 'I have witnessed the softening of the hardest of hearts by a simple smile.', 'When you judge another, you do not define them, you define yourself.', 'The only way to live is to accept each minute as an unrepeatable miracle, which is exactly what it is: a miracle and unrepeatable.', 'We are all here for some special reason. Stop being a prisoner of your past. Become the architect of your future.', 'He who is not everyday conquering some fear has not learned the secret of life.', \"When I do good, I feel good. When I do bad, I feel bad. That's my religion.\", \"I don't know what the future may hold, but I know who holds the future.\", 'The best way out is always through.', 'People become really quite remarkable when they start thinking that they can do things. When they believe in themselves they have the first secret of success.', 'Always walk through life as if you have something new to learn, and you will.', \"The elevator to success is out of order. You'll have to use the stairs... one step at a time.\", 'True terror is to wake up one morning and discover that your high school class is running the country.', 'Silence is the sleep that nourishes wisdom.', \"Every time you don't follow your inner guidance, you feel a loss of energy, loss of power, a sense of spiritual deadness.\", \"Believe in love. Believe in magic. Hell, believe in Santa Clause. Believe in others. Believe in yourself. Believe in your dreams. If you don't, who will?\", 'Never mistake motion for action.', 'Maxim for life: You get treated in life the way you teach people to treat you.', 'Stay committed to your decisions, but stay flexible in your approach.', 'You can tell whether a man is clever by his answers. You can tell whether a man is wise by his questions.', 'If one advances confidently in the direction of his dreams, and endeavors to live the life which he has imagined, he will meet with a success unexpected in common hours.', 'Develop success from failures. Discouragement and failure are two of the surest stepping stones to success.', \"The very purpose of Christ's coming into the world was that He might offer up His life as a sacrifice for the sins of men. He came to die. This is the heart of Christmas.\", 'You have to grow from the inside out. None can teach you, none can make you spiritual. There is no other teacher but your own soul.', 'If Tyranny and Oppression come to this land, it will be in the guise of fighting a foreign enemy.', 'God has given us two hands, one to receive with and the other to give with.', \"You can close your eyes to the things you don't want to see, but you can't close your heart to the things you don't want to feel.\", \"The most common way people give up their power is by thinking they don't have any.\", 'If you can believe it, the mind can achieve it.', \"I do believe we're all connected. I do believe in positive energy. I do believe in the power of prayer. I do believe in putting good out into the world. And I believe in taking care of each other.\", 'What we think or what we know or what we believe is in the end of little consequence. The only thing of consequence is what we do', 'Never dull your shine for somebody else.', 'It can not be emphasized too strongly or too often that this great nation was founded, not by religionists, but by Christians, not on religions, but on the gospel of Jesus Christ!', 'To give thanks in solitude is enough. Thanksgiving has wings and goes where it must go. Your prayer knows much more about it than you do.', 'The tree of liberty must be refreshed from time to time with the blood of patriots and tyrants.', \"Don't compare your life to others. You have no idea what they have been through.\", 'The minute I heard my first love story, I started looking for you.', 'Knowledge is of no value unless you put it into practice.', 'All the great things are simple, and many can be expressed in a single word: freedom, justice, honor, duty, mercy, hope.', 'Faith is the strength by which a shattered world shall emerge into the light.', 'Today, more than ever before, life must be characterized by a sense of Universal responsibility, not only nation to nation and human to human, but also human to other forms of life.', 'If you are losing faith in human nature, go out and watch a marathon.', 'From what we get, we can make a living; what we give, however, makes a life.', \"I've read the last page of the Bible. It's all going to turn out all right.\", \"Just because Fate doesn't deal you the right cards, it doesn't mean you should give up. It just means you have to play the cards you get to their maximum potential.\", \"Don't you ever let a soul in the world tell you that you can't be exactly who you are.\", 'We must overcome the notion that we must be regular... it robs you of the chance to be extraordinary and leads you to the mediocre.', 'You have not lived today until you have done something for someone who can never repay you.', \"Exercise is king. Nutrition is queen. Put them together and you've got a kingdom.\", 'Humor is by far the most significant activity of the human brain.', 'Talent is cheaper than table salt. What separates the talented individual from the successful one is a lot of hard work.', 'Watch your manner of speech if you wish to develop a peaceful state of mind. Start each day by affirming peaceful, contented and happy attitudes and your days will tend to be pleasant and successful.', 'Nothing is so permanent as a temporary government program.', 'When a person really desires something, all the universe conspires to help that person to realize his dream.', 'The brighter you are, the more you have to learn.', \"When you dance, your purpose is not to get to a certain place on the floor. It's to enjoy each step along the way.\", \"Most people ask for happiness on condition. Happiness can only be felt if you don't set any condition.\", 'The person born with a talent they are meant to use will find their greatest happiness in using it.', 'Effort only fully releases its reward after a person refuses to quit.', \"You're never as good as everyone tells you when you win, and you're never as bad as they say when you lose.\", 'I do not think much of a man who is not wiser today than he was yesterday.', 'When you arise in the morning, think of what a precious privilege it is to be alive - to breathe, to think, to enjoy, to love.', 'As the family goes, so goes the nation and so goes the whole world in which we live.', 'We should certainly count our blessings, but we should also make our blessings count.', \"Everyone has inside of him a piece of good news. The good news is that you don't know how great you can be! How much you can love! What you can accomplish! And what your potential is!\", \"If everyone is thinking alike, then somebody isn't thinking.\", 'Act as if what you do makes a difference. It does.', 'The supreme art of war is to subdue the enemy without fighting.', \"I have never met a man so ignorant that I couldn't learn something from him.\", \"When you are offended at any man's fault, turn to yourself and study your own failings. Then you will forget your anger.\", 'It is foolish and wrong to mourn the men who died. Rather we should thank God that such men lived.', 'An invincible determination can accomplish almost anything and in this lies the great distinction between great men and little men.', 'The quality of a leader is reflected in the standards they set for themselves.', \"You've got to get to the stage in life where going for it is more important than winning or losing.\", 'Can anything be sadder than work left unfinished? Yes, work never begun.', \"Don't just read the easy stuff. You may be entertained by it, but you will never grow from it.\", 'And by the way, everything in life is writable about if you have the outgoing guts to do it, and the imagination to improvise. The worst enemy to creativity is self-doubt.', \"One of the hardest things in life is having words in your heart that you can't utter.\", 'Success is not to be pursued; it is to be attracted by the person you become.', 'Never allow someone to be your priority while allowing yourself to be their option.', 'Realize that true happiness lies within you. Waste no time and effort searching for peace and contentment and joy in the world outside. Remember that there is no happiness in having or in getting, but only in giving. Reach out. Share. Smile. Hug. Happiness is a perfume you cannot pour on others without getting a few drops on yourself.', \"You can't separate peace from freedom because no one can be at peace unless he has his freedom.\", 'There is little difference in people, but that little difference makes a big difference. The little difference is attitude. The big difference is whether it is positive or negative.', 'America will never be destroyed from the outside. If we falter and lose our freedoms, it will be because we destroyed ourselves.', 'The average dog is a nicer person than the average person.', 'Faithful servants never retire. You can retire from your career, but you will never retire from serving God.', 'In matters of style, swim with the current; in matters of principle, stand like a rock.', \"Dad needs to show an incredible amount of respect and humor and friendship toward his mate so the kids understand their parents are sexy, they're fun, they do things together, they're best friends. Kids learn by example. If I respect Mom, they're going to respect Mom.\", 'We are United States Marines, and for two and a quarter centuries we have defined the standards of courage, esprit, and military prowess.', 'Peace cannot be kept by force; it can only be achieved by understanding.', 'Patience is the companion of wisdom.', 'I prefer to be true to myself, even at the hazard of incurring the ridicule of others, rather than to be false, and to incur my own abhorrence.', 'The two hardest tests on the spiritual road are the patience to wait for the right moment and the courage not to be disappointed with what we encounter.', 'The revolution is not an apple that falls when it is ripe. You have to make it fall.', \"We can always choose to perceive things differently. You can focus on what's wrong in your life, or you can focus on what's right.\", 'Always seek out the seed of triumph in every adversity.', 'Self-worth comes from one thing - thinking that you are worthy.', 'The best vision is insight.', \"You may have a fresh start any moment you choose, for this thing that we call 'failure' is not the falling down, but the staying down.\", 'Learning is the beginning of wealth. Learning is the beginning of health. Learning is the beginning of spirituality. Searching and learning is where the miracle process all begins.', 'Being entirely honest with oneself is a good exercise.', \"Take it from a guy: If you're in love with somebody, you will swim the stream, you will climb the mountain, you will slay the dragon. You're going to get to her somehow, some way.\", 'If you break your neck, if you have nothing to eat, if your house is on fire, then you got a problem. Everything else is inconvenience.', 'The best and most beautiful things in the world cannot be seen or even touched - they must be felt with the heart.', 'You can love someone so much...But you can never love people as much as you can miss them.', 'Gratitude is riches. Complaint is poverty.', 'Your attitude is like a box of crayons that color your world. Constantly color your picture gray, and your picture will always be bleak. Try adding some bright colors to the picture by including humor, and your picture begins to lighten up.', 'Miracles come in moments. Be ready and willing.', 'Stop acting as if life is a rehearsal. Live this day as if it were your last. The past is over and gone. The future is not guaranteed.', 'The harder the conflict, the more glorious the triumph.', \"It's amazing what ordinary people can do if they set out without preconceived notions.\", 'You teach best what you most need to learn.', 'All I have seen teaches me to trust the creator for all I have not seen.', 'Either you run the day or the day runs you.', 'Never forget the three powerful resources you always have available to you: love, prayer, and forgiveness.', 'It is impossible for a man to learn what he thinks he already knows.', 'My attitude is that if you push me towards something that you think is a weakness, then I will turn that perceived weakness into a strength.', 'In the beginning of a change the patriot is a scarce man, and brave, and hated and scorned. When his cause succeeds, the timid join him, for then it costs nothing to be a patriot.', 'Without leaps of imagination, or dreaming, we lose the excitement of possibilities. Dreaming, after all, is a form of planning.', 'I have just returned from visiting the Marines at the front, and there is not a finer fighting organization in the world!', 'The successful man will profit from his mistakes and try again in a different way.', 'Your family and your love must be cultivated like a garden. Time, effort, and imagination must be summoned constantly to keep any relationship flourishing and growing.', 'Our freedom can be measured by the number of things we can walk away from.', 'Being ready is not what matters. What matters is winning after you get there.', 'Let my soul smile through my heart and my heart smile through my eyes, that I may scatter rich smiles in sad hearts.', 'We should not judge people by their peak of excellence; but by the distance they have traveled from the point where they started.', 'One reason so few of us achieve what we truly want is that we never direct our focus; we never concentrate our power. Most people dabble their way through life, never deciding to master anything in particular.', 'Learning is not attained by chance, it must be sought for with ardor and diligence.', \"We've all got both light and dark inside us. What matters is the part we choose to act on. That's who we really are.\", 'The highest form of worship is the worship of unselfish Christian service. The greatest form of praise is the sound of consecrated feet seeking out the lost and helpless.', \"One isn't necessarily born with courage, but one is born with potential. Without courage, we cannot practice any other virtue with consistency. We can't be kind, true, merciful, generous, or honest.\", \"Nothing I've ever done has given me more joys and rewards than being a father to my children.\", 'What is hell? I maintain that it is the suffering of being unable to love.', 'If you can learn to love yourself and all the flaws, you can love other people so much better. And that makes you so happy.', \"There is only one corner of the universe you can be certain of improving, and that's your own self.\", 'There is not one blade of grass, there is no color in this world that is not intended to make men rejoice.', 'Stay away from what might have been, and look at what can be.', 'Success is achieved by developing our strengths, not by eliminating our weaknesses.', 'Do not seek to follow in the footsteps of the wise. Seek what they sought.', \"In three words I can sum up everything I've learned about life: it goes on.\", 'We think too much and feel too little.', 'Failure is simply a few errors in judgment, repeated every day.', \"You just can't beat the person who never gives up.\", \"Missions is not the ultimate goal of the church. Worship is. Missions exists because worship doesn't.\", \"It's what you learn after you know it all that counts.\", 'Great spirits have always encountered opposition from mediocre minds. The mediocre mind is incapable of understanding the man who refuses to bow blindly to conventional prejudices and chooses instead to express his opinions courageously and honestly.', 'Maturity is the ability to think, speak and act your feelings within the bounds of dignity. The measure of your maturity is how spiritual you become during the midst of your frustrations.', \"Do what you feel in your heart to be right - for you'll be criticized anyway. You'll be damned if you do, and damned if you don't.\", 'As we express our gratitude, we must never forget that the highest appreciation is not to utter words, but to live by them.', 'Human beings can alter their lives by altering their attitudes of mind.', 'I pretended to be somebody I wanted to be until finally I became that person. Or he became me.', 'You must make a decision that you are going to move on. It wont happen automatically. You will have to rise up and say, ‘I don’t care how hard this is, I don’t care how disappointed I am, I’m not going to let this get the best of me. I’m moving on with my life.', \"The only way that I could figure they could improve upon Coca-Cola, one of life's most delightful elixirs, which studies prove will heal the sick and occasionally raise the dead, is to put bourbon in it.\", 'It is not until you become a mother that your judgment slowly turns to compassion and understanding.', \"If you don't stand for something you will fall for anything.\", 'Searching and learning is where the miracle process all begins.', \"I firmly believe that any man's finest hour, the greatest fulfillment of all that he holds dear, is that moment when he has worked his heart out in a good cause and lies exhausted on the field of battle - victorious.\", \"These young guys are playing checkers. I'm out there playing chess.\", \"If we're growing, we're always going to be out of our comfort zone.\", \"It doesn't matter which side of the fence you get off on sometimes. What matters most is getting off. You cannot make progress without making decisions.\", 'Greed is a bottomless pit which exhausts the person in an endless effort to satisfy the need without ever reaching satisfaction.', 'Out of suffering have emerged the strongest souls; the most massive characters are seared with scars.', 'When I was 5 years old, my mother always told me that happiness was the key to life. When I went to school, they asked me what I wanted to be when I grew up. I wrote down ‘happy’. They told me I didn’t understand the assignment, and I told them they didn’t understand life.', 'The happiness of your life depends upon the quality of your thoughts.', 'Common sense is the collection of prejudices acquired by age eighteen.', 'Our attitude towards others determines their attitude towards us.', \"Be nice to people on your way up because you'll meet them on your way down.\", 'If we learn to open our hearts, anyone, including the people who drive us crazy, can be our teacher.', \"There is some good in this world, and it's worth fighting for.\", 'The cost of freedom is always high, but Americans have always paid it. And one path we shall never choose, and that is the path of surrender, or submission.', 'Carpe diem! Rejoice while you are alive; enjoy the day; live life to the fullest; make the most of what you have. It is later than you think.', \"You're mind is working at its best when you're being paranoid. You explore every avenue and possibility of your situation at high speed with total clarity.\", 'Without a sense of urgency, desire loses its value.', 'Whatever good things we build end up building us.', 'The purpose of life is to live it, to taste experience to the utmost, to reach out eagerly and without fear for newer and richer experience.', \"They're on our right, they're on our left, they're in front of us, they're behind us; they can't get away from us this time.\", \"I'm not in this world to live up to your expectations and you're not in this world to live up to mine.\", 'The major value in life is not what you get. The major value in life is what you become.', 'Give me six hours to chop down a tree and I will spend the first four sharpening the axe.', 'We have to be careful in how we use this light shined on us.', 'To solve any problem, here are three questions to ask yourself: First, what could I do? Second, what could I read? And third, who could I ask?', \"You've got to know your limitations. I don't know what your limitations are. I found out what mine were when I was twelve. I found out that there weren't too many limitations, if I did it my way.\", 'I always wonder why birds choose to stay in the same place when they can fly anywhere on the earth, then I ask myself the same question.', 'To love means loving the unlovable. To forgive means pardoning the unpardonable. Faith means believing the unbelievable. Hope means hoping when everything seems hopeless.', 'Be brave. Take risks. Nothing can substitute experience.', \"If you really want to do something, you'll find a way. If you don't, you'll find an excuse.\", 'It is neither wealth nor splendor; but tranquility and occupation which give you happiness.', 'A thousand words will not leave so deep an impression as one deed.', 'Courage is the price that life exacts for granting peace.', 'The worst evils which mankind has ever had to endure were inflicted by bad governments.', 'The moment we begin to fear the opinions of others and hesitate to tell the truth that is in us, and from motives of policy are silent when we should speak, the divine floods of light and life no longer flow into our souls.', 'Trust yourself, you know more than you think you do.', 'Some people want it to happen, some wish it would happen, others make it happen.', 'High achievement always takes place in the framework of high expectation.', 'The body is your temple. Keep it pure and clean for the soul to reside in.', 'Be like a duck. Calm on the surface, but always paddling like the dickens underneath.', 'Tears shed for self are tears of weakness, but tears shed for others are a sign of strength.', 'Success is neither magical nor mysterious. Success is the natural consequence of consistently applying the basic fundamentals.', 'It is wise to direct your anger towards problems - not people; to focus your energies on answers - not excuses.', 'If we did all the things we are capable of doing, we would literally astound ourselves.', 'Love is our true destiny. We do not find the meaning of life by ourselves alone - we find it with another.', 'I ask, sir, what is the militia? It is the whole people except for a few public officials.', \"As long as there's pasta and Chinese food in the world, I'm okay.\", 'The few who do are the envy of the many who only watch.', \"Don't brood. Get on with living and loving. You don't have forever.\", 'The Marines have landed and the situation is well in hand.', \"Tricks and treachery are the practice of fools, that don't have brains enough to be honest.\", \"Life is one big road with lots of signs,\\nSo when you riding through the ruts,\\nDon't you complicate your mind\\nFlee from hate, mischief and jealousy\\nDon't bury your thoughts; put your vision to reality.\", 'There is always some madness in love. But there is also always some reason in madness.', 'For peace of mind, we need to resign as general manager of the universe.', 'I am free, no matter what rules surround me. If I find them tolerable, I tolerate them; if I find them too obnoxious, I break them. I am free because I know that I alone am morally responsible for everything I do.', 'Only put off until tomorrow what you are willing to die having left undone.', 'Difficulties are meant to rouse, not discourage. The human spirit is to grow strong by conflict.', 'The will to win, the desire to succeed, the urge to reach your full potential... these are the keys that will unlock the door to personal excellence.', \"It's very hard in the beginning to understand that the whole idea is not to beat the other runners. Eventually you learn that the competition is against the little voice inside you that wants you to quit.\", 'A well-developed sense of humor is the pole that adds balance to your steps as you walk the tightrope of life.', 'We relish news of our heroes, forgetting that we are extraordinary to somebody too.', 'It takes less time to do a thing right, than it does to explain why you did it wrong.', \"It isn't the mountain ahead that wears you out; it's the grain of sand in your shoe.\", 'Empty your mind, be formless. Shapeless, like water. If you put water into a cup, it becomes the cup. You put water into a bottle and it becomes the bottle. You put it in a teapot it becomes the teapot. Now, water can flow or it can crash. Be water, my friend.', 'The longer we dwell on our misfortunes, the greater is their power to harm us', \"Sometimes I've believed as many as six impossible things before breakfast.\", 'Do not fear mistakes. There are none.', 'Expose yourself to your deepest fear; after that, fear has no power, and the fear of freedom shrinks and vanishes. You are free.', 'Anger is an acid that can do more harm to the vessel in which it is stored than to anything on which it is poured.', 'Failure is success if we learn from it.', 'You are here to enable the divine purpose of the Universe to unfold. That is how important you are!', 'People like us, who believe in physics, know that the distinction between past, present, and future is only a stubbornly persistent illusion.', 'I still need Marines who can shoot and salute. But I need Marines who can fix jet engines and man sophisticated radar sets, as well.', \"You can't expect to hit the jackpot if you don't put a few nickels in the machine.\", 'One of the penalties for refusing to participate in politics is that you end up being governed by your inferiors.', 'It is what we know already that often prevents us from learning.', 'The only limit to our realization of tomorrow will be our doubts of today.', \"I've learned that making a 'living' is not the same thing as 'making a life'.\", 'The spirit, the will to win, and the will to excel are the things that endure. These qualities are so much more important than the events that occur.', 'When I started counting my blessings, my whole life turned around.', 'Ninety-nine percent of the failures come from people who have the habit of making excuses.', 'Every time you smile at someone, it is an action of love, a gift to that person, a beautiful thing.', 'Everything comes to us that belongs to us if we create the capacity to receive it.', \"What doesn't kill you makes you smaller\", 'The difficulties you meet will resolve themselves as you advance. Proceed, and light will dawn, and shine with increasing clearness on your path.', \"It's not what's happening to you now or what has happened in your past that determines who you become. Rather, it's your decisions about what to focus on, what things mean to you, and what you're going to do about them that will determine your ultimate destiny.\", 'Live your life and forget your age.', 'We may not be able to prepare the future for our children, but we can at least prepare our children for the future.', 'Men occasionally stumble over the truth, but most of them pick themselves up and hurry off as if nothing had happened.', \"That's been one of my mantras - focus and simplicity. Simple can be harder than complex: You have to work hard to get your thinking clean to make it simple. But it's worth it in the end because once you get there, you can move mountains.\", 'The trouble with most of us is that we would rather be ruined by praise than saved by criticism.', 'The smallest deed is better than the greatest intention.', \"Only two things are infinite, the universe and human stupidity, and I'm not sure about the former.\", 'A nation of sheep will beget a government of wolves.', \"Nothing else can quite substitute for a few well-chosen,\\nwell-timed, sincere words of praise.\\nThey're absolutely free and worth a fortune\", \"There is nothing in a caterpillar that tells you it's going to be a butterfly.\", \"A charming woman... doesn't follow the crowd. She is herself.\", \"You don't understand anything until you learn it more than one way.\", 'Doubt yourself and you doubt everything you see. Judge yourself and you see judges everywhere. But if you listen to the sound of your own voice, you can rise above doubt and judgment. And you can see forever.', \"Find the good. It's all around you. Find it, showcase it and you'll start believing in it.\", 'Happiness in marriage is entirely a matter of chance.', 'The difference between a mountain and a molehill is your perspective.', 'It is best to act with confidence, no matter how little right you have to it.', \"People usually consider walking on water or in thin air a miracle. But I think the real miracle is not to walk either on water or in thin air, but to walk on earth. Every day we are engaged in a miracle which we don't even recognize: a blue sky, white clouds, green leaves, the black, curious eyes of a child -- our own two eyes. All is a miracle.\", 'Freedom means the opportunity to be what we never thought we would be.', 'For it was not into my ear you whispered, but into my heart. It was not my lips you kissed, but my soul.', 'I will love the light for it shows me the way, yet I will endure the darkness because it shows me the stars.', \"If you run, you are a runner. It doesn't matter how fast or how far. It doesn't matter if today is your first day or if you've been running for twenty years. There is no test to pass, no license to earn, no membership card to get. You just run.\", \"The world is a dangerous place to live; not because of the people who are evil, but because of the people who don't do anything about it.\", 'The deepest principle in human nature is the craving to be appreciated.', \"About all you can do in life is be who you are. Some people will love you for you. Most will love you for what you can do for them, and some won't like you at all.\", 'To find out what one is fitted to do, and to secure an opportunity to do it, is the key to happiness.', 'Forgiveness says you are given another chance to make a new beginning.', 'What is success? I think it is a mixture of having a flair for the thing that you are doing; knowing that it is not enough, that you have got to have hard work and a certain sense of purpose.', 'The past has no power over the present moment.', \"Do not let your fire go out, spark by irreplaceable spark in the hopeless swamps of the not-quite, the not-yet, and the not-at-all. Do not let the hero in your soul perish in lonely frustration for the life you deserved and have never been able to reach. The world you desire can be won. It exists.. it is real.. it is possible.. it's yours.\", 'No person was ever honored for what he received. Honor has been the reward for what he gave.', 'Love yourself-accept yourself-forgive yourself-and be good to yourself, because without you the rest of us are without a source of many wonderful things.', 'Wherever you are, and whatever you do, be in love.', 'Whenever you find yourself on the side of the majority, it is time to pause and reflect.', 'And those who were seen dancing were thought to be insane by those who could not hear the music.', \"I love things that age well - things that don't date, that stand the test of time and that become living examples of the absolute best.\", 'Better be wise by the misfortunes of others than by your own.', 'The person, be it gentleman or lady, who has not pleasure in a good novel, must be intolerably stupid.', \"The opposite of love is not hate, it's indifference. The opposite of art is not ugliness, it's indifference. The opposite of faith is not heresy, it's indifference. And the opposite of life is not death, it's indifference.\", 'Curiosity is one of the most permanent and certain characteristics of a vigorous intellect.', 'Leaders must be close enough to relate to others, but far enough ahead to motivate them.', 'Regret for the things we did can be tempered by time; it is regret for the things we did not do that is inconsolable.', 'America... just a nation of two hundred million used car salesmen with all the money we need to buy guns and no qualms about killing anybody else in the world who tries to make us uncomfortable.', 'For every disciplined effort there is a multiple reward.', \"The spiritual journey is individual, highly personal. It can't be organized or regulated. It isn't true that everyone should follow one path. Listen to your own truth.\", 'The mind is not a vessel to be filled but a fire to be kindled.']\n"
     ]
    },
    {
     "data": {
      "text/plain": [
       "1000"
      ]
     },
     "execution_count": 95,
     "metadata": {},
     "output_type": "execute_result"
    }
   ],
   "source": [
    "print(Quote)\n",
    "len(Quote)"
   ]
  },
  {
   "cell_type": "code",
   "execution_count": 96,
   "id": "de2a38c7",
   "metadata": {},
   "outputs": [
    {
     "name": "stdout",
     "output_type": "stream",
     "text": [
      "['Michael Porter', 'Golda Meir', 'Theodore Roosevelt', 'Nelson Mandela', 'Erma Bombeck', 'John Wooden', 'Albert Einstein', 'Frank Zappa', 'William Faulkner', 'Will Rogers', 'Jimmy Carter', 'Albert Einstein', 'Abraham Lincoln', 'Steven Weinberg', 'Franklin D. Roosevelt', 'Albert Einstein', 'Maya Angelou', 'Mark Twain', 'Theodore Roosevelt', 'Michael Jackson', 'Martin Luther King, Jr.', 'C. S. Lewis', 'Theodore Roosevelt', 'Mark Twain', 'Abraham Lincoln', 'Ruth Graham', 'C. S. Lewis', 'Groucho Marx', 'John Lennon', 'Barbara Bush', 'Albert Einstein', 'Francis Chan', 'Henry Ford', 'Victor Hugo', 'Abu Bakr', 'Zig Ziglar', 'Winston Churchill', 'Zig Ziglar', 'John F. Kennedy', 'Dwight D. Eisenhower', 'Winston Churchill', 'Albert Einstein', 'Willie Nelson', 'Johnny Cash', 'Marie Curie', 'Maya Angelou', 'Amy Bloom', 'Zig Ziglar', 'John Lennon', 'Thomas Sowell', 'Max Lucado', 'Martin Luther King, Jr.', 'Thomas Sowell', 'Salma Hayek', 'Martin Luther King, Jr.', 'Douglas MacArthur', 'Douglas MacArthur', 'George S. Patton', 'Corrie Ten Boom', 'Jim Courier', 'Zig Ziglar', 'Edgar Allan Poe', 'Zig Ziglar', 'Stephen Covey', 'Pablo Neruda', 'Joe Frazier', 'Bill Cosby', 'Lewis Grizzard', 'Les Brown', 'Meister Eckhart', 'Muhammad Ali', 'John C. Maxwell', 'Thomas A. Edison', 'Neil Armstrong', 'Rose Kennedy', 'Martin Luther', 'Ronald Reagan', 'Andrew Murray', 'Arianna Huffington', 'Anne Frank', 'Corrie Ten Boom', 'Nelson Mandela', 'Robin Williams', 'Walt Disney', 'John F. Kennedy', 'Mark Twain', 'John Stott', 'Wayne Dyer', 'Steve Jobs', 'Maya Angelou', 'Satchel Paige', 'Mwai Kibaki', 'Roald Dahl', 'Robert H. Schuller', 'Bill Vaughan', 'Hunter S. Thompson', 'Corrie Ten Boom', 'Dalai Lama', 'Mother Teresa', 'Norman Vincent Peale', 'Neltje Blanchan', 'Saint Augustine', 'Henry Ford', 'Arthur Rubinstein', 'George Mason', 'Margaret Fuller', 'Colin Powell', 'Benjamin Franklin', 'Elizabeth Kenny', 'Jonathan Edwards', 'Xunzi', 'Bertrand Russell', 'Richard Branson', 'Albert Einstein', 'Jerry Bridges', 'Walt Disney', 'Frederick Douglass', 'J. R. R. Tolkien', 'Winston Churchill', 'David Frost', 'Rush Limbaugh', 'Maya Angelou', 'Colin Powell', 'Mother Teresa', 'Jenn Proske', 'Martin Luther King, Jr.', 'Mother Teresa', 'Ronald Reagan', 'Milton Friedman', 'Confucius', 'Nicholas Sparks', 'Victor Hugo', 'Martin Luther King, Jr.', 'Mother Teresa', 'Dean Karnazes', 'Dalai Lama', 'Oprah Winfrey', 'Mary Kay Ash', 'C. S. Lewis', 'Nathan Hale', 'Vince Lombardi', 'Maya Angelou', 'Charles Spurgeon', 'Dalai Lama', 'Eleanor Roosevelt', 'Henry Ford', 'George Bernard Shaw', 'Ronald Reagan', 'John F. Kennedy', 'Corrie Ten Boom', 'Brian Tracy', 'George Bernard Shaw', 'David Brinkley', 'Thomas A. Edison', 'Carol Burnett', 'Douglas MacArthur', 'Johann Wolfgang von Goethe', 'Oprah Winfrey', 'Robert Kiyosaki', 'Mark Twain', 'Robert Louis Stevenson', 'Maya Angelou', 'Marilyn vos Savant', 'Alice Walker', 'Bill Gates', 'Mother Teresa', 'Albert Einstein', 'Ronald Reagan', 'John Wooden', 'C. S. Lewis', 'Conrad Hall', 'Walt Disney', 'Michel Odent', 'Oscar Wilde', 'Napoleon Hill', 'Mother Teresa', 'Robin Williams', 'Thomas A. Edison', 'Agatha Christie', 'Diane von Furstenberg', 'Dale Carnegie', 'John Quincy Adams', 'W. E. B. Du Bois', 'Mary Lou Retton', 'Jimmy Carter', 'George Bernard Shaw', 'Helen Keller', 'Robert H. Schuller', 'Gail Devers', 'Diane Sawyer', 'Martin Luther', 'Margaret Thatcher', 'Maya Angelou', 'Albert Schweitzer', 'Alexander Graham Bell', 'Jim Rohn', 'Henry Ford', 'Robin Williams', 'Margaret Walker', 'T. Harv Eker', 'Winston Churchill', 'John Lubbock', 'Albert Einstein', 'Jim Valvano', 'Thomas Jefferson', 'Farrah Gray', 'Mother Teresa', 'Maya Angelou', 'B. F. Skinner', 'Earl Nightingale', 'Martin Luther King, Jr.', 'Walt Disney', 'Albert Einstein', 'Bill Gates', 'Henry Ford', 'Albert Einstein', 'Eleanor Roosevelt', 'Babe Ruth', 'Wayne Dyer', 'Stephen King', 'Nelson Mandela', 'Ronald Reagan', 'Benjamin Disraeli', 'Walt Disney', 'Caroline Myss', 'Mother Teresa', 'Martin Luther King, Jr.', 'Marcus Aurelius', 'Donna Karan', 'Robin Williams', 'Booker T. Washington', 'Washington Irving', 'Brooke Shields', 'Benjamin Franklin', 'Princess Diana', 'Alexander Graham Bell', 'Anne Frank', 'Johnny Cash', 'Lyndon B. Johnson', 'Confucius', 'Warren G. Bennis', 'Les Brown', 'Dale Carnegie', 'Helen Keller', 'Johnny Cash', 'Walter Hagen', 'Dolly Parton', 'George S. Patton', 'Jim Rohn', 'William Arthur Ward', 'Winston Churchill', 'Groucho Marx', 'Ralph Waldo Emerson', 'Alice Walker', 'Dalai Lama', 'Barbara Sher', 'Wayne Dyer', 'Mother Teresa', 'Drake', 'Marilyn Monroe', 'A. A. Milne', 'Vince Lombardi', 'Ralph Waldo Emerson', 'Jim Rohn', 'Mother Teresa', 'Beverly Sills', 'Billy Graham', 'Ann Landers', 'Dwight D. Eisenhower', 'Stevie Wonder', 'Leo Buscaglia', 'Gillian Anderson', 'Jim Rohn', 'William Halsey', 'Benjamin Franklin', 'Henry David Thoreau', 'Mahatma Gandhi', 'Brian Tracy', 'Mae Jemison', 'Confucius', 'Anne Baxter', 'George Bernard Shaw', 'Ken Venturi', 'Ronald Reagan', 'C. S. Lewis', 'Abraham Lincoln', 'Bill Cosby', 'Eckhart Tolle', 'T. S. Eliot', 'Maxwell Maltz', 'Drew Houston', 'Nido R Qubein', 'Jim Rohn', 'Mahatma Gandhi', 'Mary Pickford', 'Sam Levenson', 'Orison Swett Marden', 'Malcolm X', 'Jon Stewart', 'Lucille Ball', 'Edith Head', 'Abraham Lincoln', 'Albert Schweitzer', 'Napoleon Hill', 'Norman Vincent Peale', 'Tony Robbins', 'Ronald Reagan', 'Mary Tyler Moore', 'Anne Sweeney', 'Mother Teresa', 'Martin Luther King, Jr.', 'Jim Rohn', 'Carol Burnett', 'Bear Bryant', 'Audrey Hepburn', 'Satchel Paige', 'H. G. Wells', 'Charles Spurgeon', 'Denis Waitley', 'Denis Waitley', 'E. M. Forster', 'Oliver Wendell Holmes, Jr.', 'Theodore Hesburgh', 'Napoleon Hill', 'Martin Luther', 'Jim Rohn', 'Marie Curie', 'Bo Jackson', 'Paulo Coelho', 'Nelson Mandela', 'Confucius', 'Joseph Campbell', 'Napoleon Bonaparte', 'Richard Branson', 'Rosalynn Carter', 'Lydia M. Child', 'Oscar Wilde', 'Pablo Picasso', 'Geezer Butler', 'E. M. Forster', 'Denis Waitley', 'Abraham Lincoln', 'Henry David Thoreau', 'Byron Katie', 'Sam Ewing', 'John C. Maxwell', 'Earl Nightingale', 'Henry Ford', 'Eleanor Roosevelt', 'Ann Landers', 'Robertson Davies', 'Tony Robbins', 'Charles Simmons', 'Brian Tracy', 'Aldous Huxley', 'Ernest Hemingway', 'George Edward Woodberry', 'Arthur Schopenhauer', 'Winston Churchill', 'Charles C. Krulak', 'Mother Teresa', 'Les Brown', 'Andy Rooney', 'Vince Lombardi', 'Barbara Smith', 'Mark Twain', 'Benjamin Disraeli', 'Barack Obama', 'Winston Churchill', 'Johann Wolfgang von Goethe', 'Max Lucado', 'John Wayne', 'George S. Patton', 'George Washington', 'William Morris', 'John J. Pershing', 'John Wooden', 'Nelson Mandela', 'Elbert Hubbard', 'Jimi Hendrix', 'Brian Tracy', 'Louis de Montfort', 'Jon Bon Jovi', 'Sydney J. Harris', 'Calvin Coolidge', 'Robert Kiyosaki', 'Oscar Wilde', 'Corrie Ten Boom', 'Louisa May Alcott', 'Christopher Morley', 'Norman Schwarzkopf', 'Thomas A. Edison', 'Dorothy Thompson', 'Martin Luther King, Jr.', 'Steve Jobs', 'Leo Buscaglia', 'Aristotle', 'Jack Welch', 'Plutarch', 'Jim Rohn', 'Carl Rogers', 'Princess Diana', 'John D. Rockefeller', 'Helen Keller', 'Abraham Lincoln', 'Erica Jong', 'Barbara Corcoran', 'Charles Spurgeon', 'Dale Carnegie', 'Doug Larson', 'William Arthur Ward', 'Erich Fromm', 'Elbert Hubbard', 'Denis Leary', 'Mother Teresa', 'Oprah Winfrey', 'Albert Einstein', 'Sydney J. Harris', 'Nelson Mandela', 'Bruce Lee', 'Henry Ford', 'Winston Churchill', 'William Tecumseh Sherman', 'Henry Ford', 'Jim Rohn', 'Benjamin Franklin', 'Jim Rohn', 'Wayne Dyer', 'Les Brown', 'Jimi Hendrix', 'Alphonse de Lamartine', 'Omar N. Bradley', 'Confucius', 'Steve Jobs', 'Harriet Beecher Stowe', 'Roald Dahl', 'Corrie Ten Boom', 'Ellen Glasgow', 'Will Rogers', 'Marilyn Monroe', 'Hermann Hesse', 'Emile Zola', 'Julie Isphording', 'Zig Ziglar', 'Eleanor Roosevelt', 'William Jennings Bryan', 'Michel de Montaigne', 'Mother Teresa', 'Mark Twain', 'Booker T. Washington', 'Edmund Burke', 'Chuck Palahniuk', 'Edgar Allan Poe', 'John Wooden', 'Daniel J. Boorstin', 'William Penn', 'Lee Iacocca', 'Albert Einstein', 'Abu Bakr', 'Dr. Seuss', 'Wayne Dyer', 'Euripides', 'Jim Rohn', 'Nelson Mandela', 'Jean de La Fontaine', 'William Arthur Ward', 'Margaret Fuller', 'Mark Twain', 'Walt Disney', 'Charles Kettering', 'Marcus Aurelius', 'Richard DeVos', 'Robert Fulghum', 'Milton Berle', 'Jim Rohn', 'Abraham Lincoln', 'Denis Waitley', 'Virginia Woolf', 'Tom Krause', 'Abdul Kalam', 'Edward Eggleston', 'Albert Einstein', 'Martin Luther King, Jr.', 'Gilda Radner', 'Jim Rohn', 'Frederick Buechner', 'Colin Powell', 'Wilma Rudolph', 'Albert Einstein', 'Lou Holtz', 'Will Smith', 'Goran Persson', 'Martin Luther King, Jr.', 'Barbara Bush', 'Ayn Rand', 'John F. Kennedy', 'Rose Kennedy', 'Martin Luther King, Jr.', 'Michael Landon', 'Henry David Thoreau', 'William Shakespeare', 'Woody Allen', 'F. Burton Howard', 'Christopher Reeve', 'Sydney J. Harris', 'Denis Waitley', 'Tom Brokaw', 'Bruce Lee', 'Jack Dixon', 'Pearl S. Buck', 'William Carey', 'John C. Maxwell', 'Albert Einstein', 'Nicholas Sparks', 'Harry Emerson Fosdick', 'Joseph Campbell', 'Golda Meir', 'Steve Jobs', 'Winston Churchill', 'Dwight L. Moody', 'Bill Gates', 'Soren Kierkegaard', 'Lois Wyse', 'Ambrose Bierce', 'Aristotle', 'Dwight D. Eisenhower', 'Arthur Schopenhauer', 'Ernest Hemingway', 'Golda Meir', 'Marcus Tullius Cicero', 'Joy Page', 'Stephen Covey', 'Lucille Ball', 'John Wooden', 'Napoleon Hill', 'Adrienne Rich', 'Babe Ruth', 'Benjamin Franklin', 'Will Rogers', 'Pat Riley', 'Nora Ephron', 'Anne Frank', 'Peter Drucker', 'Morris West', 'Haim Ginott', 'Helen Keller', 'Arthur Ashe', 'Winston Churchill', 'Zig Ziglar', 'Gerry Spence', 'Joyce Brothers', 'Jim Rohn', 'Abraham Lincoln', 'Princess Diana', 'Viktor E. Frankl', 'Frances Hodgson Burnett', 'Bruce Lee', 'Marian Wright Edelman', 'Chief Seattle', 'Dave Barry', 'Florence Nightingale', 'Jim Rohn', 'Clint Eastwood', 'Thomas Paine', 'Rosa Parks', 'B. B. King', 'Pablo Picasso', 'Helen Keller', 'Sheryl Sandberg', 'Zig Ziglar', 'Byron Katie', 'Eleanor Roosevelt', 'Betty Friedan', 'Melody Beattie', 'William Arthur Ward', 'Muhammad Ali', 'Jackie Joyner-Kersee', 'Theodore Roosevelt', 'Vince Lombardi', 'Horace Greeley', 'Bob Marley', 'Ernest Hemingway', 'Brian Tracy', 'Desmond Tutu', 'Mary Kay Ash', 'Paul Valery', 'Irving Berlin', 'Bono', 'Peter Marshall', 'Elizabeth Gilbert', 'Jim Rohn', 'Ken Keyes Jr.', 'Albert Einstein', 'Elisabeth Kubler-Ross', 'Tony Robbins', 'Stephen Covey', 'John Wooden', 'Erica Jong', 'William James', 'Thomas Szasz', 'John Barrymore', 'Joseph Joubert', 'Susan Sarandon', 'Voltaire', 'Jim Rohn', 'Barbara Johnson', 'John F. Kennedy', 'Lawrence Block', 'Frederick Douglass', 'Lucy Maud Montgomery', 'Albert Camus', 'Mike Singletary', 'John Bingham', 'Honore de Balzac', 'Burton Hill', 'Barbara De Angelis', 'Deepak Chopra', 'Eleanor Roosevelt', 'Vincent Van Gogh', 'Mark Twain', 'Dale Carnegie', 'John Locke', 'Julie Andrews', 'Guy Finley', 'Harper Lee', 'M. Scott Peck', 'Rumi', 'Plato', 'Billy Graham', 'Mary Kay Ash', 'Leo Buscaglia', 'Tony Robbins', 'Alfred Lord Tennyson', 'Margaret Mead', 'Billy Graham', 'Lydia M. Child', 'Ruby Dee', 'Michael Jordan', 'Leo Tolstoy', 'Bill Gates', 'Andrew Carnegie', 'Vern Law', 'Albert Camus', 'Anais Nin', 'Jim Rohn', 'Stephen Covey', 'Confucius', 'Warren Buffett', 'Richard Lamm', 'Louis de Montfort', 'James Madison', 'Gloria Steinem', 'Christian Dior', 'Winston Churchill', 'Wayne Dyer', 'Stephen Hawking', 'Joseph Campbell', 'Heath Ledger', 'Jim Rohn', 'Jim Rohn', 'Alan Cohen', 'Orison Swett Marden', 'Billy Graham', 'Ralph Waldo Emerson', 'John Muir', 'James Allen', 'Leonardo da Vinci', 'Tony Robbins', 'Tim Ferriss', 'Malcolm Forbes', 'Jacqueline Gareau', 'Joseph Addison', 'Benjamin Jowett', 'Jim Rohn', 'Robert Collier', 'Charles Buxton', 'Vernon Howard', 'Peace Pilgrim', 'Vince Lombardi', 'Wilma Rudolph', 'Jim Rohn', 'Haruki Murakami', 'James A. Baldwin', 'James Allen', 'John Green', 'Stephen Hawking', 'Khalil Gibran', 'Jim Rohn', 'Unknown', 'Thomas Huxley', 'Les Brown', 'Bobby Seale', 'John F. Kennedy', 'Andre Gide', 'Kurt Vonnegut', 'Thomas Fuller', 'Theodore Roosevelt', 'Anna Quindlen', 'Wayne Dyer', 'Paul Tournier', 'Bernard Baruch', 'Zig Ziglar', 'Maya Angelou', 'Melody Beattie', 'Paulo Coelho', 'Princess Diana', 'Joseph Campbell', 'Honore de Balzac', 'Bernard Williams', 'Ernest Hemingway', 'Janis Ian', 'Wayne Dyer', 'Ann Landers', 'Goldie Hawn', 'Wayne Dyer', 'Storm Jameson', 'Robin Sharma', 'Ralph Waldo Emerson', 'Abraham Lincoln', 'Ralph Abernathy', 'Robert Frost', 'Norman Vincent Peale', 'Vernon Howard', 'Joe Girard', 'Kurt Vonnegut', 'Francis Bacon', 'Shakti Gawain', 'Jon Bon Jovi', 'Ernest Hemingway', 'Wayne Dyer', 'Tony Robbins', 'Naguib Mahfouz', 'Henry David Thoreau', 'Dale Carnegie', 'Billy Graham', 'Swami Vivekananda', 'James Madison', 'Billy Graham', 'Johnny Depp', 'Alice Walker', 'Ronnie Lott', 'Harvey Fierstein', 'John Ruskin', 'Tyra Banks', 'Unknown', 'Victor Hugo', 'Thomas Jefferson', 'Sam Cawthorn', 'Rumi', 'Anton Chekhov', 'Winston Churchill', 'Helen Keller', 'Dalai Lama', 'Kathrine Switzer', 'Arthur Ashe', 'Billy Graham', 'Les Brown', 'Lady Gaga', 'Uta Hagen', 'John Bunyan', 'Jack LaLanne', 'Edward de Bono', 'Stephen King', 'Norman Vincent Peale', 'Milton Friedman', 'Paulo Coelho', 'Don Herold', 'Wayne Dyer', 'Arthur Rubinstein', 'Johann Wolfgang von Goethe', 'Napoleon Hill', 'Lou Holtz', 'Abraham Lincoln', 'Marcus Aurelius', 'Pope John Paul II', 'Neal A. Maxwell', 'Anne Frank', 'George S. Patton', 'William James', 'Sun Tzu', 'Galileo Galilei', 'Epictetus', 'George S. Patton', 'Thomas Fuller', 'Ray Kroc', 'Arthur Ashe', 'Christina Rossetti', 'Jim Rohn', 'Sylvia Plath', 'James Earl Jones', 'Jim Rohn', 'Mark Twain', 'Og Mandino', 'Malcolm X', 'W. Clement Stone', 'Abraham Lincoln', 'Andy Rooney', 'Rick Warren', 'Thomas Jefferson', 'Tim Allen', 'James L. Jones', 'Albert Einstein', 'Saint Augustine', 'Frederick Douglass', 'Paulo Coelho', 'Che Guevara', 'Marianne Williamson', 'Og Mandino', 'Wayne Dyer', 'Malcolm Forbes', 'Mary Pickford', 'Jim Rohn', 'Sigmund Freud', 'Phil McGraw', 'Robert Fulghum', 'Helen Keller', 'John Green', 'Doris Day', 'Allen Klein', 'Wayne Dyer', 'Wayne Dyer', 'Thomas Paine', 'Ben Stein', 'Richard Bach', 'Ralph Waldo Emerson', 'Jim Rohn', 'H. Jackson Brown, Jr.', 'Epictetus', 'Michael Jordan', 'Mark Twain', 'Gloria Steinem', 'Douglas MacArthur', 'Dale Carnegie', 'Jim Rohn', 'Vernon Howard', 'Victor H. Krulak', 'Paramahansa Yogananda', 'Henry Ward Beecher', 'Tony Robbins', 'Abigail Adams', 'J. K. Rowling', 'Billy Graham', 'Maya Angelou', 'Bill Cosby', 'Fyodor Dostoevsky', 'Kristin Chenoweth', 'Aldous Huxley', 'John Calvin', 'Marsha Petrie Sue', 'Marilyn vos Savant', 'Matsuo Basho', 'Robert Frost', 'Charlie Chaplin', 'Jim Rohn', 'Babe Ruth', 'John Piper', 'John Wooden', 'Albert Einstein', 'Samuel Ullman', 'Eleanor Roosevelt', 'John F. Kennedy', 'William James', 'Cary Grant', 'Joel Osteen', 'Lewis Grizzard', 'Erma Bombeck', 'Malcolm X', 'Jim Rohn', 'Vince Lombardi', 'Kobe Bryant', 'John C. Maxwell', 'Jim Rohn', 'Erich Fromm', 'Khalil Gibran', 'John Lennon', 'Marcus Aurelius', 'Albert Einstein', 'Earl Nightingale', 'Wilson Mizner', 'Pema Chodron', 'J. R. R. Tolkien', 'John F. Kennedy', 'Horace', 'Banksy', 'Jim Rohn', 'Jim Rohn', 'Eleanor Roosevelt', 'Chesty Puller', 'Bruce Lee', 'Jim Rohn', 'Abraham Lincoln', 'Melinda Gates', 'Jim Rohn', 'Johnny Cash', 'Harun Yahya', 'Gilbert K. Chesterton', 'Paulo Coelho', 'Jim Rohn', 'Thomas Jefferson', 'Henrik Ibsen', 'Amelia Earhart', 'Ludwig von Mises', 'Elizabeth Cady Stanton', 'Benjamin Spock', 'Michael Jordan', 'Charles Kettering', 'B.K.S. Iyengar', 'Michael Caine', 'Billy Graham', 'Jim Rohn', 'William Arthur Ward', 'Thomas A. Edison', 'Thomas Merton', 'George Mason', 'Michael Chang', 'Jim Rohn', 'Leo Buscaglia', 'Richard Harding Davis', 'Benjamin Franklin', 'Bob Marley', 'Friedrich Nietzsche', 'Larry Eisenberg', 'Robert A. Heinlein', 'Pablo Picasso', 'William Ellery Channing', 'Confucius', 'George A. Sheehan', 'William Arthur Ward', 'Helen Hayes', 'Henry Wadsworth Longfellow', 'Robert W. Service', 'Bruce Lee', 'Voltaire', 'Lewis Carroll', 'Miles Davis', 'Jim Morrison', 'Mark Twain', 'Malcolm Forbes', 'Eckhart Tolle', 'Albert Einstein', 'Robert E. Cushman, Jr.', 'Flip Wilson', 'Plato', 'Claude Bernard', 'Franklin D. Roosevelt', 'Maya Angelou', 'Vince Lombardi', 'Willie Nelson', 'George Washington Carver', 'Mother Teresa', 'Rabindranath Tagore', 'Mario', 'Jim Rohn', 'Tony Robbins', 'Norman Vincent Peale', 'Franklin D. Roosevelt', 'Winston Churchill', 'Steve Jobs', 'Norman Vincent Peale', 'John Burroughs', 'Albert Einstein', 'Edward R. Murrow', 'Sam Walton', 'R. Buckminster Fuller', 'Loretta Young', 'Marvin Minsky', 'Nancy Lopez', 'Jesse Owens', 'Jane Austen', 'Al Neuharth', 'Lillian Hellman', 'Nhat Hanh', 'Daniel J. Boorstin', 'Judy Garland', 'Og Mandino', 'John Bingham', 'Albert Einstein', 'William James', 'Rita Mae Brown', 'John Dewey', 'Desmond Tutu', 'Margaret Thatcher', 'Eckhart Tolle', 'Ayn Rand', 'Calvin Coolidge', 'Leo Buscaglia', 'Rumi', 'Mark Twain', 'Friedrich Nietzsche', 'Giorgio Armani', 'Aesop', 'Jane Austen', 'Elie Wiesel', 'Samuel Johnson', 'John C. Maxwell', 'Sydney J. Harris', 'Hunter S. Thompson', 'Jim Rohn', 'Ram Dass', 'Plutarch']\n"
     ]
    },
    {
     "data": {
      "text/plain": [
       "1000"
      ]
     },
     "execution_count": 96,
     "metadata": {},
     "output_type": "execute_result"
    }
   ],
   "source": [
    "print(Author)\n",
    "len(Author)"
   ]
  },
  {
   "cell_type": "code",
   "execution_count": 97,
   "id": "7f5b227d",
   "metadata": {},
   "outputs": [
    {
     "name": "stdout",
     "output_type": "stream",
     "text": [
      "['Essence, Deep Thought, Transcendentalism', 'Inspiration, Past, Trying', 'Country, Peace, War', 'Inspirational, Motivational, Death', '4th Of July, Food, Patriotic', 'Inspirational, Success, Basketball', 'Strong, Revenge, Intelligent', 'Inspirational, Teacher, Religious', 'Truth, Honesty, Lying', 'Funny, Reading, Learning', 'Strong, Thoughtful, Compassion', 'Love, Funny, Life', 'Freedom, Men, Democracies Have', 'God, Religious, Atheist', 'Respect, Kindness, Character', 'Inspirational, Motivational, Change', 'Inspirational, Life, Inspiring', 'Love, Inspirational, Life', 'Inspiring, Country, 4th Of July', 'Inspirational, Dream, Hate', 'Love, Inspirational, Life', 'Forgiveness, God, Christian', 'Country, Men, Squares', 'Inspirational, Relationship, Positive', 'Inspirational, Motivational, Positive', 'Love, Friendship, Relationship', 'Faith, God, Christian', 'Art, Freedom, Political Will', 'Inspirational, Life, Faith', 'Inspirational, Life, Meaningful', 'Happiness, Time, Clever', 'Inspirational, Inspiring, Success', 'Love, Inspirational, Life', 'Music, Sound And Music, Musical Life', 'Adversity, Blow, Action', 'Positive, Thinking Of You, Attitude', 'Inspirational, Funny, Life', 'Inspirational, Life, Motivational', 'Inspirational, Memorial Day, Freedom', 'Freedom, Patriotic, Vaccines', 'Philosophy, Ignorance, Democratic Socialism', 'Inspirational, Dance, Education', 'Life, Change, Positive', 'Life, Bullying, Mistake', 'Life, Nature, Children', 'Inspirational, Life, Motivational', 'Marriage, Love You, Long', 'Inspirational, Motivational, Success', 'Love, Inspirational, Life', 'Diversity, Important, Liberty', 'Inspirational, God, Faith', 'Inspirational, Motivational, Inspiring', 'Business, Stupid, Government', 'Beauty, Love Yourself, Your Beautiful', 'Inspirational, Life, Motivational', 'Peace, Military, War', 'Inspirational, Leadership, Confidence', 'Motivational, Military, War', 'Christian, Jesus, Confusing', 'Inspirational, Success, Sports', 'Inspirational, Motivational, Success', 'Inspirational, Life, Clever', 'Inspirational, Death, Failure', 'Inspirational, Life, Motivational', 'Inspiring, Hope, Spring', 'Motivational, Running, People', 'Inspirational, Motivational, Positive', 'Summer, Food, Garden', 'Inspirational, Life, Motivational', 'Inspirational, Life, Thank You', 'Funny, Sports, Jobs', 'Being Strong, Wisdom, Stay Strong', 'Inspirational, Motivational, Positive', 'Motivational, Positive, Moon', 'Time, Pain, Get Well', 'Life, God, Christian', 'President, Needs, Purpose', 'God, Faith, Christian', 'Women, Failure, Successful', 'Inspirational, Morning, Kindness', 'Hiding Place, Ability, Baby Boom', 'Love, Inspirational, Life', 'Inspirational, Change, Philosophy', 'Inspirational, Family, Inspiring', 'Inspirational, Success, Courage', 'Inspirational, Life, Motivational', 'Christian, Vision, Missionary', 'Inspirational, Positive, Regret', 'Love, Inspirational, Life', 'Inspirational, Life, Encouragement', 'Happy Birthday, Baseball, Fun', 'Leadership, Power, Opportunity', 'Inspirational, Life, Positive', 'Inspirational, Encouraging, Patience', 'New Year, Fun, New Beginnings', 'Music, Sports, Hunting', 'Trust, Encouraging, Uplifting', 'Inspirational, Funny, Change', 'Success, God, Mother', 'Inspirational, Motivational, Change', 'Spring, April, Fragrance', 'Inspirational, Faith, Spiritual', 'Inspirational, Motivational, Positive', 'Love, Inspirational, Life', 'Strength, Peace, Gun', 'Inspirational, Happiness, Leadership', 'Motivational, Dream, Determination', 'Freedom, Independent, Science', 'Life, Being Strong, Wisdom', 'Happy, God, New Year', 'Inspiring, Leadership, Teacher', 'Inspirational, Motivational, Fear', 'Inspirational, Success, Business', 'Inspirational, Respect, Idols', 'God, Bridges, Grace', 'Inspirational, Life, Self Esteem', 'Inspirational, Change, Moving On', 'Life, Change, Happiness', 'Inspirational, Life, Motivational', 'Love, Success, Encouraging', 'Government, Gun Control, Second Amendment', 'Inspirational, Motivational, Moving On', 'Inspirational, Life, Motivational', 'Love, Life, Positive', 'Love, Loving Yourself, Stay Positive', 'Inspirational, Life, Motivational', 'Inspirational, Life, Motivational', 'Love, Marriage, Wedding', 'Freedom, Liberty, Libertarian', 'Inspirational, Motivational, Positive', 'Moving On, Growing Up, Memories', 'Art, Philosophy, Crazy', 'Dream, Kings, Children', 'Self Esteem, Helping Others, Numbers', 'Inspirational, Motivational, Sports', 'Inspirational, Happiness, Happy', 'Happiness, Moving On, Letting Go', 'Inspirational, Motivational, Success', 'Inspirational, Blessed, Blessing', 'Inspirational, Life, Country', 'Inspirational, Funny, Life', 'Inspirational, Music, Lonely', 'Men, Self, Soul', 'Inspirational, Success, God', 'Thank You, Military, Marine', 'Trust, God, Confidence', 'Inspirational, Funny, Witty', 'Inspirational, Motivational, Inspiring', 'Motivational, Commitment, Tolerance', 'Inspirational, Life, Motivational', 'Motivational, Perseverance, Work', 'Ignorance, Knowledge, Hunting', 'Inspirational, Motivational, Positive', 'Motivational, Perseverance, Morning', 'Inspirational, Success, Letting Go', 'Military, Army, Warfare', 'Happiness, Being Happy, Peace', 'Inspirational, Change, Positive', 'Strength, Inspiring, Dream', 'Dog, Men, Animal', 'Inspirational, Life, Motivational', 'Inspirational, Motivational, Change', 'Inspirational, Leadership, Wise', 'Friendship, Fake Friends, Memorable', 'Inspirational, Money, Business', 'Love, Marriage, Home', 'Life, Death, Wisdom', 'Change, America, Presidential', 'Basketball, Motivational Sports, Character', 'Inspirational, Inspiring, Christian', 'Inspirational, Education, Moving', 'Inspirational, Children, Growing Up', 'Inspiring, Children, Team', 'Love, Funny, Sarcastic', 'Inspirational, Motivational, Change', 'Inspirational, Relationship, Inspiring', 'Death, Philosophy, Real', 'Funny, Life, Motivational', 'Love, Birthday, Family', 'Life, Friendship, Best Friend', 'Inspirational, Life, Motivational', 'Inspirational, Life, Motivational', 'Teacher, Peace, Children', 'Inspirational, Life, Positive', 'Peace, War, Memorable', 'Inspirational, Life, Motivational', 'Inspirational, Women, Sight', 'Motivational, Success, Encouragement', 'Motivational, Faith, Sports', 'Positive, Inspiring, Success', 'Inspirational, Faith, Hope', 'Love, Inspirational, Motivational', 'Success, Encouraging, Patience', 'Love, Inspirational, Motivational', 'Love, Inspirational, Life', 'Inspirational, Life, Motivational', 'Inspirational, Motivational, Positive', 'Love, Life, Lonely', 'Love, Inspirational, Friendship', 'Inspirational, Change, Inspiring', 'Inspirational, Motivational, Positive', 'Motivational, Happiness, Letting Go', 'Inspirational, Motivational, Positive', 'Encouraging, Basketball, Uplifting', 'Inspirational, Positive, Wisdom', 'Inspirational, Motivational, Positive', 'Love, Wisdom, Inspiration', 'Inspirational, Relationship, Inspiring', 'Education, Perseverance, Giving Up', 'Inspirational, Motivational, Positive', 'Love, Inspirational, Inspiring', 'Inspirational, Dream, Children', 'Inspirational, Music, Spiritual', 'Leadership, Business, Motivation', 'Inspirational, Success, Leadership', 'Love, Life, God', 'Inspirational, Change, Positive', 'Baseball, Motivational Sports, Games', 'Motivational, Graduation, Dream', 'Hate, Real, Winning', 'Inspiring, Beautiful, Hair', 'Business, Light, Politics', 'Inspirational, Motivational, Positive', 'Inspirational, Motivational, Positive', 'Inspiring, Inspiration, Healing', 'Love, Family, Marriage', 'Inspirational, Positive, Faith', 'Inspirational, Life, Change', 'Positive, Fashion, Hair', 'Carpe Diem, Boys, Dead Poets Society', 'Positive, Strength, Success', 'Inspirational, Positive, Meaningful', 'Inspirational, Happy, Wise', 'Happiness, Christmas, Sarcastic', 'Mothers Day, Mom, Mother Daughter', 'Success, Stress, Congratulations', 'Motivational, Positive, Work', 'Nice, Fighting, Cash Flow', 'Inspirational, Life, Motivational', 'Inspirational, Motivational, Positive', 'Inspirational, Motivational, Leadership', 'Music, Dream, Teacher', 'Love, Inspirational, Funny', 'Inspirational, Motivational, Positive', 'Money, Worry, World', 'Memories, Remember, Second Place', 'Inspirational, Motivational, Positive', 'Country, Military, War', 'Motivational, Success, Education', 'Inspirational, Positive, Smile', 'Inspirational, Change, Inspiring', 'Inspirational, Happiness, Happy', 'Inspirational, Positive, Dream', 'Happiness, Success, Being Happy', 'Inspirational, Life, Motivational', 'Good Luck, Lucky, Way', 'Inspirational, Life, Karma', 'Inspirational, Birthday, Happiness', 'Life, Humble, Positivity', 'Love, Inspirational, Life', 'Love, Inspirational, Friendship', 'Softball, Sports, Athlete', 'Inspirational, Motivational, Positive', 'Inspirational, Positive, Happiness', 'Love, Inspirational, Life', 'Inspirational, Motivational, Positive', 'Christian, Travel, Home', 'Inspirational, Motivational, Success', 'Veterans Day, Freedom, Military', 'Inspirational, Life, Inspiring', 'Inspirational, Motivational, Positive', 'Relationship, Night, Just Friends', 'Life, Motivational, Positive', 'Country, New York, Military', 'Inspirational, Inspiring, Perseverance', 'Life, Business, Simple', 'Inspirational, Motivational, Positive', 'Inspirational, Life, Motivational', 'Inspiring, Strong Women, History', 'Inspirational, Happiness, Graduation', 'Motivational, Failure, Inspiration', 'Inspirational, Life, Motivational', 'Motivational, Get Well, Believe', 'Business, Government, Political', 'Inspirational, Change, Inspiring', 'Inspirational, Positive, Happiness', 'Inspirational, Motivational, Success', 'Inspirational, Life, Happiness', 'Inspirational, Life, Motivational', 'Change, Decision, Cybernetics', 'Inspirational, Motivational, Business', 'Inspirational, Life, Motivational', 'Inspirational, Motivational, Success', 'Inspirational, Positive, Happiness', 'Inspirational, Motivational, Positive', 'Motivational, Moving On, Success', 'Inspirational, Strength, Strong', 'Hate, Lying, Media', 'Funny, Thanksgiving, Holiday', 'Inspirational, Life, Positive', 'Fashion, Eyebrows, Icons', 'Leadership, God, Wisdom', 'Happiness, Success, Happy', 'Inspirational, Positive, Success', 'Christmas, Holiday, Giving', 'Inspirational, Motivational, Powerful', 'Courage, War, Patriotic', 'Inspirational, Positive, Courage', 'Positive, Inspiring, Success', 'Inspirational, Friendship, Positive', 'Change, Uplifting, Spiritual', 'Life, Motivational, Inspiring', 'Inspirational, Change, Attitude', 'Inspirational, Sports, Football', 'Life, Happiness, Happy', 'Inspirational, Encouraging, Sports', 'Motivational, Strength, Moving On', 'Positive, Happiness, Being Happy', 'Motivational, Past, Insightful', 'Success, Moving On, Letting Go', 'Break Up, Letting Go, Breakup', 'Inspirational, Wise, Travel', 'Love, Inspirational, Funny', 'Inspirational, Motivational, Success', 'Trust, Encouraging, Hope', 'Spiritual, Jobs, Work', 'Life, Encouraging, Being Strong', 'Inspirational, Motivational, Sports', 'Inspiring, Teacher, Teaching', 'Men, Justice, Overcoming', 'Success, Congratulations, Failure', 'Inspirational, Life, Change', 'Inspirational, Leadership, Encouraging', 'Inspirational, Success, Encouraging', 'Motivational, Leadership, People', 'Inspirational, Motivational, Success', 'Inspirational, Funny, Motivational', 'Inspirational, Life, Inspiring', 'Music, Boys, Poison', 'Football, Motivation, Passion', 'Motivational, Change, Stay Strong', 'Inspirational, Life, 4th Of July', 'Inspirational, Motivational, Positive', 'Life, Positive, Wisdom', 'Motivational, Success, Attitude', 'Inspirational, Leadership, Basketball', 'Inspirational, Motivational, Success', 'Inspirational, Loyalty, Money', 'Inspirational, Life, Motivational', 'Love, Friendship, Forgiveness', 'Courage, Adversity, Ordinary Extraordinary', 'Inspirational, Life, Motivational', 'Determination, Power, Trying', 'Inspirational, Positive, Success', 'Inspirational, Life, Motivational', 'Inspirational, Relationship, Peace', 'Inspirational, Success, Motivational Sports', 'Inspirational, Witty, Truth', 'Inspirational, Motivational, Strength', 'Military, Marine, Winning', 'Love, Positive, Marriage', 'Inspirational, Motivational, Determination', 'Love, Happiness, Smile', 'Inspirational, Motivational, Success', 'Love, Life, Trust', 'Life, Graduation, Wise', 'Inspirational, Being Yourself, Clever', 'Country, War, Mean', 'Determination, Military, War', 'Inspirational, Funny, Motivational', 'Inspirational, Change, Uplifting', 'Funny, Life, Leadership', 'Leadership, Military, Bad Ass', '4th Of July, America, Liberty', 'Inspirational, Life, Positive', 'Military, Marine, Rifles', 'Inspirational, Life, Change', 'Inspirational, Motivational, Inspiring', 'Morning, Business, Work', 'Play, Easy, Feels', 'Inspirational, Motivational, Success', 'Christian, Religious, Prayer', 'Positive, Success, Fall', 'Graduation, Education, Wall', 'Military, Army, Navy', 'Inspirational, Motivational, Success', 'Inspirational, Funny, Life', 'Inspirational, Motivational, Love Is', 'Inspirational, Confidence, Wisdom', 'Inspirational, Life, Positive', 'Inspiring, Courage, Veterans Day', 'Inspirational, Funny, Motivational', 'Love, Inspirational, Motivational', 'Kings, Stars, Hate', 'Inspirational, Motivational, Leadership', 'Inspirational, Life, Motivational', 'Inspirational, Leadership, Insperational', 'Life, Motivational, Change', 'Friendship, Change, Philosophy', 'Funny, Motivational, Positive Thinking', 'Inspirational, Motivational, Education', 'Inspirational, Motivational, Kindness', 'Inspirational, Motivational, Positive', 'Inspirational, Life, Motivational', 'Country, Veterans Day, Brother', 'Inspirational, Life, Success', 'Inspirational, Strong Women, Empowering', 'Trust, Travel, Truth', 'Inspirational, Life, Motivational', 'Inspirational, Wise, Wisdom', 'Inspirational, Friendship, Relationship', 'Letting Go, Spiritual, Courage', 'Motivational, Positive, Gratitude', 'Powerful, Hate, Son', 'Love, Positive, Happiness', 'Inspirational, Life, Positive', 'Inspirational, Life, Friendship', 'Happiness, Happy, Being Happy', 'Inspirational, Inspiring, Courage', 'Wise, Wisdom, Stupid', 'Inspirational, Life, Education', 'Nature, Educational, Humorous', 'Courage, Men, Perfect', 'Inspirational, Motivational, Success', 'Inspirational, Money, Time', 'Happiness, Witty, Money', 'Inspirational, Life, Wisdom', 'Inspirational, Motivational, Positive', 'Strong, Powerful, Past', 'Inspirational, Life, Music', 'Travel, Istanbul, Cities', 'Memorial Day, Courage, Adventure', 'Inspirational, Motivational, Change', 'Inspirational, Attitude, Yoga', 'Inspirational, Motivational, Moving On', 'Inspirational, Life, Believe', 'Faith, God, Christian', 'Change, Positive, Organization', 'Inspirational, Life, Positive', 'Love, Funny, Relationship', 'Love, Life, Strength', 'Inspirational, Life, Positive', 'Running, Long, Joy', 'Motivational, Success, Business', 'Happiness, Success, Happy', 'Inspirational, Life, Motivational', 'Veterans Day, Memorial Day, Courage', 'Life, New Year, Mother', 'Inspirational, Life, Motivational', 'Inspirational, Life, Motivational', 'Inspirational, Wisdom, Witty', 'Inspirational, Life, Inspiring', 'Depression, Spring, Science', 'Inspirational, Life, Motivational', 'Inspiring, Education, Wisdom', 'Time, Top Management, Want', 'Love, Family, Wise', 'Inspirational, Education, Knowledge', 'Complaints, Caliphs, Invites', 'Inspirational, Life, Inspiring', 'Motivational, Spiritual, Work', 'Inspirational, Wisdom, Hands', 'Inspirational, Life, Motivational', 'Justice, Overcoming, Fundamentals', 'Inspirational, Strength, Being Strong', 'Inspirational, Motivational, Dream', 'Inspirational, Positive, Education', 'Inspirational, Motivational, Positive', 'Inspirational, Positive Thinking, Long', 'Motivational, Positive, Faith', 'Truth, Intelligent, Greatness', 'Life, Relationship, Money', 'Marriage, Mother, Children', 'Funny, Mothers Day, Hilarious', 'Inspirational, Motivational, Positive', 'Motivational, Faith, Attitude', 'Love, Happiness, Smile', 'Life, Meaningful, Peace', 'Inspirational, Positive, Cheer', 'Courage, Thinking, People', 'Change, Success, Running', 'Inspirational, Positive, Leadership', 'Love, Friendship, Change', 'Life, Change, Goodbye', 'Inspirational, Decisions You Make, Progress', 'Life, God, Christian', 'Life, Moving On, Wise', 'Inspirational, Positive, Determination', 'Motivational, Education, Freedom', 'Inspirational, Volleyball, Football', 'Forgiveness, Jealousy, Hater', 'Inspirational, New Year, Time', 'Inspirational, Motivational, Change', 'Success, Congratulations, Teaching', 'Men, Rights, Use', '4th Of July, Responsibility, Past', 'Inspirational, Life, Change', 'Inspirational, Positive, Inspiring', 'Motivational, Positive, Death', 'Inspirational, Being Yourself, Real', 'Music, Food, Unrequited Love', 'Inspirational, Positive, Inspiring', 'Love, Family, Marriage', 'Inspirational, Motivational, Strength', 'Love, Funny, Change', 'Positive, Confidence, Buddhist', 'Inspirational, Appreciation, Motivation', 'Children, Greatness, Organization', 'Motivational, Change, Basketball', 'Inspirational, Monday, Work', 'Christian, Spiritual, Religion', 'Inspirational, Spiritual, Growing Up', 'Inspirational, Education, Learning', 'Relationship, Mean, Long', 'Inspirational, Funny, Sad', 'Inspirational, Being Yourself, Appreciation', 'Motivational, Happiness, Happy', 'Inspirational, Life, Motivational', 'Inspirational, Inspiring, Dog', 'Leadership, Character, Care', 'Inspirational, Success, Teacher', 'Love, Life, Positive', 'Life, Friendship, Best Friend', 'Inspirational, Cute, Sad', 'Life, Success, Wisdom', 'Life, Change, Wise', 'Inspirational, Life, Beautiful', 'Inspirational, Positive, Courage', 'Inspirational, Life, Change', 'Moving, Tyrants, World Government', 'Dream, Giving, Permission', 'Inspirational, Motivational, Courage', 'Love, Inspirational, Relationship', 'Inspirational, Motivational, Success', 'Love, Inspirational, Family', 'Inspirational, Motivational, Feminist', 'Success, Baseball, Fear', 'Inspirational, Learning, Ignorance', 'Inspirational, Funny, Life', 'Inspirational, Basketball, Sports', 'Life, Inspiring, Encouraging', 'Inspirational, Life, Positive', 'Inspirational, Motivational, Business', 'Happiness, Summer, Christian', 'Children, Nice, Self Esteem', 'Inspirational, Life, Motivational', 'Inspirational, Motivational, Positive', 'Love, Inspirational, Life', 'Inspirational, Funny, Life', 'Life, Faith, Religious', 'Positive, Success, Determination', 'Motivational, Success, Dream', 'Inspirational, Basketball, Peace', 'Jobs, Women, Princess', 'Inspirational, Change, Positive', 'Cheer Up, Positive Attitude, Garden', \"Motivation, Don't Give Up, Positivity\", 'Education, Learning, Community', 'Change, Sympathy, Native American', 'Inspirational, Motivational, Respect', 'Inspirational, Life, Motivational', 'Inspiring, Success, Life And Love', 'Funny, Gun, Want', 'Veterans Day, Time, Peace', 'Inspirational, Positive, Inspiring', 'Love, Inspirational, Life', 'Inspirational, Life, Success', 'Death, Spiritual, Courage', 'Inspirational, Life, Motivational', 'Inspirational, Motivational, Encouraging', 'Inspiring, Boyfriend, Strong Women', 'Inspirational, Life, Motivational', 'Birthday, Strength, Inspiring', 'Happiness, Thanksgiving, Thank You', 'Inspirational, Inspiring, Leadership', 'Inspirational, Motivational, Sports', 'Inspirational, Motivational, Success', 'Inspirational, Life, Motivational', 'Inspirational, Life, Motivational', 'Wisdom, Character, Wings', 'Funny, Music, Wisdom', 'Life, Happiness, Happy', 'Thankful, Gratitude, Appreciation', 'Bullying, Peace, Elephants', 'Inspiring, Success, Failure', 'Inspirational, Motivational, Positive', 'Life, Veterans Day, Attitude', 'Love, Inspirational, Motivational', 'Love, Motivational, Family', 'Life, Being Yourself, Positivity', 'Inspirational, Motivational, Success', 'Love, Inspirational, Positive', 'Inspirational, Funny, Witty', 'Inspirational, Beauty, Beautiful', 'Success, Tattoo, Business', 'Life, Change, Bad Ass', 'Basketball, Youth Of Today, Nba', 'Funny, Being Strong, Spiritual', 'Inspirational, Life, Motivational', 'Courage, Thinking, Clear', 'Love, Inspirational, Life', 'Love, Kindness, Women', 'Kindness, Power, Imagination', 'Wisdom, Clever, Men', 'Inspirational, Business, Investment', 'Love, Inspirational, Life', 'Inspirational, Success, Helping Others', 'Inspirational, Funny, Travel', 'Life, Freedom, Work', 'Regret, Mistake, Should', 'Understanding, Experience, Minimalist', 'Inspirational, Sports, Football', 'Inspirational, Softball, Sports', 'Inspirational, Motivational, Helping Others', 'Inspirational, Life, Happiness', 'Love, Letting Go, Meaningful', 'Spiritual, Yoga, Positive Thinking', 'Inspirational, Life, Motivational', 'Inspirational, Motivational, Positive', 'Life, Cheating, Funny Inspirational', 'Sweet, Grandchildren, Way', 'Funny, Money, Shoes', 'Inspirational, Positive, Success', 'Inspirational, Single, Letting Go', 'Powerful, Positivity, Sunshine', 'Inspirational, Funny, Motivational', 'Sympathy, Death, True Love', 'Plato, Desire, Three', 'Motivational, Veterans Day, Memorial Day', 'Inspirational, Success, Enthusiasm For Life', 'Love, Death, Positivity', 'Inspirational, Life, Family', 'Dream, Spiritual, Prayer', 'Uplifting, Determination, Work', 'Family, Respect, Children', 'Happiness, Happy, Helping Others', 'Strength, Inspiring, Beauty', 'Inspirational, Motivational, Change', 'Life, Birthday, Happiness', 'Inspirational, Success, Motivation', 'Motivational, Success, Encouragement', 'Inspirational, Sports, Education', 'Suicide, Coffee, Optimistic', 'Inspirational, Life, Motivational', 'Goal, Self Help, Reason', 'Inspirational, Inspiring, Life Changing', 'Education, Giving Up, Philosophical', 'Money, Business, Dollars', 'Funny, Christmas, Xmas', 'Christian, Jesus, Prayer', 'Country, People, Liberty', 'Mother Daughter, Courage, Honesty', 'Love, Fashion, Women', 'Funny, Leadership, Education', 'Motivational, Happiness, People', 'Anger, People, Always Complaining', 'Inspirational, Life, Happiness', 'Believe, Dark, Knights', 'Inspirational, Motivational, Positive', 'Motivational, Failure, House', 'Inspirational, Being Yourself, Truth', 'Hope, Powerful, Get Well Soon', 'Life, Faith, Forgiveness', 'Inspirational, Success, Forgiveness', 'Nature, Heart, Garden', 'Inspirational, Dream, Sleep', 'Inspirational, Education, Teaching', 'Life, Motivational, Spiritual', 'Inspirational, Positive, Inspiring', 'Positive, Success, Gymnastics', 'Motivational, Fitness, Running', 'Inspirational, Life, Friendship', 'Life, Positive, Business', 'Motivational, Change, Greatness', 'Inspirational, Motivational, Success', 'Inspirational, Motivational, Change', 'Life, Happiness, Success', 'Inspirational, Positive, Trust', 'Inspirational, Motivational, Basketball', 'Sports, Running, Winning', 'Inspirational, Life, Change', 'Inspirational, Book, Reading', 'Inspirational, Change, Leadership', 'Strength, Determination, Service Culture', 'Inspirational, Life, Hipster', 'Education, Science, People', 'Inspirational, Life, Dream', 'Inspirational, Missing You, Book', 'Inspirational, Friendship, Lonely', 'Graduation, Witty, Educational', 'Inspirational, Inspiring, Success', 'Fighting, Racism, Brotherhood', 'Inspirational, Leadership, Basketball', 'Inspirational, Motivational, Change', 'Life, Happiness, Wisdom', 'Inspirational, Motivational, Positive', 'Leadership, Differences, People', 'Confidence, Letting Go, Being Yourself', 'Love, Anxiety, Self Improvement', 'Positive, Sports, Confidence', 'Inspirational, Funny, Life', 'Inspirational, Life, Motivational', 'Inspirational, Motivational, Change', 'Inspirational, Life, Change', 'Inspirational, Life, Happiness', 'Women, Book, Heart', 'Life, Inspiring, Veterans Day', 'Love, Inspiring, Positivity', 'Inspirational, Positive, Inspiring', 'Relationship, Inspiring, Trust', 'The End Of The Day, Goes On, Realizing', 'Inspirational, Life, Motivational', 'Inspirational, Life, Motivational', 'Happiness, Smile, Inspiration', 'Inspirational, Leadership, Karma', 'Life, Miracle, Way To Live', 'Life, Positive, Time', 'Inspirational, Life, Fear', 'Inspirational, Positive, Religious', 'Future, Kwanzaa, African American', 'Inspirational, Motivational, Positive', 'Inspirational, Life, Motivational', 'Inspirational, Life, Inspiring', 'Inspirational, Motivational, Inspiring', 'Funny, Running, Country', 'Wise, Wisdom, Clever', 'Inspirational, Motivational, Spiritual', 'Inspiring, Christmas, Dream', 'Positive, Witty, Mistake', 'Life, Karma, People', 'Inspirational, Education, Teacher', 'Inspirational, Leadership, Wise', 'Love, Inspirational, Life', 'Inspirational, Success, Encouraging', 'Christmas, Xmas, Heart', 'Inspirational, Motivational, Spiritual', 'Inspirational, Freedom, Fear', 'Motivational, God, Religious', 'Inspirational, Relationship, Broken Heart', 'Inspirational, Motivational, Positive', 'Graduation, Sports, Football', 'Positive, Prayer, Life Changing', 'Motivational, Believe, Acceptance', 'Confidence, Being Yourself, Self Esteem', 'Bible, God, Education', 'Thanksgiving, Prayer, Wings', 'Strength, Wisdom, Veterans Day', 'Inspirational, Life, Jealousy', 'Anniversary, Marriage, Valentines Day', 'Knowledge, Technology, Practice', 'Inspirational, Hope, Freedom', 'Softball, Faith, Inspiration', 'Peace, Nature, Inspiration', 'Faith, Sports, Running', 'Inspirational, Kindness, Teaching', 'Hope, Wisdom, Godly', 'Giving Up, Powerful, Mean', 'Inspirational, Confidence, Cute Relationship', 'Life, Self Esteem, Women', 'Motivational, Success, Perseverance', 'Inspirational, Motivational, Sports', 'Funny, Wisdom, Humorous', 'Motivational, Success, Encouragement', 'Love, Motivational, Family', 'Government, Liberty, Libertarian', 'Inspirational, Motivational, Positive', 'Learning, Intelligent, Perspective', 'Inspirational, Happiness, Inspiring', 'Life, Happiness, People', 'Happiness, Teaching, Use', 'Inspirational, Perseverance, Determination', 'Motivational, Basketball, Confidence', 'Inspirational, Life, Motivational', 'Love, Inspirational, Life', 'Family, Faith, Inspiration', 'Motivational, Thanksgiving, Gratitude', 'Love, Inspirational, Motivational', 'Motivational, Business, Military', 'Inspirational, Motivational, Positive', 'Art, Crazy, War', 'Inspirational, Attitude, Learning', 'Forgiveness, Spiritual, Wisdom', 'Sympathy, Death, Wisdom', 'Inspirational, Motivational, Determination', 'Inspirational, Motivational, Leadership', 'Life, Motivation, Winning', 'Inspirational, Work, Women', 'Inspirational, Life, Motivational', 'Life, Sad, Writing', 'Love, Life, Heart', 'Inspirational, Success, Basketball', 'Life, Broken Heart, Heartbreak', 'Happiness, Smile, Happy', 'Peace, Freedom, Inspiration', 'Inspirational, Life, Positive', 'Wisdom, Religious, Freedom', 'Inspirational, Funny, Dog', 'Reality, Servant Of God, Careers', 'Inspirational, Motivational, Success', 'Friendship, Teamwork, Mom', 'Military, Marine, Two', 'Love, Inspirational, Life', 'Inspirational, Patience, Spiritual', 'Respect, Fear, Integrity', 'Love, Life, Patience', 'Fall, Revolutionary Leaders, Apples', 'Love, Forgiveness, Peace', 'Wisdom, Adversity, Triumph', 'Motivational, Spiritual, Self Esteem', 'Inspirational, Business, Imagination', 'Inspirational, Life, Motivational', 'Motivational, Success, Education', 'Inspiring, Education, Teacher', 'Determination, Dragons, Hiking', 'Life, Positive, Encouraging', 'Love, Inspirational, Funny', 'Moving On, Break Up, I Miss You', 'Thanksgiving, Thankful, Gratitude', 'Attitude, Positive Thinking, Positivity', 'Inspiration, Miracle, Preparation', 'Life, Motivational, Positive', 'Inspirational, Life, Motivational', 'Inspirational, Success, Determination', 'Education, Wisdom, Teaching', 'Trust, Faith, Spiritual', 'Inspirational, Life, Motivational', 'Love, Inspirational, Forgiveness', 'Inspirational, Change, Inspiring', 'Inspirational, Motivational, Strength', 'Change, Thank You, Memorial Day', 'Inspirational, Life, Motivational', 'Military, Fighting, Marine', 'Inspirational, Motivational, Success', 'Love, Family, Marriage', 'Freedom, Numbers, Being Free', 'Motivational, Military, Marine', 'Inspirational, Change, Smile', 'Leadership, Wisdom, Distance', 'Inspirational, Funny, Life', 'Inspirational, Education, Perseverance', 'Love, Inspirational, Dark', 'Christian, Feet, Sound', 'Inspirational, Strength, Inspiring', 'Family, Fathers Day, Children', 'Love, Life, Suffering', 'Love, Life, Happy', 'Inspirational, Motivational, Positive', 'Inspirational, Spiritual, Nature', 'New Year, New Beginnings, Might', 'Inspirational, Strength, Success', 'Inspirational, Life, Positive', 'Inspirational, Life, Motivational', 'Kindness, Thinking, Wicked World', 'Success, Greatness, Errors', 'Life, Motivational, Stay Strong', 'Christian, Goal, Church', 'Motivational, Inspiring, Graduation', 'Inspirational, Life, Being Yourself', 'Inspirational, Spiritual, Time', 'Integrity, Heart, Positivity', 'Inspirational, Thank You, Thanksgiving', 'Inspirational, Positive, Success', 'Writing, Self Improvement, Self Help', 'Inspirational, Positive, Moving On', 'Drinking, Sick, Way', 'Family, Mom, Mother', 'Love, Inspirational, Life', 'Learning, Miracle, Process', 'Inspirational, Motivational, Positive', 'Funny, Basketball, Sports', 'Change, Positive, Courage', 'Inspirational, Greatness, What Matters', 'Effort, Greed, Needs', 'Inspirational, Life, Motivational', 'Inspirational, Life, Motivational', 'Inspirational, Life, Motivational', 'Inspirational, Funny, Leadership', 'Inspirational, Positive, Determination', 'Inspirational, Success, Graduation', 'Teacher, Inspirational Love, Peace', 'Hope, Optimistic, Fighting', 'Inspirational, Memorial Day, Freedom', 'Inspirational, Life, Positive', 'Art, Creativity, Mind', 'Motivational, Good Life, Greatness', 'Self Esteem, Greatness, Goal', 'Inspirational, Life, Fear', 'War, Military, Marine', 'Inspirational, Life, Karma', 'Inspirational, Life, Fitness Motivational', 'Inspirational, Motivational, Leadership', 'Light, Use, Be Careful', 'Inspirational, Mistake, Learning', 'Twelve, Way, Found', 'Inspirational, Success, Travel', 'Love, Inspirational, Success', 'Encouraging, Courage, Inspiration', 'Inspirational, Motivational, Success', 'Life, Happiness, Work', 'Inspirational, Inspiring, Positivity', 'Inspirational, Life, Success', 'Peace, War, Government', 'Life, Strength, Courage', 'Positive, Family, Trust', 'Inspirational, Life, Motivational', 'Inspirational, Motivational, Teacher', 'Success, Spiritual, Wisdom', 'Inspiring, Encouragement, Bad Day', 'Strength, Christian, Self', 'Life, Motivational, Success', 'Inspirational, Success, Basketball', 'Inspirational, Motivational, Positive', 'Love, Valentines Day, Fate', 'Gun, People, Second Amendment', 'Long, Chinese, World', 'Inspirational, Greatness, Envy', 'Love, Inspiring, Positivity', 'Military, Marine, Hands', 'Practice, Political, Deception', 'Inspirational, Life, Motivational', 'Love, Life, Crush', 'Inspirational, Motivational, Peace', 'Inspirational, Freedom, Responsibility', 'Inspirational, Life, Motivational', 'Inspirational, God, Stay Strong', 'Inspirational, Positive, Success', 'Motivational, Running, Ideas', 'Inspirational, Life, Happiness', 'Sports, Hero, News', 'Inspirational, Funny, Positive', 'Anger, Adversity, Climbing', 'Inspirational, Inspiring, Friends', 'Motivational, Inspiration, Adversity', 'Children, Creativity, Ignorance', 'Life, Music, Beautiful', 'Inspirational, Positive, Freedom', 'Inspirational, Life, Bullying', 'Inspirational, Motivational, Success', 'Inspirational, Inspiring, Beauty', 'Witty, Attitude, Freedom', 'Military, Marine, Men', 'Motivational, Success, Positivity', 'Plato, War, Government', 'Inspirational, Educational, Learning', 'Inspirational, Motivational, Success', 'Inspirational, Life, Second Chance', 'Motivational, Sports, Football', 'Thanksgiving, Thankful, Gratitude', 'Inspirational, Motivational, Badass', 'Love, Happiness, Smile', 'Life, Inspiring, Encouragement', 'Funny, Humorous, Character', 'Moving On, Famous Inspirational, Greatness', 'Motivational, Happiness, Mean', 'Life, Birthday, Inspiring', 'Children, Educational, Future', 'Inspirational, Funny, Life', 'Change, Inspiring, Life Changing', 'Inspirational, Integrity, Yoga', 'Inspirational, Positive, Wisdom', 'Funny, Hilarious, Education', 'Sheep, Government, Political', 'Leadership, Appreciation, Team Building', 'Inspirational, Change, Success', 'Empowerment, Crowds, Empowering Women', 'Education, Learning, Knowledge', 'Fear, Positivity, Doubting Everything', 'Inspirational, Motivational, Sports', 'Happiness, Inspiring, Happy', 'Funny, Attitude, Climbing', 'Confidence, Littles, Matter', 'Motivational, Buddhist, Children', 'Mean, Opportunity, Nerd', 'Love, Funny, Romantic', 'Inspirational, Positive, Stars', 'Running, Years, Tests', 'Peace, Integrity, Patriotic', 'Inspirational, Motivational, Relationship', 'Love, Life, Being Yourself', 'Happiness, Work, Opportunity', 'Inspiring, Forgiveness, New Beginnings', 'Motivational, Success, Work', 'Positive, Wisdom, Philosophical', 'Inspirational, Life, Motivational', 'Life, Leadership, Motivational Sports', 'Love, Confidence, Forgiving', 'Spiritual, Sufi, Wherever You Are', 'Inspirational, Motivational, Change', 'Inspirational, Life, Music', 'Artist, Age, Example', 'Inspirational, Motivational, Wise', 'Inspirational, Funny, Stupid', 'Love, Inspirational, Life', 'Education, Curiosity, Genius', 'Motivational, Inspiring, Leadership', 'Love, Inspirational, Motivational', 'Gun, Two, Qualms About', 'Inspirational, Greatness, Best Effort', 'Spiritual, Truth, Yoga', 'Inspirational, Leadership, Education']\n"
     ]
    },
    {
     "data": {
      "text/plain": [
       "1000"
      ]
     },
     "execution_count": 97,
     "metadata": {},
     "output_type": "execute_result"
    }
   ],
   "source": [
    "print(Type)\n",
    "len(Type)"
   ]
  },
  {
   "cell_type": "code",
   "execution_count": 98,
   "id": "1a13cb32",
   "metadata": {},
   "outputs": [
    {
     "data": {
      "text/html": [
       "<div>\n",
       "<style scoped>\n",
       "    .dataframe tbody tr th:only-of-type {\n",
       "        vertical-align: middle;\n",
       "    }\n",
       "\n",
       "    .dataframe tbody tr th {\n",
       "        vertical-align: top;\n",
       "    }\n",
       "\n",
       "    .dataframe thead th {\n",
       "        text-align: right;\n",
       "    }\n",
       "</style>\n",
       "<table border=\"1\" class=\"dataframe\">\n",
       "  <thead>\n",
       "    <tr style=\"text-align: right;\">\n",
       "      <th></th>\n",
       "      <th>Quote</th>\n",
       "      <th>Author</th>\n",
       "      <th>Type of Quotes</th>\n",
       "    </tr>\n",
       "  </thead>\n",
       "  <tbody>\n",
       "    <tr>\n",
       "      <th>0</th>\n",
       "      <td>The essence of strategy is choosing what not t...</td>\n",
       "      <td>Michael Porter</td>\n",
       "      <td>Essence, Deep Thought, Transcendentalism</td>\n",
       "    </tr>\n",
       "    <tr>\n",
       "      <th>1</th>\n",
       "      <td>One cannot and must not try to erase the past ...</td>\n",
       "      <td>Golda Meir</td>\n",
       "      <td>Inspiration, Past, Trying</td>\n",
       "    </tr>\n",
       "    <tr>\n",
       "      <th>2</th>\n",
       "      <td>Patriotism means to stand by the country. It d...</td>\n",
       "      <td>Theodore Roosevelt</td>\n",
       "      <td>Country, Peace, War</td>\n",
       "    </tr>\n",
       "    <tr>\n",
       "      <th>3</th>\n",
       "      <td>Death is something inevitable. When a man has ...</td>\n",
       "      <td>Nelson Mandela</td>\n",
       "      <td>Inspirational, Motivational, Death</td>\n",
       "    </tr>\n",
       "    <tr>\n",
       "      <th>4</th>\n",
       "      <td>You have to love a nation that celebrates its ...</td>\n",
       "      <td>Erma Bombeck</td>\n",
       "      <td>4th Of July, Food, Patriotic</td>\n",
       "    </tr>\n",
       "    <tr>\n",
       "      <th>...</th>\n",
       "      <td>...</td>\n",
       "      <td>...</td>\n",
       "      <td>...</td>\n",
       "    </tr>\n",
       "    <tr>\n",
       "      <th>995</th>\n",
       "      <td>Regret for the things we did can be tempered b...</td>\n",
       "      <td>Sydney J. Harris</td>\n",
       "      <td>Love, Inspirational, Motivational</td>\n",
       "    </tr>\n",
       "    <tr>\n",
       "      <th>996</th>\n",
       "      <td>America... just a nation of two hundred millio...</td>\n",
       "      <td>Hunter S. Thompson</td>\n",
       "      <td>Gun, Two, Qualms About</td>\n",
       "    </tr>\n",
       "    <tr>\n",
       "      <th>997</th>\n",
       "      <td>For every disciplined effort there is a multip...</td>\n",
       "      <td>Jim Rohn</td>\n",
       "      <td>Inspirational, Greatness, Best Effort</td>\n",
       "    </tr>\n",
       "    <tr>\n",
       "      <th>998</th>\n",
       "      <td>The spiritual journey is individual, highly pe...</td>\n",
       "      <td>Ram Dass</td>\n",
       "      <td>Spiritual, Truth, Yoga</td>\n",
       "    </tr>\n",
       "    <tr>\n",
       "      <th>999</th>\n",
       "      <td>The mind is not a vessel to be filled but a fi...</td>\n",
       "      <td>Plutarch</td>\n",
       "      <td>Inspirational, Leadership, Education</td>\n",
       "    </tr>\n",
       "  </tbody>\n",
       "</table>\n",
       "<p>1000 rows × 3 columns</p>\n",
       "</div>"
      ],
      "text/plain": [
       "                                                 Quote              Author  \\\n",
       "0    The essence of strategy is choosing what not t...      Michael Porter   \n",
       "1    One cannot and must not try to erase the past ...          Golda Meir   \n",
       "2    Patriotism means to stand by the country. It d...  Theodore Roosevelt   \n",
       "3    Death is something inevitable. When a man has ...      Nelson Mandela   \n",
       "4    You have to love a nation that celebrates its ...        Erma Bombeck   \n",
       "..                                                 ...                 ...   \n",
       "995  Regret for the things we did can be tempered b...    Sydney J. Harris   \n",
       "996  America... just a nation of two hundred millio...  Hunter S. Thompson   \n",
       "997  For every disciplined effort there is a multip...            Jim Rohn   \n",
       "998  The spiritual journey is individual, highly pe...            Ram Dass   \n",
       "999  The mind is not a vessel to be filled but a fi...            Plutarch   \n",
       "\n",
       "                               Type of Quotes  \n",
       "0    Essence, Deep Thought, Transcendentalism  \n",
       "1                   Inspiration, Past, Trying  \n",
       "2                         Country, Peace, War  \n",
       "3          Inspirational, Motivational, Death  \n",
       "4                4th Of July, Food, Patriotic  \n",
       "..                                        ...  \n",
       "995         Love, Inspirational, Motivational  \n",
       "996                    Gun, Two, Qualms About  \n",
       "997     Inspirational, Greatness, Best Effort  \n",
       "998                    Spiritual, Truth, Yoga  \n",
       "999      Inspirational, Leadership, Education  \n",
       "\n",
       "[1000 rows x 3 columns]"
      ]
     },
     "execution_count": 98,
     "metadata": {},
     "output_type": "execute_result"
    }
   ],
   "source": [
    "df=pd.DataFrame({\"Quote\":Quote,\"Author\":Author,\"Type of Quotes\":Type})\n",
    "df"
   ]
  },
  {
   "cell_type": "markdown",
   "id": "386047ab",
   "metadata": {},
   "source": [
    "# 9.Former Prime ministers of India"
   ]
  },
  {
   "cell_type": "code",
   "execution_count": 23,
   "id": "492543f1",
   "metadata": {},
   "outputs": [],
   "source": [
    "driver=webdriver.Chrome()"
   ]
  },
  {
   "cell_type": "code",
   "execution_count": 24,
   "id": "9e2cb915",
   "metadata": {},
   "outputs": [],
   "source": [
    "driver.get(\"https://www.jagranjosh.com/\")"
   ]
  },
  {
   "cell_type": "code",
   "execution_count": 25,
   "id": "6d1b26ff",
   "metadata": {},
   "outputs": [],
   "source": [
    "select=driver.find_element(By.XPATH,'//li/a[@href=\"https://www.jagranjosh.com/general-knowledge\"]')\n",
    "select.click()"
   ]
  },
  {
   "cell_type": "code",
   "execution_count": 26,
   "id": "63aeeb4a",
   "metadata": {},
   "outputs": [],
   "source": [
    "List_PM=driver.find_element(By.XPATH,'/html/body/div[1]/div[8]/section[17]/div/div/ul[2]/li[11]/a')\n",
    "List_PM.click()"
   ]
  },
  {
   "cell_type": "code",
   "execution_count": 49,
   "id": "9325dda2",
   "metadata": {},
   "outputs": [
    {
     "data": {
      "text/plain": [
       "[\"Term of office\\nRemark\\n1.\\nJawahar Lal Nehru\\n(1889–1964)\\n15 August 1947 to 27 May 1964\\n16 years, 286 days\\nThe first prime minister of India and the longest-serving PM of India, the first to die in office.\\n2.\\nGulzarilal Nanda (Acting)\\n(1898-1998)\\n27 May 1964 to 9 June 1964,\\n13 days\\nFirst acting PM of India\\n3.\\nLal Bahadur Shastri\\n(1904–1966)\\n9 June 1964 to 11 January 1966\\n1 year, 216 days\\nHe has given the slogan of 'Jai Jawan Jai Kisan' during the Indo-Pak war of 1965\\n4. \\nGulzari Lal Nanda  (Acting)\\n(1898-1998)\\n11 January 1966 to 24 January 1966\\n13 days\\n-\\n5.\\nIndira Gandhi\\n(1917–1984)\\n24 January 1966 to 24 March 1977\\n11 years, 59 days\\nFirst female Prime Minister of India\\n6.\\nMorarji Desai\\n(1896–1995)\\n24 March 1977 to  28 July 1979 \\n2 year, 126 days\\nOldest to become PM (81 years old) and first to resign from office\\n7.\\nCharan Singh\\n(1902–1987)\\n28 July 1979 to 14 January 1980\\n170 days\\nOnly PM who did not face the Parliament\\n8.\\nIndira Gandhi\\n(1917–1984)\\n14 January 1980 to 31 October 1984\\n4 years, 291 days\\nThe first lady who served as PM for the second term\\n9.\\nRajiv Gandhi\\n(1944–1991)\\n31 October 1984 to 2 December 1989\\n5 years, 32 days\\nYoungest to become PM (40 years old)\\n10.\\nV. P. Singh\\n(1931–2008)\\n2 December 1989 to 10 November 1990\\n343 days\\nFirst PM to step down after a vote of no confidence\\n11.\\nChandra Shekhar\\n(1927–2007)\\n10 November 1990 to 21 June 1991\\n223 days\\nHe belongs to  Samajwadi Janata Party\\n12.\\nP. V. Narasimha Rao\\n(1921–2004)\\n21 June 1991 to 16 May 1996\\n4 years, 330 days\\nFirst PM from South India\\n13.\\nAtal Bihari Vajpayee\\n(1924- 2018)\\n16 May 1996 to 1 June 1996\\n16 days\\nPM for shortest tenure\\n14.\\nH. D. Deve Gowda\\n(born 1933)\\n1 June 1996 to 21 April 1997\\n324 days\\nHe belongs to  Janata Dal\\n15.\\nInder Kumar Gujral\\n(1919–2012)\\n21 April 1997 to 19 March 1998 \\n332 days\\n------\\n16.\\nAtal Bihari Vajpayee\\n(1924-2018)\\n19 March 1998 to 22 May 2004 \\n6 years, 64 days\\n The first non-congress PM who completed a full term as PM\\n17.\\nManmohan Singh\\n(born 1932)\\n22 May 2004 to 26 May 2014   \\n10 years, 4 days\\n First Sikh PM\\n18.\\nNarendra Modi\\n(born 1950)\\n26 May 2014 - 2019\\n4th Prime Minister of India who served two consecutive tenures\\n19.\\nNarendra Modi\\n(born 1950)\\n30 May 2019- Incumbent\\nFirst non-congress PM with two consecutive tenures\\nList of all the Prime Ministers of India: Important Points\\nArticle 75 of the Indian Constitution envisages that there will be a Prime Minister who shall be appointed by the President of India.\\nPrime Minister is the leader of the Cabinet Ministers. The main executive powers of the government are vested in the Prime Minister while the President is the nominal head of the State.\\nArticle 78 of the Indian Constitution specifies the duties of the Prime Minister of India. He acts as a link between the President and Cabinet while discharging his duties.\\nThe Prime Minister of India determines the dates of its meetings and programmes for the Parliament session. He also decides when the House has to be prorogued or dissolved.\\nAs a chief spokesman, he makes the announcement of principal government policies and answers questions.\\nPrime Minister (PM) recommends President regarding the appointment of many officers, he allocates and reshuffles various portfolios among Ministers, he presides over the meeting of the Council of Ministers and influences their decisions.\\nThe Prime Minister can ask any member to resign or recommend the President to remove any Minister.\\nList of all the Prime Ministers of India: Important Facts\\nNehru was the first Prime Minister of India. He was a key figure in the Indian independence movement and is considered the architect of modern India. He has the longest tenure as a prime minister with 16 years and 286 days in the office.\\nIndira Gandhi was the first woman Prime Minister of India.\\nCharan Singh was a peasant leader who is known for his pro-poor policies. He was the first Prime Minister to be elected from a rural constituency.\\nMorarji Desai was the first non-Congress Prime Minister of India. He was a staunch Hindu nationalist who is known for his economic reforms.\\nAt the age of 40, Rajiv Gandhi was the youngest Prime Minister of India. He was assassinated by a Sri Lankan suicide bomber in 1989.\\nIndira Ghandi has the most n0-confidence vote against her(15)\\nAlso, Read the following:\\nList of all Presidents of India List of Nicknames of Indian Prime Ministers\\n \"]"
      ]
     },
     "execution_count": 49,
     "metadata": {},
     "output_type": "execute_result"
    }
   ],
   "source": [
    "Name = []\n",
    "name = driver.find_elements(By.XPATH,'/html/body/div[1]/main/div[1]/div[1]/article/div[3]/div[11]')\n",
    "for i in name:\n",
    "    name=i.text\n",
    "    Name.append(name)\n",
    "Name"
   ]
  },
  {
   "cell_type": "code",
   "execution_count": 53,
   "id": "6e7371c0",
   "metadata": {},
   "outputs": [],
   "source": [
    "data=Name\n",
    "names = []\n",
    "born_dead = []\n",
    "term_of_office = []\n",
    "remarks = []"
   ]
  },
  {
   "cell_type": "code",
   "execution_count": 63,
   "id": "da0c12af",
   "metadata": {},
   "outputs": [
    {
     "name": "stdout",
     "output_type": "stream",
     "text": [
      "Name: of office\n",
      "Remark\n",
      "1.\n",
      "Jawahar Lal Nehru\n",
      "(1889–1964)\n",
      "15 August 1947 to 27 May 1964\n",
      "16 years, 286 days\n",
      "The first prime minister of India and the longest-serving PM of India, the first to die in office.\n",
      "2.\n",
      "Gulzarilal Nanda\n",
      "Born-Dead: 1889–1964\n",
      "Term of Office: and\n",
      "Remarks: first to resign from office\n",
      "7.\n",
      "Charan Singh\n",
      "(1902–1987)\n",
      "28 July 1979 to 14 January 1980\n",
      "170 days\n",
      "Only PM who did not face the Parliament\n",
      "8.\n",
      "Indira Gandhi\n",
      "(1917–1984)\n",
      "14 January 1980 to 31 October 1984\n",
      "4 years, 291 days\n",
      "The first lady who served as PM for the second term\n",
      "9.\n",
      "Rajiv Gandhi\n",
      "(1944–1991)\n",
      "31 October 1984 to 2 December 1989\n",
      "5 years, 32 days\n",
      "Youngest to become PM (40 years old)\n",
      "10.\n",
      "V. P. Singh\n",
      "(1931–2008)\n",
      "2 December 1989 to 10 November 1990\n",
      "343 days\n",
      "First PM to step down after a vote of no confidence\n",
      "11.\n",
      "Chandra Shekhar\n",
      "(1927–2007)\n",
      "10 November 1990 to 21 June 1991\n",
      "223 days\n",
      "He belongs to  Samajwadi Janata Party\n",
      "12.\n",
      "P. V. Narasimha Rao\n",
      "(1921–2004)\n",
      "21 June 1991 to 16 May 1996\n",
      "4 years, 330 days\n",
      "First PM from South India\n",
      "13.\n",
      "Atal Bihari Vajpayee\n",
      "(1924- 2018)\n",
      "16 May 1996 to 1 June 1996\n",
      "16 days\n",
      "PM for shortest tenure\n",
      "14.\n",
      "H. D. Deve Gowda\n",
      "(born 1933)\n",
      "1 June 1996 to 21 April 1997\n",
      "324 days\n",
      "He belongs to  Janata Dal\n",
      "15.\n",
      "Inder Kumar Gujral\n",
      "(1919–2012)\n",
      "21 April 1997 to 19 March 1998 \n",
      "332 days\n",
      "------\n",
      "16.\n",
      "Atal Bihari Vajpayee\n",
      "(1924-2018)\n",
      "19 March 1998 to 22 May 2004 \n",
      "6 years, 64 days\n",
      " The first non-congress PM who completed a full term as PM\n",
      "17.\n",
      "Manmohan Singh\n",
      "(born 1932)\n",
      "22 May 2004 to 26 May 2014   \n",
      "10 years, 4 days\n",
      " First Sikh PM\n",
      "18.\n",
      "Narendra Modi\n",
      "(born 1950)\n",
      "26 May 2014 - 2019\n",
      "4th Prime Minister of India who served two consecutive tenures\n",
      "19.\n",
      "Narendra Modi\n",
      "(born 1950)\n",
      "30 May 2019- Incumbent\n",
      "First non-congress PM with two consecutive tenures\n",
      "List of all the Prime Ministers of India: Important Points\n",
      "Article 75 of the Indian Constitution envisages that there will be a Prime Minister who shall be appointed by the President of India.\n",
      "Prime Minister is the leader of the Cabinet Ministers. The main executive powers of the government are vested in the Prime Minister while the President is the nominal head of the State.\n",
      "Article 78 of the Indian Constitution specifies the duties of the Prime Minister of India. He acts as a link between the President and Cabinet while discharging his duties.\n",
      "The Prime Minister of India determines the dates of its meetings and programmes for the Parliament session. He also decides when the House has to be prorogued or dissolved.\n",
      "As a chief spokesman, he makes the announcement of principal government policies and answers questions.\n",
      "Prime Minister (PM\n",
      "\n"
     ]
    }
   ],
   "source": [
    "for entry in data:\n",
    "    parts = entry.split(' ', 1)  # Split into index and the rest of the data\n",
    "    index = parts[0]\n",
    "    details = parts[1]\n",
    "\n",
    "    # Extract information using regular expressions or string manipulation\n",
    "    name = details.split(' (')[0]\n",
    "    born_dead_info = details.split('(')[1].split(')')[0]\n",
    "    term_office_remarks = details.split(') ')[1]\n",
    "\n",
    "    # Append the extracted information to respective lists\n",
    "    names.append(name)\n",
    "    born_dead.append(born_dead_info)\n",
    "    term_of_office.append(term_office_remarks.split(' ', 1)[0])\n",
    "    remarks.append(term_office_remarks.split(' ', 1)[1])\n",
    "\n",
    "# Print the results\n",
    "for i in range(len(data)):\n",
    "    print(f\"Name: {names[i]}\\nBorn-Dead: {born_dead[i]}\\nTerm of Office: {term_of_office[i]}\\nRemarks: {remarks[i]}\\n\")\n"
   ]
  },
  {
   "cell_type": "markdown",
   "id": "51ab5b4a",
   "metadata": {},
   "source": [
    "# 10.50 most expensive cars in the world\n"
   ]
  },
  {
   "cell_type": "code",
   "execution_count": 99,
   "id": "a1dd012f",
   "metadata": {},
   "outputs": [],
   "source": [
    "driver=webdriver.Chrome()"
   ]
  },
  {
   "cell_type": "code",
   "execution_count": 100,
   "id": "134f5828",
   "metadata": {},
   "outputs": [],
   "source": [
    "driver.get(\"https://www.motor1.com/\")"
   ]
  },
  {
   "cell_type": "code",
   "execution_count": 101,
   "id": "2c79e4fc",
   "metadata": {},
   "outputs": [],
   "source": [
    "search=driver.find_element(By.XPATH,\"/html/body/div[10]/div[2]/div/div/div[3]/div/div/div/form/input\")\n",
    "search.send_keys(\"50 most expensive cars\")\n",
    "search.submit()"
   ]
  },
  {
   "cell_type": "code",
   "execution_count": 102,
   "id": "1c5dc4ce",
   "metadata": {},
   "outputs": [],
   "source": [
    "click=driver.find_element(By.XPATH,\"/html/body/div[10]/div[9]/div/div[1]/div/div/div[2]/div/div[1]/h3/a\")\n",
    "click.click()"
   ]
  },
  {
   "cell_type": "code",
   "execution_count": 105,
   "id": "25c57d9d",
   "metadata": {},
   "outputs": [
    {
     "name": "stdout",
     "output_type": "stream",
     "text": [
      "['Aston Martin Valour', 'McLaren Elva', 'Czinger 21C', 'Ferrari Monza', 'Gordon Murray T.33', 'Koenigsegg Gemera', 'Zenvo TSR-S', 'Hennessey Venom F5', 'Bentley Bacalar', 'Hispano Suiza Carmen Boulogne', 'Bentley Mulliner Batur', 'Deus Vayanne', 'SSC Tuatara', 'Lotus Evija', 'Aston Martin Vulcan', 'Delage D12', 'Ferrari Daytona SP3', 'McLaren Speedtail', 'Rimac Nevera', 'Pagani Utopia', 'Pininfarina Battista', 'Gordon Murray T.50', 'Lamborghini Countach', 'Mercedes-AMG Project One', 'Zenvo Aurora', 'Aston Martin Victor', 'Hennessey Venom F5 Roadster', 'Koenigsegg Jesko', 'Aston Martin Valkyrie', 'W Motors Lykan Hypersport', 'McLaren Solus', 'Lamborghini Sian', 'Koenigsegg CC850', 'Bugatti Chiron Super Sport 300+', 'Lamborghini Veneno', 'Bugatti Bolide', 'Pininfarina B95 Speedster', 'Bugatti Mistral', 'Pagani Huayra Imola', 'Bugatti Divo', 'SP Automotive Chaos', 'Pagani Codalunga', '777 Hypercar', 'Mercedes-Maybach Exelero', 'Bugatti Centodieci', 'Bugatti Chiron Profilée', 'Rolls-Royce Sweptail', 'Bugatti La Voiture Noire', 'Rolls-Royce Boat Tail*', 'Rolls-Royce La Rose Noire Droptail']\n"
     ]
    },
    {
     "data": {
      "text/plain": [
       "50"
      ]
     },
     "execution_count": 105,
     "metadata": {},
     "output_type": "execute_result"
    }
   ],
   "source": [
    "Name=[]\n",
    "name=driver.find_elements(By.XPATH,'//h3[@class=\"subheader\"]')\n",
    "for i in name:\n",
    "    name=i.text\n",
    "    Name.append(name)\n",
    "    if len(Name)==50:\n",
    "        break\n",
    "print(Name)\n",
    "len(Name)"
   ]
  },
  {
   "cell_type": "code",
   "execution_count": 108,
   "id": "81d0a0fd",
   "metadata": {},
   "outputs": [
    {
     "name": "stdout",
     "output_type": "stream",
     "text": [
      "['Price: $1.5 Million', 'Price: $1.7 Million', 'Price: $1.7 Million', 'Price: $1.7 Million', 'Price: $1.7 Million', 'Price: $1.7 Million', 'Price: $1.7 Million', 'Price: $1.8 Million', 'Price: $1.9 Million', 'Price: $1.9 Million', 'Price: $2.0 Million', 'Price: $2.0 Million', 'Price: $2.0 Million', 'Price: $2.1 Million', 'Price: $2.3 Million', 'Price: $2.3 Million', 'Price: $2.3 Million', 'Price: $2.3 Million', 'Price: $2.4 Million', 'Price: $2.5 Million', 'Price: $2.5 Million', 'Price: $2.6 Million', 'Price: $2.6 Million', 'Price: $2.7 Million', 'Price: $2.8 Million', 'Price: $3.0 Million', '$3.0 Million', 'Price: $3.0 Million', 'Price: $3.2 Million', 'Price: $3.4 Million', '$3.5 Million', 'Price: $3.6 million', 'Price: $3.7 Million', 'Price: $3.9 Million', 'Price: $4.5 Million', 'Price: $4.7 Million', 'Price: $4.8 Million', 'Price: $5.0 Million', 'Price: $5.4 Million', 'Price: $5.8 Million', 'Price: $6.4 Million', 'Price: $7.4 Million', 'Price: $7.5 Million', 'Price: $8.0 Million', 'Price: $9.0 Million', 'Price: $10.8 Million', 'Price: $12.8 Million', 'Price: $13.4 Million', 'Price: $28.0 Million (est.)', 'Price: $30 Million (est.)']\n"
     ]
    },
    {
     "data": {
      "text/plain": [
       "50"
      ]
     },
     "execution_count": 108,
     "metadata": {},
     "output_type": "execute_result"
    }
   ],
   "source": [
    "Price=[]\n",
    "price=driver.find_elements(By.XPATH,'/html/body/div[10]/div[7]/div[2]/div[1]/div[2]/div[2]/p/strong')\n",
    "for i in price:\n",
    "    price=i.text\n",
    "    Price.append(price)\n",
    "    if len(Price)==50:\n",
    "        break\n",
    "print(Price)\n",
    "len(Price)"
   ]
  },
  {
   "cell_type": "code",
   "execution_count": 110,
   "id": "4d83f2c3",
   "metadata": {},
   "outputs": [
    {
     "data": {
      "text/html": [
       "<div>\n",
       "<style scoped>\n",
       "    .dataframe tbody tr th:only-of-type {\n",
       "        vertical-align: middle;\n",
       "    }\n",
       "\n",
       "    .dataframe tbody tr th {\n",
       "        vertical-align: top;\n",
       "    }\n",
       "\n",
       "    .dataframe thead th {\n",
       "        text-align: right;\n",
       "    }\n",
       "</style>\n",
       "<table border=\"1\" class=\"dataframe\">\n",
       "  <thead>\n",
       "    <tr style=\"text-align: right;\">\n",
       "      <th></th>\n",
       "      <th>Car Name</th>\n",
       "      <th>Price</th>\n",
       "    </tr>\n",
       "  </thead>\n",
       "  <tbody>\n",
       "    <tr>\n",
       "      <th>0</th>\n",
       "      <td>Aston Martin Valour</td>\n",
       "      <td>Price: $1.5 Million</td>\n",
       "    </tr>\n",
       "    <tr>\n",
       "      <th>1</th>\n",
       "      <td>McLaren Elva</td>\n",
       "      <td>Price: $1.7 Million</td>\n",
       "    </tr>\n",
       "    <tr>\n",
       "      <th>2</th>\n",
       "      <td>Czinger 21C</td>\n",
       "      <td>Price: $1.7 Million</td>\n",
       "    </tr>\n",
       "    <tr>\n",
       "      <th>3</th>\n",
       "      <td>Ferrari Monza</td>\n",
       "      <td>Price: $1.7 Million</td>\n",
       "    </tr>\n",
       "    <tr>\n",
       "      <th>4</th>\n",
       "      <td>Gordon Murray T.33</td>\n",
       "      <td>Price: $1.7 Million</td>\n",
       "    </tr>\n",
       "    <tr>\n",
       "      <th>5</th>\n",
       "      <td>Koenigsegg Gemera</td>\n",
       "      <td>Price: $1.7 Million</td>\n",
       "    </tr>\n",
       "    <tr>\n",
       "      <th>6</th>\n",
       "      <td>Zenvo TSR-S</td>\n",
       "      <td>Price: $1.7 Million</td>\n",
       "    </tr>\n",
       "    <tr>\n",
       "      <th>7</th>\n",
       "      <td>Hennessey Venom F5</td>\n",
       "      <td>Price: $1.8 Million</td>\n",
       "    </tr>\n",
       "    <tr>\n",
       "      <th>8</th>\n",
       "      <td>Bentley Bacalar</td>\n",
       "      <td>Price: $1.9 Million</td>\n",
       "    </tr>\n",
       "    <tr>\n",
       "      <th>9</th>\n",
       "      <td>Hispano Suiza Carmen Boulogne</td>\n",
       "      <td>Price: $1.9 Million</td>\n",
       "    </tr>\n",
       "    <tr>\n",
       "      <th>10</th>\n",
       "      <td>Bentley Mulliner Batur</td>\n",
       "      <td>Price: $2.0 Million</td>\n",
       "    </tr>\n",
       "    <tr>\n",
       "      <th>11</th>\n",
       "      <td>Deus Vayanne</td>\n",
       "      <td>Price: $2.0 Million</td>\n",
       "    </tr>\n",
       "    <tr>\n",
       "      <th>12</th>\n",
       "      <td>SSC Tuatara</td>\n",
       "      <td>Price: $2.0 Million</td>\n",
       "    </tr>\n",
       "    <tr>\n",
       "      <th>13</th>\n",
       "      <td>Lotus Evija</td>\n",
       "      <td>Price: $2.1 Million</td>\n",
       "    </tr>\n",
       "    <tr>\n",
       "      <th>14</th>\n",
       "      <td>Aston Martin Vulcan</td>\n",
       "      <td>Price: $2.3 Million</td>\n",
       "    </tr>\n",
       "    <tr>\n",
       "      <th>15</th>\n",
       "      <td>Delage D12</td>\n",
       "      <td>Price: $2.3 Million</td>\n",
       "    </tr>\n",
       "    <tr>\n",
       "      <th>16</th>\n",
       "      <td>Ferrari Daytona SP3</td>\n",
       "      <td>Price: $2.3 Million</td>\n",
       "    </tr>\n",
       "    <tr>\n",
       "      <th>17</th>\n",
       "      <td>McLaren Speedtail</td>\n",
       "      <td>Price: $2.3 Million</td>\n",
       "    </tr>\n",
       "    <tr>\n",
       "      <th>18</th>\n",
       "      <td>Rimac Nevera</td>\n",
       "      <td>Price: $2.4 Million</td>\n",
       "    </tr>\n",
       "    <tr>\n",
       "      <th>19</th>\n",
       "      <td>Pagani Utopia</td>\n",
       "      <td>Price: $2.5 Million</td>\n",
       "    </tr>\n",
       "    <tr>\n",
       "      <th>20</th>\n",
       "      <td>Pininfarina Battista</td>\n",
       "      <td>Price: $2.5 Million</td>\n",
       "    </tr>\n",
       "    <tr>\n",
       "      <th>21</th>\n",
       "      <td>Gordon Murray T.50</td>\n",
       "      <td>Price: $2.6 Million</td>\n",
       "    </tr>\n",
       "    <tr>\n",
       "      <th>22</th>\n",
       "      <td>Lamborghini Countach</td>\n",
       "      <td>Price: $2.6 Million</td>\n",
       "    </tr>\n",
       "    <tr>\n",
       "      <th>23</th>\n",
       "      <td>Mercedes-AMG Project One</td>\n",
       "      <td>Price: $2.7 Million</td>\n",
       "    </tr>\n",
       "    <tr>\n",
       "      <th>24</th>\n",
       "      <td>Zenvo Aurora</td>\n",
       "      <td>Price: $2.8 Million</td>\n",
       "    </tr>\n",
       "    <tr>\n",
       "      <th>25</th>\n",
       "      <td>Aston Martin Victor</td>\n",
       "      <td>Price: $3.0 Million</td>\n",
       "    </tr>\n",
       "    <tr>\n",
       "      <th>26</th>\n",
       "      <td>Hennessey Venom F5 Roadster</td>\n",
       "      <td>$3.0 Million</td>\n",
       "    </tr>\n",
       "    <tr>\n",
       "      <th>27</th>\n",
       "      <td>Koenigsegg Jesko</td>\n",
       "      <td>Price: $3.0 Million</td>\n",
       "    </tr>\n",
       "    <tr>\n",
       "      <th>28</th>\n",
       "      <td>Aston Martin Valkyrie</td>\n",
       "      <td>Price: $3.2 Million</td>\n",
       "    </tr>\n",
       "    <tr>\n",
       "      <th>29</th>\n",
       "      <td>W Motors Lykan Hypersport</td>\n",
       "      <td>Price: $3.4 Million</td>\n",
       "    </tr>\n",
       "    <tr>\n",
       "      <th>30</th>\n",
       "      <td>McLaren Solus</td>\n",
       "      <td>$3.5 Million</td>\n",
       "    </tr>\n",
       "    <tr>\n",
       "      <th>31</th>\n",
       "      <td>Lamborghini Sian</td>\n",
       "      <td>Price: $3.6 million</td>\n",
       "    </tr>\n",
       "    <tr>\n",
       "      <th>32</th>\n",
       "      <td>Koenigsegg CC850</td>\n",
       "      <td>Price: $3.7 Million</td>\n",
       "    </tr>\n",
       "    <tr>\n",
       "      <th>33</th>\n",
       "      <td>Bugatti Chiron Super Sport 300+</td>\n",
       "      <td>Price: $3.9 Million</td>\n",
       "    </tr>\n",
       "    <tr>\n",
       "      <th>34</th>\n",
       "      <td>Lamborghini Veneno</td>\n",
       "      <td>Price: $4.5 Million</td>\n",
       "    </tr>\n",
       "    <tr>\n",
       "      <th>35</th>\n",
       "      <td>Bugatti Bolide</td>\n",
       "      <td>Price: $4.7 Million</td>\n",
       "    </tr>\n",
       "    <tr>\n",
       "      <th>36</th>\n",
       "      <td>Pininfarina B95 Speedster</td>\n",
       "      <td>Price: $4.8 Million</td>\n",
       "    </tr>\n",
       "    <tr>\n",
       "      <th>37</th>\n",
       "      <td>Bugatti Mistral</td>\n",
       "      <td>Price: $5.0 Million</td>\n",
       "    </tr>\n",
       "    <tr>\n",
       "      <th>38</th>\n",
       "      <td>Pagani Huayra Imola</td>\n",
       "      <td>Price: $5.4 Million</td>\n",
       "    </tr>\n",
       "    <tr>\n",
       "      <th>39</th>\n",
       "      <td>Bugatti Divo</td>\n",
       "      <td>Price: $5.8 Million</td>\n",
       "    </tr>\n",
       "    <tr>\n",
       "      <th>40</th>\n",
       "      <td>SP Automotive Chaos</td>\n",
       "      <td>Price: $6.4 Million</td>\n",
       "    </tr>\n",
       "    <tr>\n",
       "      <th>41</th>\n",
       "      <td>Pagani Codalunga</td>\n",
       "      <td>Price: $7.4 Million</td>\n",
       "    </tr>\n",
       "    <tr>\n",
       "      <th>42</th>\n",
       "      <td>777 Hypercar</td>\n",
       "      <td>Price: $7.5 Million</td>\n",
       "    </tr>\n",
       "    <tr>\n",
       "      <th>43</th>\n",
       "      <td>Mercedes-Maybach Exelero</td>\n",
       "      <td>Price: $8.0 Million</td>\n",
       "    </tr>\n",
       "    <tr>\n",
       "      <th>44</th>\n",
       "      <td>Bugatti Centodieci</td>\n",
       "      <td>Price: $9.0 Million</td>\n",
       "    </tr>\n",
       "    <tr>\n",
       "      <th>45</th>\n",
       "      <td>Bugatti Chiron Profilée</td>\n",
       "      <td>Price: $10.8 Million</td>\n",
       "    </tr>\n",
       "    <tr>\n",
       "      <th>46</th>\n",
       "      <td>Rolls-Royce Sweptail</td>\n",
       "      <td>Price: $12.8 Million</td>\n",
       "    </tr>\n",
       "    <tr>\n",
       "      <th>47</th>\n",
       "      <td>Bugatti La Voiture Noire</td>\n",
       "      <td>Price: $13.4 Million</td>\n",
       "    </tr>\n",
       "    <tr>\n",
       "      <th>48</th>\n",
       "      <td>Rolls-Royce Boat Tail*</td>\n",
       "      <td>Price: $28.0 Million (est.)</td>\n",
       "    </tr>\n",
       "    <tr>\n",
       "      <th>49</th>\n",
       "      <td>Rolls-Royce La Rose Noire Droptail</td>\n",
       "      <td>Price: $30 Million (est.)</td>\n",
       "    </tr>\n",
       "  </tbody>\n",
       "</table>\n",
       "</div>"
      ],
      "text/plain": [
       "                              Car Name                        Price\n",
       "0                  Aston Martin Valour          Price: $1.5 Million\n",
       "1                         McLaren Elva          Price: $1.7 Million\n",
       "2                          Czinger 21C          Price: $1.7 Million\n",
       "3                        Ferrari Monza          Price: $1.7 Million\n",
       "4                   Gordon Murray T.33          Price: $1.7 Million\n",
       "5                    Koenigsegg Gemera          Price: $1.7 Million\n",
       "6                          Zenvo TSR-S          Price: $1.7 Million\n",
       "7                   Hennessey Venom F5          Price: $1.8 Million\n",
       "8                      Bentley Bacalar          Price: $1.9 Million\n",
       "9        Hispano Suiza Carmen Boulogne          Price: $1.9 Million\n",
       "10              Bentley Mulliner Batur          Price: $2.0 Million\n",
       "11                        Deus Vayanne          Price: $2.0 Million\n",
       "12                         SSC Tuatara          Price: $2.0 Million\n",
       "13                         Lotus Evija          Price: $2.1 Million\n",
       "14                 Aston Martin Vulcan          Price: $2.3 Million\n",
       "15                          Delage D12          Price: $2.3 Million\n",
       "16                 Ferrari Daytona SP3          Price: $2.3 Million\n",
       "17                   McLaren Speedtail          Price: $2.3 Million\n",
       "18                        Rimac Nevera          Price: $2.4 Million\n",
       "19                       Pagani Utopia          Price: $2.5 Million\n",
       "20                Pininfarina Battista          Price: $2.5 Million\n",
       "21                  Gordon Murray T.50          Price: $2.6 Million\n",
       "22                Lamborghini Countach          Price: $2.6 Million\n",
       "23            Mercedes-AMG Project One          Price: $2.7 Million\n",
       "24                        Zenvo Aurora          Price: $2.8 Million\n",
       "25                 Aston Martin Victor          Price: $3.0 Million\n",
       "26         Hennessey Venom F5 Roadster                 $3.0 Million\n",
       "27                    Koenigsegg Jesko          Price: $3.0 Million\n",
       "28               Aston Martin Valkyrie          Price: $3.2 Million\n",
       "29           W Motors Lykan Hypersport          Price: $3.4 Million\n",
       "30                       McLaren Solus                 $3.5 Million\n",
       "31                    Lamborghini Sian          Price: $3.6 million\n",
       "32                    Koenigsegg CC850          Price: $3.7 Million\n",
       "33     Bugatti Chiron Super Sport 300+          Price: $3.9 Million\n",
       "34                  Lamborghini Veneno          Price: $4.5 Million\n",
       "35                      Bugatti Bolide          Price: $4.7 Million\n",
       "36           Pininfarina B95 Speedster          Price: $4.8 Million\n",
       "37                     Bugatti Mistral          Price: $5.0 Million\n",
       "38                 Pagani Huayra Imola          Price: $5.4 Million\n",
       "39                        Bugatti Divo          Price: $5.8 Million\n",
       "40                 SP Automotive Chaos          Price: $6.4 Million\n",
       "41                    Pagani Codalunga          Price: $7.4 Million\n",
       "42                        777 Hypercar          Price: $7.5 Million\n",
       "43            Mercedes-Maybach Exelero          Price: $8.0 Million\n",
       "44                  Bugatti Centodieci          Price: $9.0 Million\n",
       "45             Bugatti Chiron Profilée         Price: $10.8 Million\n",
       "46                Rolls-Royce Sweptail         Price: $12.8 Million\n",
       "47            Bugatti La Voiture Noire         Price: $13.4 Million\n",
       "48              Rolls-Royce Boat Tail*  Price: $28.0 Million (est.)\n",
       "49  Rolls-Royce La Rose Noire Droptail    Price: $30 Million (est.)"
      ]
     },
     "execution_count": 110,
     "metadata": {},
     "output_type": "execute_result"
    }
   ],
   "source": [
    "df=pd.DataFrame({\"Car Name\":Name,\"Price\":Price})\n",
    "df"
   ]
  },
  {
   "cell_type": "code",
   "execution_count": null,
   "id": "c5ed5435",
   "metadata": {},
   "outputs": [],
   "source": []
  }
 ],
 "metadata": {
  "kernelspec": {
   "display_name": "Python 3 (ipykernel)",
   "language": "python",
   "name": "python3"
  },
  "language_info": {
   "codemirror_mode": {
    "name": "ipython",
    "version": 3
   },
   "file_extension": ".py",
   "mimetype": "text/x-python",
   "name": "python",
   "nbconvert_exporter": "python",
   "pygments_lexer": "ipython3",
   "version": "3.11.3"
  }
 },
 "nbformat": 4,
 "nbformat_minor": 5
}
